{
 "cells": [
  {
   "cell_type": "code",
   "execution_count": 1,
   "id": "46b7a5f6",
   "metadata": {
    "_cell_guid": "b1076dfc-b9ad-4769-8c92-a6c4dae69d19",
    "_uuid": "8f2839f25d086af736a60e9eeb907d3b93b6e0e5",
    "execution": {
     "iopub.execute_input": "2025-01-01T16:53:25.051797Z",
     "iopub.status.busy": "2025-01-01T16:53:25.051498Z",
     "iopub.status.idle": "2025-01-01T16:53:25.773938Z",
     "shell.execute_reply": "2025-01-01T16:53:25.772908Z"
    },
    "papermill": {
     "duration": 0.74721,
     "end_time": "2025-01-01T16:53:25.775292",
     "exception": false,
     "start_time": "2025-01-01T16:53:25.028082",
     "status": "completed"
    },
    "tags": []
   },
   "outputs": [
    {
     "name": "stdout",
     "output_type": "stream",
     "text": [
      "/kaggle/input/pubmed-200k-rtc/PubMed_200k_RCT_numbers_replaced_with_at_sign/dev.csv\n",
      "/kaggle/input/pubmed-200k-rtc/PubMed_200k_RCT_numbers_replaced_with_at_sign/test.txt\n",
      "/kaggle/input/pubmed-200k-rtc/PubMed_200k_RCT_numbers_replaced_with_at_sign/dev.txt\n",
      "/kaggle/input/pubmed-200k-rtc/PubMed_200k_RCT_numbers_replaced_with_at_sign/train.csv\n",
      "/kaggle/input/pubmed-200k-rtc/PubMed_200k_RCT_numbers_replaced_with_at_sign/test.csv\n",
      "/kaggle/input/pubmed-200k-rtc/PubMed_200k_RCT_numbers_replaced_with_at_sign/train/train.txt\n",
      "/kaggle/input/pubmed-200k-rtc/PubMed_200k_RCT/dev.csv\n",
      "/kaggle/input/pubmed-200k-rtc/PubMed_200k_RCT/test.txt\n",
      "/kaggle/input/pubmed-200k-rtc/PubMed_200k_RCT/dev.txt\n",
      "/kaggle/input/pubmed-200k-rtc/PubMed_200k_RCT/train.csv\n",
      "/kaggle/input/pubmed-200k-rtc/PubMed_200k_RCT/test.csv\n",
      "/kaggle/input/pubmed-200k-rtc/PubMed_200k_RCT/train/train.txt\n",
      "/kaggle/input/pubmed-200k-rtc/PubMed_20k_RCT/dev.csv\n",
      "/kaggle/input/pubmed-200k-rtc/PubMed_20k_RCT/test.txt\n",
      "/kaggle/input/pubmed-200k-rtc/PubMed_20k_RCT/train.txt\n",
      "/kaggle/input/pubmed-200k-rtc/PubMed_20k_RCT/dev.txt\n",
      "/kaggle/input/pubmed-200k-rtc/PubMed_20k_RCT/train.csv\n",
      "/kaggle/input/pubmed-200k-rtc/PubMed_20k_RCT/test.csv\n",
      "/kaggle/input/pubmed-200k-rtc/PubMed_20k_RCT_numbers_replaced_with_at_sign/dev.csv\n",
      "/kaggle/input/pubmed-200k-rtc/PubMed_20k_RCT_numbers_replaced_with_at_sign/test.txt\n",
      "/kaggle/input/pubmed-200k-rtc/PubMed_20k_RCT_numbers_replaced_with_at_sign/train.txt\n",
      "/kaggle/input/pubmed-200k-rtc/PubMed_20k_RCT_numbers_replaced_with_at_sign/dev.txt\n",
      "/kaggle/input/pubmed-200k-rtc/PubMed_20k_RCT_numbers_replaced_with_at_sign/train.csv\n",
      "/kaggle/input/pubmed-200k-rtc/PubMed_20k_RCT_numbers_replaced_with_at_sign/test.csv\n"
     ]
    }
   ],
   "source": [
    "# This Python 3 environment comes with many helpful analytics libraries installed\n",
    "# It is defined by the kaggle/python Docker image: https://github.com/kaggle/docker-python\n",
    "# For example, here's several helpful packages to load\n",
    "\n",
    "import numpy as np # linear algebra\n",
    "import pandas as pd # data processing, CSV file I/O (e.g. pd.read_csv)\n",
    "\n",
    "# Input data files are available in the read-only \"../input/\" directory\n",
    "# For example, running this (by clicking run or pressing Shift+Enter) will list all files under the input directory\n",
    "\n",
    "import os\n",
    "for dirname, _, filenames in os.walk('/kaggle/input'):\n",
    "    for filename in filenames:\n",
    "        print(os.path.join(dirname, filename))\n",
    "\n",
    "# You can write up to 20GB to the current directory (/kaggle/working/) that gets preserved as output when you create a version using \"Save & Run All\" \n",
    "# You can also write temporary files to /kaggle/temp/, but they won't be saved outside of the current session"
   ]
  },
  {
   "cell_type": "markdown",
   "id": "f4ccd513",
   "metadata": {
    "papermill": {
     "duration": 0.018685,
     "end_time": "2025-01-01T16:53:25.814147",
     "exception": false,
     "start_time": "2025-01-01T16:53:25.795462",
     "status": "completed"
    },
    "tags": []
   },
   "source": [
    "# Sequential Sentence classification using RNNs.\n",
    "\n",
    "We here replicating the pub_med_rct_200K research paper, The dataset given is also from that research paper. \n",
    "Here we are going to write lots of code and lots of models for experimentation which give best results will be choosen. \n",
    "\n",
    "The Paper is : https://arxiv.org/abs/1710.06071\n",
    "\n",
    "So lets starts "
   ]
  },
  {
   "cell_type": "markdown",
   "id": "a2d76185",
   "metadata": {
    "papermill": {
     "duration": 0.018255,
     "end_time": "2025-01-01T16:53:25.850958",
     "exception": false,
     "start_time": "2025-01-01T16:53:25.832703",
     "status": "completed"
    },
    "tags": []
   },
   "source": [
    "## 1. Confirm the Access to a GPU"
   ]
  },
  {
   "cell_type": "code",
   "execution_count": 2,
   "id": "1291a9af",
   "metadata": {
    "execution": {
     "iopub.execute_input": "2025-01-01T16:53:25.889034Z",
     "iopub.status.busy": "2025-01-01T16:53:25.888596Z",
     "iopub.status.idle": "2025-01-01T16:53:26.122254Z",
     "shell.execute_reply": "2025-01-01T16:53:26.121400Z"
    },
    "papermill": {
     "duration": 0.254457,
     "end_time": "2025-01-01T16:53:26.123784",
     "exception": false,
     "start_time": "2025-01-01T16:53:25.869327",
     "status": "completed"
    },
    "tags": []
   },
   "outputs": [
    {
     "name": "stdout",
     "output_type": "stream",
     "text": [
      "Wed Jan  1 16:53:25 2025       \r\n",
      "+-----------------------------------------------------------------------------------------+\r\n",
      "| NVIDIA-SMI 560.35.03              Driver Version: 560.35.03      CUDA Version: 12.6     |\r\n",
      "|-----------------------------------------+------------------------+----------------------+\r\n",
      "| GPU  Name                 Persistence-M | Bus-Id          Disp.A | Volatile Uncorr. ECC |\r\n",
      "| Fan  Temp   Perf          Pwr:Usage/Cap |           Memory-Usage | GPU-Util  Compute M. |\r\n",
      "|                                         |                        |               MIG M. |\r\n",
      "|=========================================+========================+======================|\r\n",
      "|   0  Tesla T4                       Off |   00000000:00:04.0 Off |                    0 |\r\n",
      "| N/A   37C    P8             10W /   70W |       1MiB /  15360MiB |      0%      Default |\r\n",
      "|                                         |                        |                  N/A |\r\n",
      "+-----------------------------------------+------------------------+----------------------+\r\n",
      "|   1  Tesla T4                       Off |   00000000:00:05.0 Off |                    0 |\r\n",
      "| N/A   39C    P8             10W /   70W |       1MiB /  15360MiB |      0%      Default |\r\n",
      "|                                         |                        |                  N/A |\r\n",
      "+-----------------------------------------+------------------------+----------------------+\r\n",
      "                                                                                         \r\n",
      "+-----------------------------------------------------------------------------------------+\r\n",
      "| Processes:                                                                              |\r\n",
      "|  GPU   GI   CI        PID   Type   Process name                              GPU Memory |\r\n",
      "|        ID   ID                                                               Usage      |\r\n",
      "|=========================================================================================|\r\n",
      "|  No running processes found                                                             |\r\n",
      "+-----------------------------------------------------------------------------------------+\r\n"
     ]
    }
   ],
   "source": [
    "!nvidia-smi"
   ]
  },
  {
   "cell_type": "markdown",
   "id": "3ceca3a9",
   "metadata": {
    "papermill": {
     "duration": 0.018616,
     "end_time": "2025-01-01T16:53:26.162808",
     "exception": false,
     "start_time": "2025-01-01T16:53:26.144192",
     "status": "completed"
    },
    "tags": []
   },
   "source": [
    "## 2. Data Collection(load dataset) \n",
    "We will be using 200k dataset with at_sign because numbers in dataset are replaced by @ in dataset."
   ]
  },
  {
   "cell_type": "code",
   "execution_count": 3,
   "id": "8e82cd9f",
   "metadata": {
    "execution": {
     "iopub.execute_input": "2025-01-01T16:53:26.200809Z",
     "iopub.status.busy": "2025-01-01T16:53:26.200453Z",
     "iopub.status.idle": "2025-01-01T16:53:26.321634Z",
     "shell.execute_reply": "2025-01-01T16:53:26.320773Z"
    },
    "papermill": {
     "duration": 0.142138,
     "end_time": "2025-01-01T16:53:26.323334",
     "exception": false,
     "start_time": "2025-01-01T16:53:26.181196",
     "status": "completed"
    },
    "tags": []
   },
   "outputs": [
    {
     "name": "stdout",
     "output_type": "stream",
     "text": [
      "dev.csv  dev.txt  test.csv  test.txt  train.csv  train.txt\r\n"
     ]
    }
   ],
   "source": [
    "!ls /kaggle/input/pubmed-200k-rtc/PubMed_20k_RCT_numbers_replaced_with_at_sign"
   ]
  },
  {
   "cell_type": "code",
   "execution_count": 4,
   "id": "db17b2f4",
   "metadata": {
    "execution": {
     "iopub.execute_input": "2025-01-01T16:53:26.361810Z",
     "iopub.status.busy": "2025-01-01T16:53:26.361521Z",
     "iopub.status.idle": "2025-01-01T16:53:26.364899Z",
     "shell.execute_reply": "2025-01-01T16:53:26.364308Z"
    },
    "papermill": {
     "duration": 0.023671,
     "end_time": "2025-01-01T16:53:26.366147",
     "exception": false,
     "start_time": "2025-01-01T16:53:26.342476",
     "status": "completed"
    },
    "tags": []
   },
   "outputs": [],
   "source": [
    "# Data dir\n",
    "train_dir='/kaggle/input/pubmed-200k-rtc/PubMed_20k_RCT_numbers_replaced_with_at_sign/train.csv'\n",
    "val_dir='/kaggle/input/pubmed-200k-rtc/PubMed_20k_RCT_numbers_replaced_with_at_sign/dev.csv'\n",
    "test_dir='/kaggle/input/pubmed-200k-rtc/PubMed_20k_RCT_numbers_replaced_with_at_sign/test.csv'"
   ]
  },
  {
   "cell_type": "code",
   "execution_count": 5,
   "id": "c260837c",
   "metadata": {
    "execution": {
     "iopub.execute_input": "2025-01-01T16:53:26.403775Z",
     "iopub.status.busy": "2025-01-01T16:53:26.403530Z",
     "iopub.status.idle": "2025-01-01T16:53:27.757072Z",
     "shell.execute_reply": "2025-01-01T16:53:27.756255Z"
    },
    "papermill": {
     "duration": 1.374024,
     "end_time": "2025-01-01T16:53:27.758632",
     "exception": false,
     "start_time": "2025-01-01T16:53:26.384608",
     "status": "completed"
    },
    "tags": []
   },
   "outputs": [
    {
     "data": {
      "text/html": [
       "<div>\n",
       "<style scoped>\n",
       "    .dataframe tbody tr th:only-of-type {\n",
       "        vertical-align: middle;\n",
       "    }\n",
       "\n",
       "    .dataframe tbody tr th {\n",
       "        vertical-align: top;\n",
       "    }\n",
       "\n",
       "    .dataframe thead th {\n",
       "        text-align: right;\n",
       "    }\n",
       "</style>\n",
       "<table border=\"1\" class=\"dataframe\">\n",
       "  <thead>\n",
       "    <tr style=\"text-align: right;\">\n",
       "      <th></th>\n",
       "      <th>abstract_id</th>\n",
       "      <th>line_id</th>\n",
       "      <th>abstract_text</th>\n",
       "      <th>line_number</th>\n",
       "      <th>total_lines</th>\n",
       "      <th>target</th>\n",
       "    </tr>\n",
       "  </thead>\n",
       "  <tbody>\n",
       "    <tr>\n",
       "      <th>0</th>\n",
       "      <td>24293578</td>\n",
       "      <td>24293578_0_12</td>\n",
       "      <td>To investigate the efficacy of @ weeks of dail...</td>\n",
       "      <td>0</td>\n",
       "      <td>12</td>\n",
       "      <td>OBJECTIVE</td>\n",
       "    </tr>\n",
       "    <tr>\n",
       "      <th>1</th>\n",
       "      <td>24293578</td>\n",
       "      <td>24293578_1_12</td>\n",
       "      <td>A total of @ patients with primary knee OA wer...</td>\n",
       "      <td>1</td>\n",
       "      <td>12</td>\n",
       "      <td>METHODS</td>\n",
       "    </tr>\n",
       "    <tr>\n",
       "      <th>2</th>\n",
       "      <td>24293578</td>\n",
       "      <td>24293578_2_12</td>\n",
       "      <td>Outcome measures included pain reduction and i...</td>\n",
       "      <td>2</td>\n",
       "      <td>12</td>\n",
       "      <td>METHODS</td>\n",
       "    </tr>\n",
       "    <tr>\n",
       "      <th>3</th>\n",
       "      <td>24293578</td>\n",
       "      <td>24293578_3_12</td>\n",
       "      <td>Pain was assessed using the visual analog pain...</td>\n",
       "      <td>3</td>\n",
       "      <td>12</td>\n",
       "      <td>METHODS</td>\n",
       "    </tr>\n",
       "    <tr>\n",
       "      <th>4</th>\n",
       "      <td>24293578</td>\n",
       "      <td>24293578_4_12</td>\n",
       "      <td>Secondary outcome measures included the Wester...</td>\n",
       "      <td>4</td>\n",
       "      <td>12</td>\n",
       "      <td>METHODS</td>\n",
       "    </tr>\n",
       "  </tbody>\n",
       "</table>\n",
       "</div>"
      ],
      "text/plain": [
       "   abstract_id        line_id  \\\n",
       "0     24293578  24293578_0_12   \n",
       "1     24293578  24293578_1_12   \n",
       "2     24293578  24293578_2_12   \n",
       "3     24293578  24293578_3_12   \n",
       "4     24293578  24293578_4_12   \n",
       "\n",
       "                                       abstract_text  line_number  \\\n",
       "0  To investigate the efficacy of @ weeks of dail...            0   \n",
       "1  A total of @ patients with primary knee OA wer...            1   \n",
       "2  Outcome measures included pain reduction and i...            2   \n",
       "3  Pain was assessed using the visual analog pain...            3   \n",
       "4  Secondary outcome measures included the Wester...            4   \n",
       "\n",
       "   total_lines     target  \n",
       "0           12  OBJECTIVE  \n",
       "1           12    METHODS  \n",
       "2           12    METHODS  \n",
       "3           12    METHODS  \n",
       "4           12    METHODS  "
      ]
     },
     "execution_count": 5,
     "metadata": {},
     "output_type": "execute_result"
    }
   ],
   "source": [
    "import pandas as pd\n",
    "\n",
    "train_df=pd.read_csv(train_dir)\n",
    "val_df=pd.read_csv(val_dir)\n",
    "test_df=pd.read_csv(test_dir)\n",
    "\n",
    "train_df.head()"
   ]
  },
  {
   "cell_type": "code",
   "execution_count": 6,
   "id": "627a16e0",
   "metadata": {
    "execution": {
     "iopub.execute_input": "2025-01-01T16:53:27.797556Z",
     "iopub.status.busy": "2025-01-01T16:53:27.797323Z",
     "iopub.status.idle": "2025-01-01T16:53:27.815961Z",
     "shell.execute_reply": "2025-01-01T16:53:27.815216Z"
    },
    "papermill": {
     "duration": 0.039188,
     "end_time": "2025-01-01T16:53:27.817184",
     "exception": false,
     "start_time": "2025-01-01T16:53:27.777996",
     "status": "completed"
    },
    "tags": []
   },
   "outputs": [
    {
     "data": {
      "text/plain": [
       "target\n",
       "METHODS        59353\n",
       "RESULTS        57953\n",
       "CONCLUSIONS    27168\n",
       "BACKGROUND     21727\n",
       "OBJECTIVE      13839\n",
       "Name: count, dtype: int64"
      ]
     },
     "execution_count": 6,
     "metadata": {},
     "output_type": "execute_result"
    }
   ],
   "source": [
    "#Distribution of labels\n",
    "train_df.target.value_counts()"
   ]
  },
  {
   "cell_type": "code",
   "execution_count": 7,
   "id": "90cb02bd",
   "metadata": {
    "execution": {
     "iopub.execute_input": "2025-01-01T16:53:27.855426Z",
     "iopub.status.busy": "2025-01-01T16:53:27.855220Z",
     "iopub.status.idle": "2025-01-01T16:53:28.139218Z",
     "shell.execute_reply": "2025-01-01T16:53:28.138341Z"
    },
    "papermill": {
     "duration": 0.304814,
     "end_time": "2025-01-01T16:53:28.140559",
     "exception": false,
     "start_time": "2025-01-01T16:53:27.835745",
     "status": "completed"
    },
    "tags": []
   },
   "outputs": [
    {
     "data": {
      "text/plain": [
       "<Axes: ylabel='Frequency'>"
      ]
     },
     "execution_count": 7,
     "metadata": {},
     "output_type": "execute_result"
    },
    {
     "data": {
      "image/png": "[encoded data removed]",
      "text/plain": [
       "<Figure size 640x480 with 1 Axes>"
      ]
     },
     "metadata": {},
     "output_type": "display_data"
    }
   ],
   "source": [
    "#Lets length of different lines\n",
    "train_df.total_lines.plot.hist()"
   ]
  },
  {
   "cell_type": "code",
   "execution_count": 8,
   "id": "03f5c30a",
   "metadata": {
    "execution": {
     "iopub.execute_input": "2025-01-01T16:53:28.180824Z",
     "iopub.status.busy": "2025-01-01T16:53:28.180550Z",
     "iopub.status.idle": "2025-01-01T16:53:28.228344Z",
     "shell.execute_reply": "2025-01-01T16:53:28.227686Z"
    },
    "papermill": {
     "duration": 0.069492,
     "end_time": "2025-01-01T16:53:28.229682",
     "exception": false,
     "start_time": "2025-01-01T16:53:28.160190",
     "status": "completed"
    },
    "tags": []
   },
   "outputs": [],
   "source": [
    "train_df=train_df.dropna()\n",
    "val_df=val_df.dropna()\n",
    "test_df=test_df.dropna()"
   ]
  },
  {
   "cell_type": "markdown",
   "id": "b3d3459a",
   "metadata": {
    "papermill": {
     "duration": 0.019351,
     "end_time": "2025-01-01T16:53:28.268519",
     "exception": false,
     "start_time": "2025-01-01T16:53:28.249168",
     "status": "completed"
    },
    "tags": []
   },
   "source": [
    "### Get list of sentences\n",
    "Convert abstract text lines into list"
   ]
  },
  {
   "cell_type": "code",
   "execution_count": 9,
   "id": "f7524d5b",
   "metadata": {
    "execution": {
     "iopub.execute_input": "2025-01-01T16:53:28.307456Z",
     "iopub.status.busy": "2025-01-01T16:53:28.307203Z",
     "iopub.status.idle": "2025-01-01T16:53:28.317485Z",
     "shell.execute_reply": "2025-01-01T16:53:28.316877Z"
    },
    "papermill": {
     "duration": 0.031217,
     "end_time": "2025-01-01T16:53:28.318745",
     "exception": false,
     "start_time": "2025-01-01T16:53:28.287528",
     "status": "completed"
    },
    "tags": []
   },
   "outputs": [
    {
     "data": {
      "text/plain": [
       "(180040, 30212, 30135)"
      ]
     },
     "execution_count": 9,
     "metadata": {},
     "output_type": "execute_result"
    }
   ],
   "source": [
    "train_sentences=train_df.abstract_text.to_list()\n",
    "val_sentences=val_df.abstract_text.to_list()\n",
    "test_sentences=test_df.abstract_text.to_list()\n",
    "len(train_sentences),len(val_sentences),len(test_sentences)"
   ]
  },
  {
   "cell_type": "code",
   "execution_count": 10,
   "id": "cbbe7677",
   "metadata": {
    "execution": {
     "iopub.execute_input": "2025-01-01T16:53:28.358280Z",
     "iopub.status.busy": "2025-01-01T16:53:28.358051Z",
     "iopub.status.idle": "2025-01-01T16:53:28.362495Z",
     "shell.execute_reply": "2025-01-01T16:53:28.361719Z"
    },
    "papermill": {
     "duration": 0.025408,
     "end_time": "2025-01-01T16:53:28.363727",
     "exception": false,
     "start_time": "2025-01-01T16:53:28.338319",
     "status": "completed"
    },
    "tags": []
   },
   "outputs": [
    {
     "data": {
      "text/plain": [
       "['To investigate the efficacy of @ weeks of daily low-dose oral prednisolone in improving pain , mobility , and systemic low-grade inflammation in the short term and whether the effect would be sustained at @ weeks in older adults with moderate to severe knee osteoarthritis ( OA ) .',\n",
       " 'A total of @ patients with primary knee OA were randomized @:@ ; @ received @ mg/day of prednisolone and @ received placebo for @ weeks .',\n",
       " 'Outcome measures included pain reduction and improvement in function scores and systemic inflammation markers .',\n",
       " 'Pain was assessed using the visual analog pain scale ( @-@ mm ) .',\n",
       " 'Secondary outcome measures included the Western Ontario and McMaster Universities Osteoarthritis Index scores , patient global assessment ( PGA ) of the severity of knee OA , and @-min walk distance ( @MWD ) .',\n",
       " 'Serum levels of interleukin @ ( IL-@ ) , IL-@ , tumor necrosis factor ( TNF ) - , and high-sensitivity C-reactive protein ( hsCRP ) were measured .',\n",
       " 'There was a clinically relevant reduction in the intervention group compared to the placebo group for knee pain , physical function , PGA , and @MWD at @ weeks .',\n",
       " 'The mean difference between treatment arms ( @ % CI ) was @ ( @-@ @ ) , p < @ ; @ ( @-@ @ ) , p < @ ; @ ( @-@ @ ) , p < @ ; and @ ( @-@ @ ) , p < @ , respectively .',\n",
       " 'Further , there was a clinically relevant reduction in the serum levels of IL-@ , IL-@ , TNF - , and hsCRP at @ weeks in the intervention group when compared to the placebo group .',\n",
       " 'These differences remained significant at @ weeks .']"
      ]
     },
     "execution_count": 10,
     "metadata": {},
     "output_type": "execute_result"
    }
   ],
   "source": [
    "#View 10 lines of training sentences\n",
    "train_sentences[:10]"
   ]
  },
  {
   "cell_type": "markdown",
   "id": "f645cc89",
   "metadata": {
    "papermill": {
     "duration": 0.019191,
     "end_time": "2025-01-01T16:53:28.402622",
     "exception": false,
     "start_time": "2025-01-01T16:53:28.383431",
     "status": "completed"
    },
    "tags": []
   },
   "source": [
    "### Make Numerical Labels (ML model also require numeric labels)\n",
    "Extract labels ('target columns') and encode into integers"
   ]
  },
  {
   "cell_type": "markdown",
   "id": "859c8a66",
   "metadata": {
    "papermill": {
     "duration": 0.01895,
     "end_time": "2025-01-01T16:53:28.440730",
     "exception": false,
     "start_time": "2025-01-01T16:53:28.421780",
     "status": "completed"
    },
    "tags": []
   },
   "source": [
    "#### Label Encoded"
   ]
  },
  {
   "cell_type": "code",
   "execution_count": 11,
   "id": "23504bf2",
   "metadata": {
    "execution": {
     "iopub.execute_input": "2025-01-01T16:53:28.480019Z",
     "iopub.status.busy": "2025-01-01T16:53:28.479705Z",
     "iopub.status.idle": "2025-01-01T16:53:29.486681Z",
     "shell.execute_reply": "2025-01-01T16:53:29.485895Z"
    },
    "papermill": {
     "duration": 1.028175,
     "end_time": "2025-01-01T16:53:29.487952",
     "exception": false,
     "start_time": "2025-01-01T16:53:28.459777",
     "status": "completed"
    },
    "tags": []
   },
   "outputs": [
    {
     "data": {
      "text/plain": [
       "array([3, 2, 2, ..., 4, 1, 1])"
      ]
     },
     "execution_count": 11,
     "metadata": {},
     "output_type": "execute_result"
    }
   ],
   "source": [
    "from sklearn.preprocessing import LabelEncoder\n",
    "\n",
    "label_encoder=LabelEncoder()\n",
    "train_label_encoded=label_encoder.fit_transform(train_df['target'])\n",
    "val_label_encoded=label_encoder.transform(val_df['target'])\n",
    "test_label_encoded=label_encoder.transform(test_df['target'])\n",
    "\n",
    "#train label encoded looks like?\n",
    "train_label_encoded"
   ]
  },
  {
   "cell_type": "markdown",
   "id": "ebee3863",
   "metadata": {
    "papermill": {
     "duration": 0.019111,
     "end_time": "2025-01-01T16:53:29.527006",
     "exception": false,
     "start_time": "2025-01-01T16:53:29.507895",
     "status": "completed"
    },
    "tags": []
   },
   "source": [
    "#### One Hot Encoded"
   ]
  },
  {
   "cell_type": "code",
   "execution_count": 12,
   "id": "2ac395c1",
   "metadata": {
    "execution": {
     "iopub.execute_input": "2025-01-01T16:53:29.566602Z",
     "iopub.status.busy": "2025-01-01T16:53:29.566197Z",
     "iopub.status.idle": "2025-01-01T16:53:29.630622Z",
     "shell.execute_reply": "2025-01-01T16:53:29.629895Z"
    },
    "papermill": {
     "duration": 0.085858,
     "end_time": "2025-01-01T16:53:29.631960",
     "exception": false,
     "start_time": "2025-01-01T16:53:29.546102",
     "status": "completed"
    },
    "tags": []
   },
   "outputs": [
    {
     "data": {
      "text/plain": [
       "array([[0., 0., 0., 1., 0.],\n",
       "       [0., 0., 1., 0., 0.],\n",
       "       [0., 0., 1., 0., 0.],\n",
       "       ...,\n",
       "       [0., 0., 0., 0., 1.],\n",
       "       [0., 1., 0., 0., 0.],\n",
       "       [0., 1., 0., 0., 0.]])"
      ]
     },
     "execution_count": 12,
     "metadata": {},
     "output_type": "execute_result"
    }
   ],
   "source": [
    "from sklearn.preprocessing import OneHotEncoder\n",
    "\n",
    "one_hot_encoder=OneHotEncoder(sparse_output=False)\n",
    "train_labels_one_hot=one_hot_encoder.fit_transform(train_df['target'].to_numpy().reshape(-1,1))\n",
    "val_labels_one_hot=one_hot_encoder.fit_transform(val_df['target'].to_numpy().reshape(-1,1))\n",
    "test_labels_one_hot=one_hot_encoder.fit_transform(test_df['target'].to_numpy().reshape(-1,1))\n",
    "\n",
    "# What one hot encoded target labels looks like?\n",
    "train_labels_one_hot"
   ]
  },
  {
   "cell_type": "code",
   "execution_count": 13,
   "id": "2350aa5d",
   "metadata": {
    "execution": {
     "iopub.execute_input": "2025-01-01T16:53:29.672380Z",
     "iopub.status.busy": "2025-01-01T16:53:29.672120Z",
     "iopub.status.idle": "2025-01-01T16:53:29.676900Z",
     "shell.execute_reply": "2025-01-01T16:53:29.676200Z"
    },
    "papermill": {
     "duration": 0.026268,
     "end_time": "2025-01-01T16:53:29.678076",
     "exception": false,
     "start_time": "2025-01-01T16:53:29.651808",
     "status": "completed"
    },
    "tags": []
   },
   "outputs": [
    {
     "data": {
      "text/plain": [
       "(5,\n",
       " array(['BACKGROUND', 'CONCLUSIONS', 'METHODS', 'OBJECTIVE', 'RESULTS'],\n",
       "       dtype=object))"
      ]
     },
     "execution_count": 13,
     "metadata": {},
     "output_type": "execute_result"
    }
   ],
   "source": [
    "#Get class names and number of classses from labelencoder instance\n",
    "num_classes=len(label_encoder.classes_)\n",
    "class_names=label_encoder.classes_\n",
    "num_classes,class_names"
   ]
  },
  {
   "cell_type": "markdown",
   "id": "bc9c5d96",
   "metadata": {
    "papermill": {
     "duration": 0.055549,
     "end_time": "2025-01-01T16:53:29.752978",
     "exception": false,
     "start_time": "2025-01-01T16:53:29.697429",
     "status": "completed"
    },
    "tags": []
   },
   "source": [
    "## 3. Modelling Experiments...\n",
    "\n",
    "We are going to trying out a bunch of different models and seeing which one works best. \n",
    "\n",
    "We will start with baseline model `(TF-IDF Random Forest Classifier)`"
   ]
  },
  {
   "cell_type": "markdown",
   "id": "9249fb98",
   "metadata": {
    "papermill": {
     "duration": 0.019539,
     "end_time": "2025-01-01T16:53:29.792017",
     "exception": false,
     "start_time": "2025-01-01T16:53:29.772478",
     "status": "completed"
    },
    "tags": []
   },
   "source": [
    "Creating Helper function to calculate model results for each score"
   ]
  },
  {
   "cell_type": "code",
   "execution_count": 14,
   "id": "da9d8be7",
   "metadata": {
    "execution": {
     "iopub.execute_input": "2025-01-01T16:53:29.850710Z",
     "iopub.status.busy": "2025-01-01T16:53:29.850354Z",
     "iopub.status.idle": "2025-01-01T16:53:29.933870Z",
     "shell.execute_reply": "2025-01-01T16:53:29.932907Z"
    },
    "papermill": {
     "duration": 0.114826,
     "end_time": "2025-01-01T16:53:29.935960",
     "exception": false,
     "start_time": "2025-01-01T16:53:29.821134",
     "status": "completed"
    },
    "tags": []
   },
   "outputs": [],
   "source": [
    "from sklearn.metrics import accuracy_score,precision_score,recall_score,f1_score\n",
    "\n",
    "def calculate_results(y_pred,y_true):\n",
    "    \"\"\"\n",
    "    return a dicionary of score like accuracy,precision, recall and f1-score\n",
    "    \"\"\"\n",
    "    results={\n",
    "        \"accuracy\":accuracy_score(y_true,y_pred),\n",
    "        \"precision\":precision_score(y_true,y_pred,average='weighted'),\n",
    "        \"recall\":recall_score(y_true,y_pred,average='weighted'),\n",
    "        \"F1-score\":f1_score(y_true,y_pred,average='weighted')\n",
    "    }\n",
    "    return results"
   ]
  },
  {
   "cell_type": "markdown",
   "id": "dd3238c8",
   "metadata": {
    "papermill": {
     "duration": 0.019669,
     "end_time": "2025-01-01T16:53:29.982798",
     "exception": false,
     "start_time": "2025-01-01T16:53:29.963129",
     "status": "completed"
    },
    "tags": []
   },
   "source": [
    "### Preparing our data(the text) for deep sequence models\n",
    "Before we start building deeper models, we've got create vectorization and embeddings layers"
   ]
  },
  {
   "cell_type": "code",
   "execution_count": 15,
   "id": "b3052cc8",
   "metadata": {
    "execution": {
     "iopub.execute_input": "2025-01-01T16:53:30.047386Z",
     "iopub.status.busy": "2025-01-01T16:53:30.047098Z",
     "iopub.status.idle": "2025-01-01T16:54:31.157458Z",
     "shell.execute_reply": "2025-01-01T16:54:31.156257Z"
    },
    "papermill": {
     "duration": 61.148242,
     "end_time": "2025-01-01T16:54:31.159150",
     "exception": false,
     "start_time": "2025-01-01T16:53:30.010908",
     "status": "completed"
    },
    "tags": []
   },
   "outputs": [
    {
     "name": "stdout",
     "output_type": "stream",
     "text": [
      "Collecting tensorflow==2.15.0\r\n",
      "  Downloading tensorflow-2.15.0-cp310-cp310-manylinux_2_17_x86_64.manylinux2014_x86_64.whl.metadata (4.4 kB)\r\n",
      "Requirement already satisfied: absl-py>=1.0.0 in /usr/local/lib/python3.10/dist-packages (from tensorflow==2.15.0) (1.4.0)\r\n",
      "Requirement already satisfied: astunparse>=1.6.0 in /usr/local/lib/python3.10/dist-packages (from tensorflow==2.15.0) (1.6.3)\r\n",
      "Requirement already satisfied: flatbuffers>=23.5.26 in /usr/local/lib/python3.10/dist-packages (from tensorflow==2.15.0) (24.3.25)\r\n",
      "Requirement already satisfied: gast!=0.5.0,!=0.5.1,!=0.5.2,>=0.2.1 in /usr/local/lib/python3.10/dist-packages (from tensorflow==2.15.0) (0.6.0)\r\n",
      "Requirement already satisfied: google-pasta>=0.1.1 in /usr/local/lib/python3.10/dist-packages (from tensorflow==2.15.0) (0.2.0)\r\n",
      "Requirement already satisfied: h5py>=2.9.0 in /usr/local/lib/python3.10/dist-packages (from tensorflow==2.15.0) (3.11.0)\r\n",
      "Requirement already satisfied: libclang>=13.0.0 in /usr/local/lib/python3.10/dist-packages (from tensorflow==2.15.0) (18.1.1)\r\n",
      "Collecting ml-dtypes~=0.2.0 (from tensorflow==2.15.0)\r\n",
      "  Downloading ml_dtypes-0.2.0-cp310-cp310-manylinux_2_17_x86_64.manylinux2014_x86_64.whl.metadata (20 kB)\r\n",
      "Requirement already satisfied: numpy<2.0.0,>=1.23.5 in /usr/local/lib/python3.10/dist-packages (from tensorflow==2.15.0) (1.26.4)\r\n",
      "Requirement already satisfied: opt-einsum>=2.3.2 in /usr/local/lib/python3.10/dist-packages (from tensorflow==2.15.0) (3.3.0)\r\n",
      "Requirement already satisfied: packaging in /usr/local/lib/python3.10/dist-packages (from tensorflow==2.15.0) (24.1)\r\n",
      "Requirement already satisfied: protobuf!=4.21.0,!=4.21.1,!=4.21.2,!=4.21.3,!=4.21.4,!=4.21.5,<5.0.0dev,>=3.20.3 in /usr/local/lib/python3.10/dist-packages (from tensorflow==2.15.0) (3.20.3)\r\n",
      "Requirement already satisfied: setuptools in /usr/local/lib/python3.10/dist-packages (from tensorflow==2.15.0) (71.0.4)\r\n",
      "Requirement already satisfied: six>=1.12.0 in /usr/local/lib/python3.10/dist-packages (from tensorflow==2.15.0) (1.16.0)\r\n",
      "Requirement already satisfied: termcolor>=1.1.0 in /usr/local/lib/python3.10/dist-packages (from tensorflow==2.15.0) (2.4.0)\r\n",
      "Requirement already satisfied: typing-extensions>=3.6.6 in /usr/local/lib/python3.10/dist-packages (from tensorflow==2.15.0) (4.12.2)\r\n",
      "Collecting wrapt<1.15,>=1.11.0 (from tensorflow==2.15.0)\r\n",
      "  Downloading wrapt-1.14.1-cp310-cp310-manylinux_2_5_x86_64.manylinux1_x86_64.manylinux_2_17_x86_64.manylinux2014_x86_64.whl.metadata (6.7 kB)\r\n",
      "Requirement already satisfied: tensorflow-io-gcs-filesystem>=0.23.1 in /usr/local/lib/python3.10/dist-packages (from tensorflow==2.15.0) (0.37.1)\r\n",
      "Requirement already satisfied: grpcio<2.0,>=1.24.3 in /usr/local/lib/python3.10/dist-packages (from tensorflow==2.15.0) (1.64.1)\r\n",
      "Collecting tensorboard<2.16,>=2.15 (from tensorflow==2.15.0)\r\n",
      "  Downloading tensorboard-2.15.2-py3-none-any.whl.metadata (1.7 kB)\r\n",
      "Collecting tensorflow-estimator<2.16,>=2.15.0 (from tensorflow==2.15.0)\r\n",
      "  Downloading tensorflow_estimator-2.15.0-py2.py3-none-any.whl.metadata (1.3 kB)\r\n",
      "Collecting keras<2.16,>=2.15.0 (from tensorflow==2.15.0)\r\n",
      "  Downloading keras-2.15.0-py3-none-any.whl.metadata (2.4 kB)\r\n",
      "Requirement already satisfied: wheel<1.0,>=0.23.0 in /usr/local/lib/python3.10/dist-packages (from astunparse>=1.6.0->tensorflow==2.15.0) (0.44.0)\r\n",
      "Requirement already satisfied: google-auth<3,>=1.6.3 in /usr/local/lib/python3.10/dist-packages (from tensorboard<2.16,>=2.15->tensorflow==2.15.0) (2.27.0)\r\n",
      "Requirement already satisfied: google-auth-oauthlib<2,>=0.5 in /usr/local/lib/python3.10/dist-packages (from tensorboard<2.16,>=2.15->tensorflow==2.15.0) (1.2.1)\r\n",
      "Requirement already satisfied: markdown>=2.6.8 in /usr/local/lib/python3.10/dist-packages (from tensorboard<2.16,>=2.15->tensorflow==2.15.0) (3.7)\r\n",
      "Requirement already satisfied: requests<3,>=2.21.0 in /usr/local/lib/python3.10/dist-packages (from tensorboard<2.16,>=2.15->tensorflow==2.15.0) (2.32.3)\r\n",
      "Requirement already satisfied: tensorboard-data-server<0.8.0,>=0.7.0 in /usr/local/lib/python3.10/dist-packages (from tensorboard<2.16,>=2.15->tensorflow==2.15.0) (0.7.2)\r\n",
      "Requirement already satisfied: werkzeug>=1.0.1 in /usr/local/lib/python3.10/dist-packages (from tensorboard<2.16,>=2.15->tensorflow==2.15.0) (3.0.4)\r\n",
      "Requirement already satisfied: cachetools<6.0,>=2.0.0 in /usr/local/lib/python3.10/dist-packages (from google-auth<3,>=1.6.3->tensorboard<2.16,>=2.15->tensorflow==2.15.0) (5.5.0)\r\n",
      "Requirement already satisfied: pyasn1-modules>=0.2.1 in /usr/local/lib/python3.10/dist-packages (from google-auth<3,>=1.6.3->tensorboard<2.16,>=2.15->tensorflow==2.15.0) (0.4.1)\r\n",
      "Requirement already satisfied: rsa<5,>=3.1.4 in /usr/local/lib/python3.10/dist-packages (from google-auth<3,>=1.6.3->tensorboard<2.16,>=2.15->tensorflow==2.15.0) (4.9)\r\n",
      "Requirement already satisfied: requests-oauthlib>=0.7.0 in /usr/local/lib/python3.10/dist-packages (from google-auth-oauthlib<2,>=0.5->tensorboard<2.16,>=2.15->tensorflow==2.15.0) (1.3.1)\r\n",
      "Requirement already satisfied: charset-normalizer<4,>=2 in /usr/local/lib/python3.10/dist-packages (from requests<3,>=2.21.0->tensorboard<2.16,>=2.15->tensorflow==2.15.0) (3.3.2)\r\n",
      "Requirement already satisfied: idna<4,>=2.5 in /usr/local/lib/python3.10/dist-packages (from requests<3,>=2.21.0->tensorboard<2.16,>=2.15->tensorflow==2.15.0) (3.10)\r\n",
      "Requirement already satisfied: urllib3<3,>=1.21.1 in /usr/local/lib/python3.10/dist-packages (from requests<3,>=2.21.0->tensorboard<2.16,>=2.15->tensorflow==2.15.0) (2.2.3)\r\n",
      "Requirement already satisfied: certifi>=2017.4.17 in /usr/local/lib/python3.10/dist-packages (from requests<3,>=2.21.0->tensorboard<2.16,>=2.15->tensorflow==2.15.0) (2024.8.30)\r\n",
      "Requirement already satisfied: MarkupSafe>=2.1.1 in /usr/local/lib/python3.10/dist-packages (from werkzeug>=1.0.1->tensorboard<2.16,>=2.15->tensorflow==2.15.0) (2.1.5)\r\n",
      "Requirement already satisfied: pyasn1<0.7.0,>=0.4.6 in /usr/local/lib/python3.10/dist-packages (from pyasn1-modules>=0.2.1->google-auth<3,>=1.6.3->tensorboard<2.16,>=2.15->tensorflow==2.15.0) (0.6.1)\r\n",
      "Requirement already satisfied: oauthlib>=3.0.0 in /usr/local/lib/python3.10/dist-packages (from requests-oauthlib>=0.7.0->google-auth-oauthlib<2,>=0.5->tensorboard<2.16,>=2.15->tensorflow==2.15.0) (3.2.2)\r\n",
      "Downloading tensorflow-2.15.0-cp310-cp310-manylinux_2_17_x86_64.manylinux2014_x86_64.whl (475.2 MB)\r\n",
      "\u001b[2K   \u001b[90m━━━━━━━━━━━━━━━━━━━━━━━━━━━━━━━━━━━━━━━━\u001b[0m \u001b[32m475.2/475.2 MB\u001b[0m \u001b[31m3.6 MB/s\u001b[0m eta \u001b[36m0:00:00\u001b[0m\r\n",
      "\u001b[?25hDownloading keras-2.15.0-py3-none-any.whl (1.7 MB)\r\n",
      "\u001b[2K   \u001b[90m━━━━━━━━━━━━━━━━━━━━━━━━━━━━━━━━━━━━━━━━\u001b[0m \u001b[32m1.7/1.7 MB\u001b[0m \u001b[31m64.2 MB/s\u001b[0m eta \u001b[36m0:00:00\u001b[0m\r\n",
      "\u001b[?25hDownloading ml_dtypes-0.2.0-cp310-cp310-manylinux_2_17_x86_64.manylinux2014_x86_64.whl (1.0 MB)\r\n",
      "\u001b[2K   \u001b[90m━━━━━━━━━━━━━━━━━━━━━━━━━━━━━━━━━━━━━━━━\u001b[0m \u001b[32m1.0/1.0 MB\u001b[0m \u001b[31m47.9 MB/s\u001b[0m eta \u001b[36m0:00:00\u001b[0m\r\n",
      "\u001b[?25hDownloading tensorboard-2.15.2-py3-none-any.whl (5.5 MB)\r\n",
      "\u001b[2K   \u001b[90m━━━━━━━━━━━━━━━━━━━━━━━━━━━━━━━━━━━━━━━━\u001b[0m \u001b[32m5.5/5.5 MB\u001b[0m \u001b[31m92.9 MB/s\u001b[0m eta \u001b[36m0:00:00\u001b[0m\r\n",
      "\u001b[?25hDownloading tensorflow_estimator-2.15.0-py2.py3-none-any.whl (441 kB)\r\n",
      "\u001b[2K   \u001b[90m━━━━━━━━━━━━━━━━━━━━━━━━━━━━━━━━━━━━━━━━\u001b[0m \u001b[32m442.0/442.0 kB\u001b[0m \u001b[31m28.6 MB/s\u001b[0m eta \u001b[36m0:00:00\u001b[0m\r\n",
      "\u001b[?25hDownloading wrapt-1.14.1-cp310-cp310-manylinux_2_5_x86_64.manylinux1_x86_64.manylinux_2_17_x86_64.manylinux2014_x86_64.whl (77 kB)\r\n",
      "\u001b[2K   \u001b[90m━━━━━━━━━━━━━━━━━━━━━━━━━━━━━━━━━━━━━━━━\u001b[0m \u001b[32m77.9/77.9 kB\u001b[0m \u001b[31m6.5 MB/s\u001b[0m eta \u001b[36m0:00:00\u001b[0m\r\n",
      "\u001b[?25hInstalling collected packages: wrapt, tensorflow-estimator, ml-dtypes, keras, tensorboard, tensorflow\r\n",
      "  Attempting uninstall: wrapt\r\n",
      "    Found existing installation: wrapt 1.16.0\r\n",
      "    Uninstalling wrapt-1.16.0:\r\n",
      "      Successfully uninstalled wrapt-1.16.0\r\n",
      "  Attempting uninstall: ml-dtypes\r\n",
      "    Found existing installation: ml-dtypes 0.4.1\r\n",
      "    Uninstalling ml-dtypes-0.4.1:\r\n",
      "      Successfully uninstalled ml-dtypes-0.4.1\r\n",
      "  Attempting uninstall: keras\r\n",
      "    Found existing installation: keras 3.4.1\r\n",
      "    Uninstalling keras-3.4.1:\r\n",
      "      Successfully uninstalled keras-3.4.1\r\n",
      "  Attempting uninstall: tensorboard\r\n",
      "    Found existing installation: tensorboard 2.17.0\r\n",
      "    Uninstalling tensorboard-2.17.0:\r\n",
      "      Successfully uninstalled tensorboard-2.17.0\r\n",
      "  Attempting uninstall: tensorflow\r\n",
      "    Found existing installation: tensorflow 2.17.0\r\n",
      "    Uninstalling tensorflow-2.17.0:\r\n",
      "      Successfully uninstalled tensorflow-2.17.0\r\n",
      "\u001b[31mERROR: pip's dependency resolver does not currently take into account all the packages that are installed. This behaviour is the source of the following dependency conflicts.\r\n",
      "tensorflow-decision-forests 1.10.0 requires tensorflow==2.17.0, but you have tensorflow 2.15.0 which is incompatible.\r\n",
      "tensorflow-text 2.17.0 requires tensorflow<2.18,>=2.17.0, but you have tensorflow 2.15.0 which is incompatible.\r\n",
      "tensorstore 0.1.65 requires ml-dtypes>=0.3.1, but you have ml-dtypes 0.2.0 which is incompatible.\r\n",
      "tf-keras 2.17.0 requires tensorflow<2.18,>=2.17, but you have tensorflow 2.15.0 which is incompatible.\u001b[0m\u001b[31m\r\n",
      "\u001b[0mSuccessfully installed keras-2.15.0 ml-dtypes-0.2.0 tensorboard-2.15.2 tensorflow-2.15.0 tensorflow-estimator-2.15.0 wrapt-1.14.1\r\n"
     ]
    }
   ],
   "source": [
    "!pip install tensorflow==2.15.0"
   ]
  },
  {
   "cell_type": "code",
   "execution_count": 16,
   "id": "385a2556",
   "metadata": {
    "execution": {
     "iopub.execute_input": "2025-01-01T16:54:31.214728Z",
     "iopub.status.busy": "2025-01-01T16:54:31.214421Z",
     "iopub.status.idle": "2025-01-01T16:54:35.415432Z",
     "shell.execute_reply": "2025-01-01T16:54:35.414593Z"
    },
    "papermill": {
     "duration": 4.230533,
     "end_time": "2025-01-01T16:54:35.416776",
     "exception": false,
     "start_time": "2025-01-01T16:54:31.186243",
     "status": "completed"
    },
    "tags": []
   },
   "outputs": [
    {
     "data": {
      "text/plain": [
       "'2.15.0'"
      ]
     },
     "execution_count": 16,
     "metadata": {},
     "output_type": "execute_result"
    }
   ],
   "source": [
    "import tensorflow as tf\n",
    "tf.__version__"
   ]
  },
  {
   "cell_type": "code",
   "execution_count": 17,
   "id": "4ccf5a5c",
   "metadata": {
    "execution": {
     "iopub.execute_input": "2025-01-01T16:54:35.473925Z",
     "iopub.status.busy": "2025-01-01T16:54:35.473320Z",
     "iopub.status.idle": "2025-01-01T16:54:35.493743Z",
     "shell.execute_reply": "2025-01-01T16:54:35.493077Z"
    },
    "papermill": {
     "duration": 0.050575,
     "end_time": "2025-01-01T16:54:35.495156",
     "exception": false,
     "start_time": "2025-01-01T16:54:35.444581",
     "status": "completed"
    },
    "tags": []
   },
   "outputs": [],
   "source": [
    "import numpy as np\n",
    "import tensorflow as tf \n",
    "from tensorflow.keras import layers"
   ]
  },
  {
   "cell_type": "code",
   "execution_count": 18,
   "id": "b9a4b480",
   "metadata": {
    "execution": {
     "iopub.execute_input": "2025-01-01T16:54:35.560786Z",
     "iopub.status.busy": "2025-01-01T16:54:35.560437Z",
     "iopub.status.idle": "2025-01-01T16:54:35.800964Z",
     "shell.execute_reply": "2025-01-01T16:54:35.800098Z"
    },
    "papermill": {
     "duration": 0.278852,
     "end_time": "2025-01-01T16:54:35.802272",
     "exception": false,
     "start_time": "2025-01-01T16:54:35.523420",
     "status": "completed"
    },
    "tags": []
   },
   "outputs": [
    {
     "data": {
      "text/plain": [
       "[49, 27, 15, 14, 35]"
      ]
     },
     "execution_count": 18,
     "metadata": {},
     "output_type": "execute_result"
    }
   ],
   "source": [
    "#How long is each sentence on average?\n",
    "sent_lens=[len(sentence.split()) for sentence in train_sentences]\n",
    "sent_lens[:5]"
   ]
  },
  {
   "cell_type": "code",
   "execution_count": 19,
   "id": "2067c028",
   "metadata": {
    "execution": {
     "iopub.execute_input": "2025-01-01T16:54:35.860122Z",
     "iopub.status.busy": "2025-01-01T16:54:35.859800Z",
     "iopub.status.idle": "2025-01-01T16:54:35.889450Z",
     "shell.execute_reply": "2025-01-01T16:54:35.888507Z"
    },
    "papermill": {
     "duration": 0.059724,
     "end_time": "2025-01-01T16:54:35.891070",
     "exception": false,
     "start_time": "2025-01-01T16:54:35.831346",
     "status": "completed"
    },
    "tags": []
   },
   "outputs": [
    {
     "data": {
      "text/plain": [
       "(26.338269273494777, 296, 1)"
      ]
     },
     "execution_count": 19,
     "metadata": {},
     "output_type": "execute_result"
    }
   ],
   "source": [
    "avg_sent_len=np.mean(sent_lens)\n",
    "max_sent_len=np.max(sent_lens)\n",
    "min_sent_len=np.min(sent_lens)\n",
    "\n",
    "avg_sent_len,max_sent_len,min_sent_len"
   ]
  },
  {
   "cell_type": "code",
   "execution_count": 20,
   "id": "3f70a557",
   "metadata": {
    "execution": {
     "iopub.execute_input": "2025-01-01T16:54:35.948379Z",
     "iopub.status.busy": "2025-01-01T16:54:35.948092Z",
     "iopub.status.idle": "2025-01-01T16:54:36.599417Z",
     "shell.execute_reply": "2025-01-01T16:54:36.598488Z"
    },
    "papermill": {
     "duration": 0.680474,
     "end_time": "2025-01-01T16:54:36.600809",
     "exception": false,
     "start_time": "2025-01-01T16:54:35.920335",
     "status": "completed"
    },
    "tags": []
   },
   "outputs": [
    {
     "data": {
      "text/plain": [
       "(array([1.5999e+05, 1.8760e+04, 1.1510e+03, 9.9000e+01, 2.8000e+01,\n",
       "        1.0000e+01, 2.0000e+00]),\n",
       " array([  1.        ,  43.14285714,  85.28571429, 127.42857143,\n",
       "        169.57142857, 211.71428571, 253.85714286, 296.        ]),\n",
       " <BarContainer object of 7 artists>)"
      ]
     },
     "execution_count": 20,
     "metadata": {},
     "output_type": "execute_result"
    },
    {
     "data": {
      "image/png": "[encoded data removed]",
      "text/plain": [
       "<Figure size 640x480 with 1 Axes>"
      ]
     },
     "metadata": {},
     "output_type": "display_data"
    }
   ],
   "source": [
    "# What distribution looks like?\n",
    "import matplotlib.pyplot as plt\n",
    "plt.hist(sent_lens,bins=7)"
   ]
  },
  {
   "cell_type": "code",
   "execution_count": 21,
   "id": "99635bbd",
   "metadata": {
    "execution": {
     "iopub.execute_input": "2025-01-01T16:54:36.661618Z",
     "iopub.status.busy": "2025-01-01T16:54:36.661320Z",
     "iopub.status.idle": "2025-01-01T16:54:36.677983Z",
     "shell.execute_reply": "2025-01-01T16:54:36.677225Z"
    },
    "papermill": {
     "duration": 0.048191,
     "end_time": "2025-01-01T16:54:36.679258",
     "exception": false,
     "start_time": "2025-01-01T16:54:36.631067",
     "status": "completed"
    },
    "tags": []
   },
   "outputs": [
    {
     "data": {
      "text/plain": [
       "55"
      ]
     },
     "execution_count": 21,
     "metadata": {},
     "output_type": "execute_result"
    }
   ],
   "source": [
    "# How long a sentence length over 95% of exampes?\n",
    "output_seq_len=int(np.percentile(sent_lens,95))\n",
    "output_seq_len"
   ]
  },
  {
   "cell_type": "code",
   "execution_count": 22,
   "id": "06d2a312",
   "metadata": {
    "execution": {
     "iopub.execute_input": "2025-01-01T16:54:36.745215Z",
     "iopub.status.busy": "2025-01-01T16:54:36.744928Z",
     "iopub.status.idle": "2025-01-01T16:54:36.752020Z",
     "shell.execute_reply": "2025-01-01T16:54:36.751172Z"
    },
    "papermill": {
     "duration": 0.043502,
     "end_time": "2025-01-01T16:54:36.753377",
     "exception": false,
     "start_time": "2025-01-01T16:54:36.709875",
     "status": "completed"
    },
    "tags": []
   },
   "outputs": [
    {
     "data": {
      "text/plain": [
       "296"
      ]
     },
     "execution_count": 22,
     "metadata": {},
     "output_type": "execute_result"
    }
   ],
   "source": [
    "#Maximum sequence length is training sentence\n",
    "max(sent_lens)"
   ]
  },
  {
   "cell_type": "markdown",
   "id": "f0473e52",
   "metadata": {
    "papermill": {
     "duration": 0.030521,
     "end_time": "2025-01-01T16:54:36.899056",
     "exception": false,
     "start_time": "2025-01-01T16:54:36.868535",
     "status": "completed"
    },
    "tags": []
   },
   "source": [
    "#### Create Text Vectorizer\n",
    "We want to make a layer which maps our tansform words into numbers"
   ]
  },
  {
   "cell_type": "code",
   "execution_count": 23,
   "id": "7f3ce621",
   "metadata": {
    "execution": {
     "iopub.execute_input": "2025-01-01T16:54:36.956864Z",
     "iopub.status.busy": "2025-01-01T16:54:36.956524Z",
     "iopub.status.idle": "2025-01-01T16:54:36.960055Z",
     "shell.execute_reply": "2025-01-01T16:54:36.959168Z"
    },
    "papermill": {
     "duration": 0.034306,
     "end_time": "2025-01-01T16:54:36.961436",
     "exception": false,
     "start_time": "2025-01-01T16:54:36.927130",
     "status": "completed"
    },
    "tags": []
   },
   "outputs": [],
   "source": [
    "#How many words are in the vocabulary(taken table-2 from research paper)\n",
    "max_tokens=68000"
   ]
  },
  {
   "cell_type": "code",
   "execution_count": 24,
   "id": "c3d26722",
   "metadata": {
    "execution": {
     "iopub.execute_input": "2025-01-01T16:54:37.019515Z",
     "iopub.status.busy": "2025-01-01T16:54:37.019202Z",
     "iopub.status.idle": "2025-01-01T16:54:37.829903Z",
     "shell.execute_reply": "2025-01-01T16:54:37.828776Z"
    },
    "papermill": {
     "duration": 0.84138,
     "end_time": "2025-01-01T16:54:37.831589",
     "exception": false,
     "start_time": "2025-01-01T16:54:36.990209",
     "status": "completed"
    },
    "tags": []
   },
   "outputs": [],
   "source": [
    "#Create Text Vectorizer\n",
    "from tensorflow.keras.layers import TextVectorization\n",
    "\n",
    "text_vectorizer=TextVectorization(max_tokens=max_tokens,#number of words in vocabulary\n",
    "                                 output_sequence_length=output_seq_len) #desired output length of vectorized sequence"
   ]
  },
  {
   "cell_type": "code",
   "execution_count": 25,
   "id": "0ae1a016",
   "metadata": {
    "execution": {
     "iopub.execute_input": "2025-01-01T16:54:37.888400Z",
     "iopub.status.busy": "2025-01-01T16:54:37.887945Z",
     "iopub.status.idle": "2025-01-01T16:54:49.257733Z",
     "shell.execute_reply": "2025-01-01T16:54:49.256440Z"
    },
    "papermill": {
     "duration": 11.400274,
     "end_time": "2025-01-01T16:54:49.259973",
     "exception": false,
     "start_time": "2025-01-01T16:54:37.859699",
     "status": "completed"
    },
    "tags": []
   },
   "outputs": [],
   "source": [
    "#Adapt text vectorizer to training sequence\n",
    "text_vectorizer.adapt(train_sentences)"
   ]
  },
  {
   "cell_type": "code",
   "execution_count": 26,
   "id": "12070f0d",
   "metadata": {
    "execution": {
     "iopub.execute_input": "2025-01-01T16:54:49.316166Z",
     "iopub.status.busy": "2025-01-01T16:54:49.315880Z",
     "iopub.status.idle": "2025-01-01T16:54:50.264559Z",
     "shell.execute_reply": "2025-01-01T16:54:50.263518Z"
    },
    "papermill": {
     "duration": 0.97743,
     "end_time": "2025-01-01T16:54:50.266153",
     "exception": false,
     "start_time": "2025-01-01T16:54:49.288723",
     "status": "completed"
    },
    "tags": []
   },
   "outputs": [
    {
     "name": "stdout",
     "output_type": "stream",
     "text": [
      "Text:\n",
      "We wish to assess the clinical and cost-effectiveness of remote monitoring of heart failure patients with cardiac implanted electronic devices .\n",
      "\n",
      "Length of Text:\n",
      "21\n",
      "\n",
      "Vectorized Text:\n",
      "[[   43 10101     6   216     2    47     3   936     4  2296   607     4\n",
      "    260   292    12     7   342  3283  2014  1342     0     0     0     0\n",
      "      0     0     0     0     0     0     0     0     0     0     0     0\n",
      "      0     0     0     0     0     0     0     0     0     0     0     0\n",
      "      0     0     0     0     0     0     0]]\n"
     ]
    }
   ],
   "source": [
    "#Test out text vectorizer on random sentences\n",
    "import random\n",
    "target_sequences=random.choice(train_sentences)\n",
    "print(f\"Text:\\n{target_sequences}\")\n",
    "print(f\"\\nLength of Text:\\n{len(target_sequences.split())}\")\n",
    "print(f\"\\nVectorized Text:\\n{text_vectorizer([target_sequences])}\")"
   ]
  },
  {
   "cell_type": "code",
   "execution_count": 27,
   "id": "2124c403",
   "metadata": {
    "execution": {
     "iopub.execute_input": "2025-01-01T16:54:50.324525Z",
     "iopub.status.busy": "2025-01-01T16:54:50.324078Z",
     "iopub.status.idle": "2025-01-01T16:54:50.465210Z",
     "shell.execute_reply": "2025-01-01T16:54:50.464217Z"
    },
    "papermill": {
     "duration": 0.170404,
     "end_time": "2025-01-01T16:54:50.466567",
     "exception": false,
     "start_time": "2025-01-01T16:54:50.296163",
     "status": "completed"
    },
    "tags": []
   },
   "outputs": [
    {
     "name": "stdout",
     "output_type": "stream",
     "text": [
      "Number of words in vocab:64841\n",
      "Most Common words in the vocab:['', '[UNK]', 'the', 'and', 'of']\n",
      "Least Common words in the vocab:['aainduced', 'aaigroup', 'aachener', 'aachen', 'aaacp']\n"
     ]
    }
   ],
   "source": [
    "# How many words in our training vocabulary?\n",
    "rct_20K_text_vocab=text_vectorizer.get_vocabulary()\n",
    "print(f\"Number of words in vocab:{len(rct_20K_text_vocab)}\")\n",
    "print(f\"Most Common words in the vocab:{rct_20K_text_vocab[:5]}\")\n",
    "print(f\"Least Common words in the vocab:{rct_20K_text_vocab[-5:]}\")"
   ]
  },
  {
   "cell_type": "code",
   "execution_count": 28,
   "id": "9eb8e9cc",
   "metadata": {
    "execution": {
     "iopub.execute_input": "2025-01-01T16:54:50.522994Z",
     "iopub.status.busy": "2025-01-01T16:54:50.522746Z",
     "iopub.status.idle": "2025-01-01T16:54:50.527850Z",
     "shell.execute_reply": "2025-01-01T16:54:50.527168Z"
    },
    "papermill": {
     "duration": 0.034197,
     "end_time": "2025-01-01T16:54:50.528975",
     "exception": false,
     "start_time": "2025-01-01T16:54:50.494778",
     "status": "completed"
    },
    "tags": []
   },
   "outputs": [
    {
     "data": {
      "text/plain": [
       "{'name': 'text_vectorization',\n",
       " 'trainable': True,\n",
       " 'dtype': 'string',\n",
       " 'batch_input_shape': (None,),\n",
       " 'max_tokens': 68000,\n",
       " 'standardize': 'lower_and_strip_punctuation',\n",
       " 'split': 'whitespace',\n",
       " 'ngrams': None,\n",
       " 'output_mode': 'int',\n",
       " 'output_sequence_length': 55,\n",
       " 'pad_to_max_tokens': False,\n",
       " 'sparse': False,\n",
       " 'ragged': False,\n",
       " 'vocabulary': None,\n",
       " 'idf_weights': None,\n",
       " 'encoding': 'utf-8',\n",
       " 'vocabulary_size': 64841}"
      ]
     },
     "execution_count": 28,
     "metadata": {},
     "output_type": "execute_result"
    }
   ],
   "source": [
    "# Get a config of our text vectoizer\n",
    "text_vectorizer.get_config()"
   ]
  },
  {
   "cell_type": "markdown",
   "id": "836032a7",
   "metadata": {
    "papermill": {
     "duration": 0.026689,
     "end_time": "2025-01-01T16:54:50.582436",
     "exception": false,
     "start_time": "2025-01-01T16:54:50.555747",
     "status": "completed"
    },
    "tags": []
   },
   "source": [
    "### Create Custom Text Embeddings "
   ]
  },
  {
   "cell_type": "code",
   "execution_count": 29,
   "id": "3df6d475",
   "metadata": {
    "execution": {
     "iopub.execute_input": "2025-01-01T16:54:50.641283Z",
     "iopub.status.busy": "2025-01-01T16:54:50.641000Z",
     "iopub.status.idle": "2025-01-01T16:54:50.648811Z",
     "shell.execute_reply": "2025-01-01T16:54:50.647996Z"
    },
    "papermill": {
     "duration": 0.038782,
     "end_time": "2025-01-01T16:54:50.650299",
     "exception": false,
     "start_time": "2025-01-01T16:54:50.611517",
     "status": "completed"
    },
    "tags": []
   },
   "outputs": [],
   "source": [
    "token_embed=layers.Embedding(input_dim=len(rct_20K_text_vocab), #length of vocabulary\n",
    "                            output_dim=128, #Note: different embedding sizes results in drastically different number of parameters\n",
    "                            mask_zero=True, #use masking to handle variable sequence length (save space)\n",
    "                            name='Token_embedding')"
   ]
  },
  {
   "cell_type": "code",
   "execution_count": 30,
   "id": "84897dbc",
   "metadata": {
    "execution": {
     "iopub.execute_input": "2025-01-01T16:54:50.706095Z",
     "iopub.status.busy": "2025-01-01T16:54:50.705808Z",
     "iopub.status.idle": "2025-01-01T16:54:50.739574Z",
     "shell.execute_reply": "2025-01-01T16:54:50.738417Z"
    },
    "papermill": {
     "duration": 0.062988,
     "end_time": "2025-01-01T16:54:50.740974",
     "exception": false,
     "start_time": "2025-01-01T16:54:50.677986",
     "status": "completed"
    },
    "tags": []
   },
   "outputs": [
    {
     "name": "stdout",
     "output_type": "stream",
     "text": [
      "Sentence before vectorization:\n",
      "We wish to assess the clinical and cost-effectiveness of remote monitoring of heart failure patients with cardiac implanted electronic devices .\n",
      "Sentence after Vectorization:\n",
      "[[   43 10101     6   216     2    47     3   936     4  2296   607     4\n",
      "    260   292    12     7   342  3283  2014  1342     0     0     0     0\n",
      "      0     0     0     0     0     0     0     0     0     0     0     0\n",
      "      0     0     0     0     0     0     0     0     0     0     0     0\n",
      "      0     0     0     0     0     0     0]]\n",
      "Sentence after embedding:\n",
      "[[[ 0.00035948  0.04210279 -0.03418998 ...  0.03044292  0.03647891\n",
      "    0.01458887]\n",
      "  [ 0.04540987 -0.0230855   0.02133134 ... -0.02258745 -0.04767275\n",
      "    0.02917111]\n",
      "  [ 0.03331994 -0.0082323  -0.00285674 ...  0.03028239 -0.00142533\n",
      "    0.0166969 ]\n",
      "  ...\n",
      "  [ 0.02903713  0.0483814  -0.00965191 ...  0.03303638 -0.03424233\n",
      "   -0.02183183]\n",
      "  [ 0.02903713  0.0483814  -0.00965191 ...  0.03303638 -0.03424233\n",
      "   -0.02183183]\n",
      "  [ 0.02903713  0.0483814  -0.00965191 ...  0.03303638 -0.03424233\n",
      "   -0.02183183]]]\n",
      "Embedded Sentence Shape:\n",
      "(1, 55, 128)\n"
     ]
    }
   ],
   "source": [
    "#Show example embedding\n",
    "print(f\"Sentence before vectorization:\\n{target_sequences}\")\n",
    "vectorized_sentence=text_vectorizer([target_sequences])\n",
    "print(f\"Sentence after Vectorization:\\n{vectorized_sentence}\")\n",
    "embedded_sentence=token_embed(vectorized_sentence)\n",
    "print(f\"Sentence after embedding:\\n{embedded_sentence}\")\n",
    "print(f\"Embedded Sentence Shape:\\n{embedded_sentence.shape}\")"
   ]
  },
  {
   "cell_type": "markdown",
   "id": "04befdec",
   "metadata": {
    "papermill": {
     "duration": 0.026735,
     "end_time": "2025-01-01T16:54:50.794607",
     "exception": false,
     "start_time": "2025-01-01T16:54:50.767872",
     "status": "completed"
    },
    "tags": []
   },
   "source": [
    "## 4. Creating dataset (making sure our data loads fast as possible)\n",
    "We're going to setup our data to run as fast possible with tensorflow tf.data.API, many of the steps here are discussed at length in the these resoucres:\n",
    "* tensorflow data_performance guide\n",
    "* tensorflow data guide"
   ]
  },
  {
   "cell_type": "code",
   "execution_count": 31,
   "id": "68732895",
   "metadata": {
    "execution": {
     "iopub.execute_input": "2025-01-01T16:54:50.848927Z",
     "iopub.status.busy": "2025-01-01T16:54:50.848691Z",
     "iopub.status.idle": "2025-01-01T16:54:51.491799Z",
     "shell.execute_reply": "2025-01-01T16:54:51.490893Z"
    },
    "papermill": {
     "duration": 0.67193,
     "end_time": "2025-01-01T16:54:51.493162",
     "exception": false,
     "start_time": "2025-01-01T16:54:50.821232",
     "status": "completed"
    },
    "tags": []
   },
   "outputs": [
    {
     "data": {
      "text/plain": [
       "<_TensorSliceDataset element_spec=(TensorSpec(shape=(), dtype=tf.string, name=None), TensorSpec(shape=(5,), dtype=tf.float64, name=None))>"
      ]
     },
     "execution_count": 31,
     "metadata": {},
     "output_type": "execute_result"
    }
   ],
   "source": [
    "#Turn our data into tensorflow datasets\n",
    "train_dataset=tf.data.Dataset.from_tensor_slices((train_sentences,train_labels_one_hot))\n",
    "val_dataset=tf.data.Dataset.from_tensor_slices((val_sentences,val_labels_one_hot))\n",
    "test_dataset=tf.data.Dataset.from_tensor_slices((test_sentences,test_labels_one_hot))\n",
    "\n",
    "train_dataset"
   ]
  },
  {
   "cell_type": "code",
   "execution_count": 32,
   "id": "bf2ebf85",
   "metadata": {
    "execution": {
     "iopub.execute_input": "2025-01-01T16:54:51.548253Z",
     "iopub.status.busy": "2025-01-01T16:54:51.548005Z",
     "iopub.status.idle": "2025-01-01T16:54:51.552362Z",
     "shell.execute_reply": "2025-01-01T16:54:51.551727Z"
    },
    "papermill": {
     "duration": 0.033037,
     "end_time": "2025-01-01T16:54:51.553566",
     "exception": false,
     "start_time": "2025-01-01T16:54:51.520529",
     "status": "completed"
    },
    "tags": []
   },
   "outputs": [
    {
     "data": {
      "text/plain": [
       "(180040, 5)"
      ]
     },
     "execution_count": 32,
     "metadata": {},
     "output_type": "execute_result"
    }
   ],
   "source": [
    "train_labels_one_hot.shape"
   ]
  },
  {
   "cell_type": "code",
   "execution_count": 33,
   "id": "d336a659",
   "metadata": {
    "execution": {
     "iopub.execute_input": "2025-01-01T16:54:51.608196Z",
     "iopub.status.busy": "2025-01-01T16:54:51.607977Z",
     "iopub.status.idle": "2025-01-01T16:54:51.619783Z",
     "shell.execute_reply": "2025-01-01T16:54:51.618966Z"
    },
    "papermill": {
     "duration": 0.040639,
     "end_time": "2025-01-01T16:54:51.621120",
     "exception": false,
     "start_time": "2025-01-01T16:54:51.580481",
     "status": "completed"
    },
    "tags": []
   },
   "outputs": [],
   "source": [
    "#Take tensorslicesdataset and turn them into prefetch datasets\n",
    "train_dataset=train_dataset.batch(32).prefetch(tf.data.AUTOTUNE)\n",
    "valid_dataset=val_dataset.batch(32).prefetch(tf.data.AUTOTUNE)\n",
    "test_dataset=test_dataset.batch(32).prefetch(tf.data.AUTOTUNE)"
   ]
  },
  {
   "cell_type": "markdown",
   "id": "6e8ed876",
   "metadata": {
    "papermill": {
     "duration": 0.026545,
     "end_time": "2025-01-01T16:54:51.674240",
     "exception": false,
     "start_time": "2025-01-01T16:54:51.647695",
     "status": "completed"
    },
    "tags": []
   },
   "source": [
    "## Model 1: Bi-lstm with token embeddings"
   ]
  },
  {
   "cell_type": "code",
   "execution_count": 34,
   "id": "f1ae2cae",
   "metadata": {
    "execution": {
     "iopub.execute_input": "2025-01-01T16:54:51.729862Z",
     "iopub.status.busy": "2025-01-01T16:54:51.729536Z",
     "iopub.status.idle": "2025-01-01T16:54:53.384279Z",
     "shell.execute_reply": "2025-01-01T16:54:53.383326Z"
    },
    "papermill": {
     "duration": 1.68468,
     "end_time": "2025-01-01T16:54:53.385929",
     "exception": false,
     "start_time": "2025-01-01T16:54:51.701249",
     "status": "completed"
    },
    "tags": []
   },
   "outputs": [],
   "source": [
    "#Create bi-lstm model with token embeddings\n",
    "inputs=layers.Input(shape=(1,),dtype=tf.string)\n",
    "text_vectors=text_vectorizer(inputs) #vectorized input text\n",
    "token_embedding=token_embed(text_vectors) #convert vectors to embeddings\n",
    "x=layers.Bidirectional(layers.LSTM(64),name='bidirectional_lstm')(token_embedding)\n",
    "outputs=layers.Dense(num_classes,activation='softmax')(x)\n",
    "\n",
    "model_1=tf.keras.Model(inputs,outputs)\n",
    "\n",
    "#Compile the model\n",
    "model_1.compile(loss='categorical_crossentropy',\n",
    "              optimizer=tf.keras.optimizers.Adam(),\n",
    "              metrics=['accuracy'])"
   ]
  },
  {
   "cell_type": "code",
   "execution_count": 35,
   "id": "3458f68b",
   "metadata": {
    "execution": {
     "iopub.execute_input": "2025-01-01T16:54:53.441354Z",
     "iopub.status.busy": "2025-01-01T16:54:53.440985Z",
     "iopub.status.idle": "2025-01-01T16:54:53.463625Z",
     "shell.execute_reply": "2025-01-01T16:54:53.462696Z"
    },
    "papermill": {
     "duration": 0.051302,
     "end_time": "2025-01-01T16:54:53.464927",
     "exception": false,
     "start_time": "2025-01-01T16:54:53.413625",
     "status": "completed"
    },
    "tags": []
   },
   "outputs": [
    {
     "name": "stdout",
     "output_type": "stream",
     "text": [
      "Model: \"model\"\n",
      "_________________________________________________________________\n",
      " Layer (type)                Output Shape              Param #   \n",
      "=================================================================\n",
      " input_1 (InputLayer)        [(None, 1)]               0         \n",
      "                                                                 \n",
      " text_vectorization (TextVe  (None, 55)                0         \n",
      " ctorization)                                                    \n",
      "                                                                 \n",
      " Token_embedding (Embedding  (None, 55, 128)           8299648   \n",
      " )                                                               \n",
      "                                                                 \n",
      " bidirectional_lstm (Bidire  (None, 128)               98816     \n",
      " ctional)                                                        \n",
      "                                                                 \n",
      " dense (Dense)               (None, 5)                 645       \n",
      "                                                                 \n",
      "=================================================================\n",
      "Total params: 8399109 (32.04 MB)\n",
      "Trainable params: 8399109 (32.04 MB)\n",
      "Non-trainable params: 0 (0.00 Byte)\n",
      "_________________________________________________________________\n"
     ]
    }
   ],
   "source": [
    "#Model Summary \n",
    "model_1.summary()"
   ]
  },
  {
   "cell_type": "code",
   "execution_count": 36,
   "id": "5c8a0005",
   "metadata": {
    "execution": {
     "iopub.execute_input": "2025-01-01T16:54:53.523435Z",
     "iopub.status.busy": "2025-01-01T16:54:53.523198Z",
     "iopub.status.idle": "2025-01-01T16:56:36.464710Z",
     "shell.execute_reply": "2025-01-01T16:56:36.464010Z"
    },
    "papermill": {
     "duration": 102.972123,
     "end_time": "2025-01-01T16:56:36.466211",
     "exception": false,
     "start_time": "2025-01-01T16:54:53.494088",
     "status": "completed"
    },
    "tags": []
   },
   "outputs": [
    {
     "name": "stdout",
     "output_type": "stream",
     "text": [
      "Epoch 1/20\n",
      "562/562 [==============================] - 31s 40ms/step - loss: 0.7772 - accuracy: 0.7086 - val_loss: 0.6032 - val_accuracy: 0.7779\n",
      "Epoch 2/20\n",
      "562/562 [==============================] - 9s 16ms/step - loss: 0.5895 - accuracy: 0.7803 - val_loss: 0.5788 - val_accuracy: 0.7806\n",
      "Epoch 3/20\n",
      "562/562 [==============================] - 8s 14ms/step - loss: 0.5534 - accuracy: 0.7920 - val_loss: 0.5258 - val_accuracy: 0.8009\n",
      "Epoch 4/20\n",
      "562/562 [==============================] - 8s 13ms/step - loss: 0.5347 - accuracy: 0.8060 - val_loss: 0.5070 - val_accuracy: 0.8049\n",
      "Epoch 5/20\n",
      "562/562 [==============================] - 8s 14ms/step - loss: 0.5361 - accuracy: 0.8033 - val_loss: 0.4901 - val_accuracy: 0.8142\n",
      "Epoch 6/20\n",
      "562/562 [==============================] - 8s 14ms/step - loss: 0.5277 - accuracy: 0.8049 - val_loss: 0.4796 - val_accuracy: 0.8228\n",
      "Epoch 7/20\n",
      "562/562 [==============================] - 8s 15ms/step - loss: 0.5052 - accuracy: 0.8129 - val_loss: 0.4822 - val_accuracy: 0.8175\n",
      "Epoch 8/20\n",
      "562/562 [==============================] - 8s 13ms/step - loss: 0.4845 - accuracy: 0.8243 - val_loss: 0.4647 - val_accuracy: 0.8228\n",
      "Epoch 9/20\n",
      "562/562 [==============================] - 7s 13ms/step - loss: 0.4871 - accuracy: 0.8188 - val_loss: 0.4719 - val_accuracy: 0.8205\n",
      "Epoch 10/20\n",
      "562/562 [==============================] - 8s 14ms/step - loss: 0.4855 - accuracy: 0.8199 - val_loss: 0.4641 - val_accuracy: 0.8275\n",
      "Epoch 11/20\n",
      "562/562 [==============================] - 1s 1ms/step - loss: 0.5293 - accuracy: 0.8200 - val_loss: 0.4698 - val_accuracy: 0.8278\n"
     ]
    }
   ],
   "source": [
    "#Fit the model \n",
    "history_model_1=model_1.fit(train_dataset,\n",
    "                           steps_per_epoch=int(0.1*len(train_dataset)),\n",
    "                           epochs=20,\n",
    "                           validation_data=valid_dataset,\n",
    "                           validation_steps=int(0.1*len(valid_dataset)))"
   ]
  },
  {
   "cell_type": "code",
   "execution_count": 37,
   "id": "12745593",
   "metadata": {
    "execution": {
     "iopub.execute_input": "2025-01-01T16:56:36.644244Z",
     "iopub.status.busy": "2025-01-01T16:56:36.643931Z",
     "iopub.status.idle": "2025-01-01T16:56:41.572490Z",
     "shell.execute_reply": "2025-01-01T16:56:41.571546Z"
    },
    "papermill": {
     "duration": 5.015382,
     "end_time": "2025-01-01T16:56:41.574130",
     "exception": false,
     "start_time": "2025-01-01T16:56:36.558748",
     "status": "completed"
    },
    "tags": []
   },
   "outputs": [
    {
     "name": "stdout",
     "output_type": "stream",
     "text": [
      "945/945 [==============================] - 5s 5ms/step - loss: 0.4691 - accuracy: 0.8269\n"
     ]
    },
    {
     "data": {
      "text/plain": [
       "[0.4690673351287842, 0.8268899917602539]"
      ]
     },
     "execution_count": 37,
     "metadata": {},
     "output_type": "execute_result"
    }
   ],
   "source": [
    "#Evaluate on whole validation set \n",
    "model_1.evaluate(valid_dataset)"
   ]
  },
  {
   "cell_type": "code",
   "execution_count": 38,
   "id": "dd10978a",
   "metadata": {
    "execution": {
     "iopub.execute_input": "2025-01-01T16:56:41.765686Z",
     "iopub.status.busy": "2025-01-01T16:56:41.765338Z",
     "iopub.status.idle": "2025-01-01T16:56:48.478094Z",
     "shell.execute_reply": "2025-01-01T16:56:48.477208Z"
    },
    "papermill": {
     "duration": 6.803181,
     "end_time": "2025-01-01T16:56:48.479506",
     "exception": false,
     "start_time": "2025-01-01T16:56:41.676325",
     "status": "completed"
    },
    "tags": []
   },
   "outputs": [
    {
     "name": "stdout",
     "output_type": "stream",
     "text": [
      "945/945 [==============================] - 6s 4ms/step\n"
     ]
    },
    {
     "data": {
      "text/plain": [
       "array([[4.10152078e-01, 3.07634741e-01, 3.17732058e-02, 2.12379545e-01,\n",
       "        3.80605422e-02],\n",
       "       [6.23623133e-01, 2.05144212e-01, 3.25223245e-03, 1.58280939e-01,\n",
       "        9.69951134e-03],\n",
       "       [4.07833368e-01, 1.70708925e-03, 2.97994050e-03, 5.87155402e-01,\n",
       "        3.24122404e-04],\n",
       "       [4.40015644e-03, 9.67588159e-04, 9.42594647e-01, 6.01216173e-03,\n",
       "        4.60254587e-02],\n",
       "       [1.91486592e-03, 1.41819725e-02, 8.00171256e-01, 2.65015685e-03,\n",
       "        1.81081802e-01]], dtype=float32)"
      ]
     },
     "execution_count": 38,
     "metadata": {},
     "output_type": "execute_result"
    }
   ],
   "source": [
    "#make Predictions\n",
    "model_1_pred_probs=model_1.predict(valid_dataset)\n",
    "model_1_pred_probs[:5]"
   ]
  },
  {
   "cell_type": "code",
   "execution_count": 39,
   "id": "a689ae49",
   "metadata": {
    "execution": {
     "iopub.execute_input": "2025-01-01T16:56:48.669646Z",
     "iopub.status.busy": "2025-01-01T16:56:48.669323Z",
     "iopub.status.idle": "2025-01-01T16:56:48.677585Z",
     "shell.execute_reply": "2025-01-01T16:56:48.676640Z"
    },
    "papermill": {
     "duration": 0.106294,
     "end_time": "2025-01-01T16:56:48.679041",
     "exception": false,
     "start_time": "2025-01-01T16:56:48.572747",
     "status": "completed"
    },
    "tags": []
   },
   "outputs": [
    {
     "data": {
      "text/plain": [
       "<tf.Tensor: shape=(30212,), dtype=int64, numpy=array([0, 0, 3, ..., 4, 1, 1])>"
      ]
     },
     "execution_count": 39,
     "metadata": {},
     "output_type": "execute_result"
    }
   ],
   "source": [
    "#Convert the pred probs into classes labels\n",
    "model_1_preds=tf.argmax(model_1_pred_probs,axis=1)\n",
    "model_1_preds"
   ]
  },
  {
   "cell_type": "code",
   "execution_count": 40,
   "id": "c6f3a2d6",
   "metadata": {
    "execution": {
     "iopub.execute_input": "2025-01-01T16:56:48.863230Z",
     "iopub.status.busy": "2025-01-01T16:56:48.862977Z",
     "iopub.status.idle": "2025-01-01T16:56:48.867531Z",
     "shell.execute_reply": "2025-01-01T16:56:48.866874Z"
    },
    "papermill": {
     "duration": 0.097487,
     "end_time": "2025-01-01T16:56:48.868784",
     "exception": false,
     "start_time": "2025-01-01T16:56:48.771297",
     "status": "completed"
    },
    "tags": []
   },
   "outputs": [
    {
     "data": {
      "text/plain": [
       "array(['BACKGROUND', 'CONCLUSIONS', 'METHODS', 'OBJECTIVE', 'RESULTS'],\n",
       "      dtype=object)"
      ]
     },
     "execution_count": 40,
     "metadata": {},
     "output_type": "execute_result"
    }
   ],
   "source": [
    "class_names"
   ]
  },
  {
   "cell_type": "code",
   "execution_count": 41,
   "id": "70318cdd",
   "metadata": {
    "execution": {
     "iopub.execute_input": "2025-01-01T16:56:49.057305Z",
     "iopub.status.busy": "2025-01-01T16:56:49.056973Z",
     "iopub.status.idle": "2025-01-01T16:56:49.079640Z",
     "shell.execute_reply": "2025-01-01T16:56:49.078690Z"
    },
    "papermill": {
     "duration": 0.117668,
     "end_time": "2025-01-01T16:56:49.080975",
     "exception": false,
     "start_time": "2025-01-01T16:56:48.963307",
     "status": "completed"
    },
    "tags": []
   },
   "outputs": [
    {
     "data": {
      "text/plain": [
       "{'accuracy': 0.8268899774923871,\n",
       " 'precision': 0.8269166059106269,\n",
       " 'recall': 0.8268899774923871,\n",
       " 'F1-score': 0.8241879374413199}"
      ]
     },
     "execution_count": 41,
     "metadata": {},
     "output_type": "execute_result"
    }
   ],
   "source": [
    "#Calculate model_1 results\n",
    "model_1_results=calculate_results(y_true=val_label_encoded,\n",
    "                                  y_pred=model_1_preds.numpy())\n",
    "model_1_results"
   ]
  },
  {
   "cell_type": "markdown",
   "id": "b7088b1f",
   "metadata": {
    "papermill": {
     "duration": 0.09345,
     "end_time": "2025-01-01T16:56:49.266701",
     "exception": false,
     "start_time": "2025-01-01T16:56:49.173251",
     "status": "completed"
    },
    "tags": []
   },
   "source": [
    "## Model 2 : Feature Extraction with Pretrained token embeddings\n",
    "\n",
    "Now Lets use pretrained word embeddings from tensorflow hub, Universal Sentence Encoder: https://tfhub.dev/google/universal-sentence-encoder/4\n",
    "\n",
    "The paper originally used GloVe Embeddings, however we're going to stick with the later created `USE pretrained Embeddings`"
   ]
  },
  {
   "cell_type": "code",
   "execution_count": 42,
   "id": "0ecf5fc7",
   "metadata": {
    "execution": {
     "iopub.execute_input": "2025-01-01T16:56:49.494192Z",
     "iopub.status.busy": "2025-01-01T16:56:49.493900Z",
     "iopub.status.idle": "2025-01-01T16:57:04.726489Z",
     "shell.execute_reply": "2025-01-01T16:57:04.725745Z"
    },
    "papermill": {
     "duration": 15.327606,
     "end_time": "2025-01-01T16:57:04.728144",
     "exception": false,
     "start_time": "2025-01-01T16:56:49.400538",
     "status": "completed"
    },
    "tags": []
   },
   "outputs": [],
   "source": [
    "#Download pretrained tensorflow as hub\n",
    "import tensorflow_hub as hub\n",
    "\n",
    "tf_hub_embedding_layer=hub.KerasLayer(\"https://tfhub.dev/google/universal-sentence-encoder/4\",\n",
    "                                     trainable=False,\n",
    "                                     input_shape=[],\n",
    "                                     dtype=tf.string,\n",
    "                                     name='universal_sentence_encoder')"
   ]
  },
  {
   "cell_type": "code",
   "execution_count": 43,
   "id": "1e1dfc34",
   "metadata": {
    "execution": {
     "iopub.execute_input": "2025-01-01T16:57:04.916002Z",
     "iopub.status.busy": "2025-01-01T16:57:04.915587Z",
     "iopub.status.idle": "2025-01-01T16:57:07.042799Z",
     "shell.execute_reply": "2025-01-01T16:57:07.041855Z"
    },
    "papermill": {
     "duration": 2.222976,
     "end_time": "2025-01-01T16:57:07.044891",
     "exception": false,
     "start_time": "2025-01-01T16:57:04.821915",
     "status": "completed"
    },
    "tags": []
   },
   "outputs": [
    {
     "name": "stdout",
     "output_type": "stream",
     "text": [
      "Train Sentences:\n",
      "Spatial QRS-T angle was automatically measured from standard electrocardiogram of @ HIV-infected individuals without baseline widened spatial QRS-T angle from the Strategies for Management of Antiretroviral Therapy -LSB- SMART -RSB- , a clinical trial comparing two antiretroviral treatment strategies -LSB- Drug Conservation ( DC ) vs. Viral Suppression ( VS ) -RSB- .\n",
      "Sentence after embedding:\n",
      "[[-4.79575880e-02 -5.12452237e-02 -4.14179154e-02 -6.20081872e-02\n",
      "   4.27714037e-03 -6.01012744e-02  5.16825058e-02 -3.77681255e-02\n",
      "  -8.34012311e-03  6.83881342e-02  7.42478743e-02  5.77939267e-04\n",
      "   1.74188763e-02 -3.08401044e-02  5.85338846e-02  1.70773928e-04\n",
      "  -7.00980797e-02  3.32876891e-02 -5.58421426e-02 -8.69341288e-03\n",
      "   2.39635557e-02 -2.79474743e-02 -6.44711852e-02  2.51036719e-03\n",
      "   6.48401305e-02 -4.60435823e-02 -1.90900033e-03  3.22870389e-02\n",
      "   1.23286908e-02 -3.42824645e-02 -4.37077135e-03  7.66127333e-02\n",
      "   5.74303605e-02  5.29742986e-02  5.25883399e-02 -3.78995836e-02\n",
      "   7.68041983e-03  5.04868031e-02 -4.01671529e-02 -6.98494092e-02\n",
      "   1.55006964e-02 -3.83191295e-02  5.60534112e-02 -6.68745488e-02\n",
      "   1.28582409e-02  4.27330881e-02 -8.26662499e-03  6.54370114e-02\n",
      "  -7.72052305e-03  6.18047751e-02 -5.45836762e-02  3.37276980e-02\n",
      "  -7.50190392e-02 -4.51839380e-02 -6.90260381e-02  3.97942849e-02\n",
      "  -3.18695009e-02  4.61806729e-02  6.05263002e-02  4.50654402e-02\n",
      "  -1.61696859e-02  2.84233186e-02  3.50329392e-02  5.92909865e-02\n",
      "  -1.30202044e-02 -2.32382175e-02  6.85397089e-02 -2.29428411e-02\n",
      "  -1.88299466e-03 -4.89175878e-02 -6.61259592e-02  3.79996635e-02\n",
      "   2.03235466e-02 -3.58071961e-02  1.09200943e-02  2.46843696e-02\n",
      "  -2.58216672e-02 -6.85528480e-03 -2.36479826e-02 -5.86368516e-02\n",
      "  -4.72354554e-02  5.52452765e-02  4.30207327e-02  7.46862823e-03\n",
      "  -6.61682487e-02 -5.84253669e-03  4.46077026e-02 -5.39658554e-02\n",
      "  -1.82923749e-02 -6.09833859e-02 -1.03630964e-02 -2.71710474e-02\n",
      "   5.02424967e-03 -3.47532295e-02  4.40863036e-02  2.01091380e-03\n",
      "   2.05169357e-02  6.60481974e-02  1.37800183e-02 -6.68646917e-02\n",
      "  -1.69298239e-02  6.11124225e-02  6.75806552e-02  1.65199749e-02\n",
      "  -5.77578228e-03  5.39716482e-02 -2.27141548e-02  3.15412134e-02\n",
      "  -3.39572289e-04  1.92732029e-02  1.32537459e-03  3.78037384e-03\n",
      "   1.95761994e-02 -4.50994372e-02  5.18005304e-02  2.87545770e-02\n",
      "   7.23997178e-03  7.01588988e-02  4.42613736e-02 -3.04946769e-02\n",
      "   2.32154559e-02  2.28656065e-02 -4.00954932e-02  4.20056544e-02\n",
      "   6.51563630e-02  5.60660884e-02 -4.58700806e-02 -5.20123653e-02\n",
      "   2.85884477e-02 -8.92332941e-03  1.42730782e-02  7.61065856e-02\n",
      "   5.95526397e-02 -4.76766452e-02 -2.05099490e-02 -2.77486406e-02\n",
      "   6.66581243e-02  1.11283474e-02  2.10422650e-03  1.76617596e-02\n",
      "   3.29587348e-02  7.53481463e-02 -7.49050230e-02 -9.20123607e-03\n",
      "   1.52049754e-02 -6.14692457e-02  4.70735319e-02  1.02381753e-02\n",
      "  -1.70907993e-02 -4.32998911e-02  5.27575202e-02 -2.77335551e-02\n",
      "  -6.61466643e-02 -1.48349889e-02  2.73730941e-02  2.57187150e-02\n",
      "   3.28063071e-02  7.10174516e-02 -1.64509211e-02 -2.03404073e-02\n",
      "  -4.63558361e-02  4.27116044e-02 -6.48180768e-02  5.94057925e-02\n",
      "   2.63687912e-02 -1.03048533e-02  3.56292874e-02  6.77709188e-03\n",
      "   1.24048721e-02  3.36216688e-02 -5.04992455e-02 -7.04939514e-02\n",
      "   2.15392858e-02  6.35893419e-02  4.25050035e-02 -3.62519808e-02\n",
      "  -8.26503616e-03  1.65915843e-02 -3.92466038e-03  2.77479794e-02\n",
      "  -6.54017404e-02  1.89193792e-03  5.67001514e-02  9.75497998e-03\n",
      "   4.53872643e-02  3.50807346e-02  6.32673353e-02 -1.24727180e-02\n",
      "   1.59103256e-02 -8.92859884e-03  6.97297826e-02 -5.19151203e-02\n",
      "  -2.27794871e-02  4.82025035e-02  7.20844567e-02 -5.24862856e-02\n",
      "  -3.67341599e-05  1.19006531e-02 -1.71927444e-03 -7.24055767e-02\n",
      "   5.59951663e-02 -8.08702223e-03 -2.22008750e-02  5.84339984e-02\n",
      "   2.30512321e-02 -4.97594103e-02  3.39385457e-02 -5.00492677e-02\n",
      "   3.99530306e-03  3.03520933e-02 -6.03193678e-02 -9.46411956e-03\n",
      "   1.76962297e-02  6.24107420e-02 -7.21926838e-02 -7.19998311e-03\n",
      "   2.06250269e-02  8.79613683e-03 -3.99363227e-02 -5.26787713e-02\n",
      "   4.07209545e-02 -2.78018545e-02  6.03875630e-02 -8.83131102e-03\n",
      "   5.36071211e-02  5.46824187e-02  3.19562778e-02  6.62620440e-02\n",
      "   6.11700751e-02  7.24711344e-02  1.17279971e-02 -1.22694466e-02\n",
      "  -6.06717020e-02 -6.07970692e-02  6.86125159e-02 -6.05522692e-02\n",
      "  -3.27568687e-02  2.42513437e-02 -7.09785521e-02  7.43095353e-02\n",
      "  -3.65480073e-02  8.70180130e-03 -7.51520246e-02 -1.98549088e-02\n",
      "  -5.44450339e-03  5.65690249e-02 -7.34854117e-02 -4.52059694e-03\n",
      "   7.04027191e-02 -7.63351023e-02  3.27793397e-02  1.43405665e-02\n",
      "   4.30358574e-02 -1.53031787e-02  1.61431469e-02  3.25285718e-02\n",
      "  -5.83870076e-02  7.60748908e-02 -2.09540408e-02 -1.12608932e-02\n",
      "   4.94943745e-02  1.54918414e-02 -6.26072437e-02  5.68531640e-02\n",
      "  -1.31777450e-02  3.22765857e-02  4.53571640e-02 -6.69137463e-02\n",
      "  -6.17815256e-02 -2.81576943e-02 -2.27074698e-02  3.60843465e-02\n",
      "   4.70249951e-02 -7.62687922e-02 -1.82581171e-02 -1.62925776e-02\n",
      "   4.00958210e-02 -7.48251677e-02  2.59338617e-02 -4.17433642e-02\n",
      "  -5.39837331e-02  4.41843048e-02 -3.78637724e-02  3.38481069e-02\n",
      "  -3.51379700e-02 -2.77721956e-02  6.05457351e-02  4.11542282e-02\n",
      "   2.35460699e-02 -7.18758777e-02 -3.95941436e-02  4.49835695e-02\n",
      "   1.65929552e-02 -4.51467335e-02  4.90688309e-02  3.63191287e-03\n",
      "  -4.58675176e-02 -4.66089398e-02  3.84617448e-02 -5.45527088e-03\n",
      "   1.20982472e-02  5.19305095e-02 -4.86056954e-02 -5.04987910e-02\n",
      "  -6.68608472e-02  6.46569859e-03 -5.34525607e-03 -1.42432572e-02\n",
      "   4.54650149e-02  1.45710278e-02 -6.96048439e-02 -3.51305753e-02\n",
      "   4.51397561e-02 -4.08896012e-03  1.87427234e-02 -3.04773934e-02\n",
      "   7.04742968e-02 -3.61810066e-02 -3.60450409e-02 -6.18409999e-02\n",
      "  -7.15126768e-02  3.98004986e-02  7.11537804e-03 -7.38222525e-02\n",
      "  -2.73394492e-02 -2.11922601e-02 -3.63849588e-02  9.67219658e-03\n",
      "   5.52808261e-03 -7.34108612e-02  5.52609377e-02 -1.88407637e-02\n",
      "   3.34455520e-02  7.31857494e-02  7.93882739e-03 -2.84916367e-02\n",
      "   5.70038483e-02 -7.36249797e-03 -2.11532251e-03 -3.34465429e-02\n",
      "  -1.83620509e-02  7.59670162e-04  6.34543300e-02  1.57203339e-02\n",
      "  -6.52386472e-02  5.90797327e-02  6.09387904e-02 -2.27794647e-02\n",
      "  -4.15650532e-02 -1.34992925e-02 -2.40934442e-05  2.18692832e-02\n",
      "   2.89273635e-02 -5.68398181e-03  7.29805455e-02  5.63287809e-02\n",
      "  -7.12306798e-02 -2.65844092e-02  5.72945774e-02 -2.53310613e-02\n",
      "   4.43876274e-02 -1.53330853e-02 -6.34829700e-02 -3.40835117e-02\n",
      "   3.28147374e-02  4.81897444e-02  2.94173677e-02  4.08469662e-02\n",
      "   4.25141454e-02  5.02273105e-02  1.92712154e-02  4.39453050e-02\n",
      "  -6.58191368e-02 -2.00306103e-02  6.94194287e-02  2.63297427e-02\n",
      "   4.17183079e-02 -5.71342558e-02  2.32311543e-02 -7.26863444e-02\n",
      "  -3.57136615e-02  6.19761869e-02 -2.09345371e-02 -2.06002500e-02\n",
      "   2.44624671e-02 -4.50480059e-02 -2.79675983e-03  5.66505678e-02\n",
      "   3.73123512e-02  5.22067808e-02  2.61746217e-02  1.41697982e-02\n",
      "   1.73908249e-02 -4.45182025e-02 -5.58946729e-02  7.12367818e-02\n",
      "   7.23568797e-02 -4.13962267e-02  6.41554594e-02 -5.75758368e-02\n",
      "   7.58034810e-02  2.95587275e-02 -5.40548451e-02 -3.00080627e-02\n",
      "   4.74263355e-02 -5.35921603e-02  4.88594584e-02  1.39855668e-02\n",
      "   6.96088821e-02  3.82245891e-02 -5.13354084e-03  1.88325497e-03\n",
      "   1.04035521e-02  4.77668643e-02 -3.88327055e-02 -6.50983080e-02\n",
      "  -3.37827019e-02  5.14773615e-02 -4.15518470e-02  7.28814900e-02\n",
      "  -4.89171073e-02 -2.13894504e-03  4.35040221e-02 -4.03834730e-02\n",
      "  -3.13317813e-02 -6.94243014e-02  4.26023304e-02 -4.02814262e-02\n",
      "   3.49594727e-02 -1.25045208e-02 -6.85302764e-02 -4.85007390e-02\n",
      "  -6.18363591e-03 -6.29322371e-03 -5.02004735e-02 -2.40047295e-02\n",
      "   1.95192117e-02  1.72263961e-02 -1.29854288e-02  5.72834164e-02\n",
      "   3.95110510e-02  9.05656349e-03 -5.69480546e-02  4.92956862e-02\n",
      "  -4.57734875e-02 -6.32732362e-02 -1.73222157e-03  1.56488121e-02\n",
      "  -2.85238344e-02 -3.57190259e-02 -4.79274280e-02  5.05500212e-02\n",
      "  -2.73379870e-02  7.13306814e-02 -3.40094306e-02 -5.46409152e-02\n",
      "  -2.44736131e-02  7.03853518e-02 -3.22054699e-02  6.36757612e-02\n",
      "   6.69183359e-02 -5.67853674e-02 -7.09033608e-02  9.98203550e-03\n",
      "  -7.03489631e-02 -3.88712548e-02 -6.45664707e-02 -3.97662781e-02\n",
      "   2.11435817e-02 -6.64204732e-02  6.67961761e-02  6.35503605e-02\n",
      "  -2.31615882e-02 -4.65989932e-02  2.41856556e-02  3.76572721e-02\n",
      "  -4.27478962e-02  2.86582559e-02 -2.28703977e-03  4.40670513e-02\n",
      "  -3.01983748e-02  6.12818673e-02  6.29438609e-02 -7.05916435e-02\n",
      "   6.58403039e-02  6.52458519e-02  7.20265433e-02 -3.85825895e-02\n",
      "  -1.43673597e-02 -3.09087988e-03  3.75517420e-02 -6.57402968e-04\n",
      "  -3.51155773e-02 -4.45718132e-02  6.65353462e-02  3.73234637e-02\n",
      "   5.70877939e-02  3.56115103e-02  6.07009381e-02  4.06418480e-02\n",
      "   4.68200445e-02 -6.75480440e-02 -5.03372923e-02 -7.62687027e-02\n",
      "   3.39334942e-02 -7.63639212e-02  2.66487319e-02  3.77671681e-02\n",
      "  -3.26373614e-02  3.16854566e-02 -9.27229878e-03 -5.64388484e-02]]\n",
      "Length of sentences embedding:512\n"
     ]
    }
   ],
   "source": [
    "# Test out the pretrained embedding on a random sentences\n",
    "random_train_sentences=random.choice(train_sentences)\n",
    "print(f\"Train Sentences:\\n{random_train_sentences}\")\n",
    "use_embedding_sentences=tf_hub_embedding_layer([random_train_sentences])\n",
    "print(f\"Sentence after embedding:\\n{use_embedding_sentences}\")\n",
    "print(f\"Length of sentences embedding:{len(use_embedding_sentences[0])}\")"
   ]
  },
  {
   "cell_type": "markdown",
   "id": "05e4a6a3",
   "metadata": {
    "papermill": {
     "duration": 0.09151,
     "end_time": "2025-01-01T16:57:07.230712",
     "exception": false,
     "start_time": "2025-01-01T16:57:07.139202",
     "status": "completed"
    },
    "tags": []
   },
   "source": [
    "### Building and fitting an NLP feature Extraction model using pretrained embeddings tensorflow hub"
   ]
  },
  {
   "cell_type": "code",
   "execution_count": 44,
   "id": "32430ccb",
   "metadata": {
    "execution": {
     "iopub.execute_input": "2025-01-01T16:57:07.418508Z",
     "iopub.status.busy": "2025-01-01T16:57:07.418210Z",
     "iopub.status.idle": "2025-01-01T16:57:07.824295Z",
     "shell.execute_reply": "2025-01-01T16:57:07.823576Z"
    },
    "papermill": {
     "duration": 0.501696,
     "end_time": "2025-01-01T16:57:07.825549",
     "exception": false,
     "start_time": "2025-01-01T16:57:07.323853",
     "status": "completed"
    },
    "tags": []
   },
   "outputs": [
    {
     "name": "stdout",
     "output_type": "stream",
     "text": [
      "Model: \"model_2_USE_feature_extractor\"\n",
      "_________________________________________________________________\n",
      " Layer (type)                Output Shape              Param #   \n",
      "=================================================================\n",
      " input_2 (InputLayer)        [(None,)]                 0         \n",
      "                                                                 \n",
      " universal_sentence_encoder  (None, 512)               256797824 \n",
      "  (KerasLayer)                                                   \n",
      "                                                                 \n",
      " dense_1 (Dense)             (None, 128)               65664     \n",
      "                                                                 \n",
      " dense_2 (Dense)             (None, 5)                 645       \n",
      "                                                                 \n",
      "=================================================================\n",
      "Total params: 256864133 (979.86 MB)\n",
      "Trainable params: 66309 (259.02 KB)\n",
      "Non-trainable params: 256797824 (979.61 MB)\n",
      "_________________________________________________________________\n"
     ]
    }
   ],
   "source": [
    "#Define feature extraction model using Tf Hub layers\n",
    "inputs=layers.Input(shape=(),dtype=tf.string) \n",
    "pretrained_embedding=tf_hub_embedding_layer(inputs) #tokenize the text and create embedding of each sequence (512 long vectors)\n",
    "x=layers.Dense(128,activation='relu')(pretrained_embedding)\n",
    "#Note: U could add more layers here if you wanted to\n",
    "outputs=layers.Dense(num_classes,activation='softmax')(x) #Create an output layer \n",
    "\n",
    "\n",
    "#Create a model\n",
    "model_2=tf.keras.Model(inputs,outputs,name='model_2_USE_feature_extractor')\n",
    "\n",
    "#Compile the model\n",
    "model_2.compile(loss='categorical_crossentropy',\n",
    "               optimizer=tf.keras.optimizers.Adam(),\n",
    "               metrics=['accuracy'])\n",
    "\n",
    "#Architecure of model_2\n",
    "model_2.summary()"
   ]
  },
  {
   "cell_type": "code",
   "execution_count": 45,
   "id": "5755e62e",
   "metadata": {
    "execution": {
     "iopub.execute_input": "2025-01-01T16:57:08.015271Z",
     "iopub.status.busy": "2025-01-01T16:57:08.014963Z",
     "iopub.status.idle": "2025-01-01T16:58:09.111198Z",
     "shell.execute_reply": "2025-01-01T16:58:09.110431Z"
    },
    "papermill": {
     "duration": 61.192781,
     "end_time": "2025-01-01T16:58:09.112615",
     "exception": false,
     "start_time": "2025-01-01T16:57:07.919834",
     "status": "completed"
    },
    "tags": []
   },
   "outputs": [
    {
     "name": "stdout",
     "output_type": "stream",
     "text": [
      "Epoch 1/20\n",
      "562/562 [==============================] - 9s 11ms/step - loss: 0.9149 - accuracy: 0.6517 - val_loss: 0.7964 - val_accuracy: 0.6908\n",
      "Epoch 2/20\n",
      "562/562 [==============================] - 6s 10ms/step - loss: 0.7698 - accuracy: 0.7008 - val_loss: 0.7559 - val_accuracy: 0.7031\n",
      "Epoch 3/20\n",
      "562/562 [==============================] - 6s 10ms/step - loss: 0.7552 - accuracy: 0.7100 - val_loss: 0.7418 - val_accuracy: 0.7144\n",
      "Epoch 4/20\n",
      "562/562 [==============================] - 6s 10ms/step - loss: 0.7217 - accuracy: 0.7221 - val_loss: 0.7125 - val_accuracy: 0.7281\n",
      "Epoch 5/20\n",
      "562/562 [==============================] - 6s 10ms/step - loss: 0.7287 - accuracy: 0.7210 - val_loss: 0.6917 - val_accuracy: 0.7367\n",
      "Epoch 6/20\n",
      "562/562 [==============================] - 6s 11ms/step - loss: 0.7187 - accuracy: 0.7246 - val_loss: 0.6812 - val_accuracy: 0.7350\n",
      "Epoch 7/20\n",
      "562/562 [==============================] - 6s 10ms/step - loss: 0.6854 - accuracy: 0.7397 - val_loss: 0.6653 - val_accuracy: 0.7480\n",
      "Epoch 8/20\n",
      "562/562 [==============================] - 6s 10ms/step - loss: 0.6747 - accuracy: 0.7437 - val_loss: 0.6522 - val_accuracy: 0.7513\n",
      "Epoch 9/20\n",
      "562/562 [==============================] - 6s 10ms/step - loss: 0.6709 - accuracy: 0.7448 - val_loss: 0.6537 - val_accuracy: 0.7520\n",
      "Epoch 10/20\n",
      "562/562 [==============================] - 6s 10ms/step - loss: 0.6648 - accuracy: 0.7482 - val_loss: 0.6499 - val_accuracy: 0.7557\n",
      "Epoch 11/20\n",
      "562/562 [==============================] - 1s 2ms/step - loss: 0.6814 - accuracy: 0.7500 - val_loss: 0.6534 - val_accuracy: 0.7563\n"
     ]
    }
   ],
   "source": [
    "#Fit the model\n",
    "history_model_2=model_2.fit(train_dataset,\n",
    "                           steps_per_epoch=int(0.1*len(train_dataset)),\n",
    "                           epochs=20,\n",
    "                           validation_data=valid_dataset,\n",
    "                           validation_steps=int(0.1*len(valid_dataset)))"
   ]
  },
  {
   "cell_type": "code",
   "execution_count": 46,
   "id": "50f6fd2e",
   "metadata": {
    "execution": {
     "iopub.execute_input": "2025-01-01T16:58:09.396539Z",
     "iopub.status.busy": "2025-01-01T16:58:09.396200Z",
     "iopub.status.idle": "2025-01-01T16:58:17.541202Z",
     "shell.execute_reply": "2025-01-01T16:58:17.540308Z"
    },
    "papermill": {
     "duration": 8.28745,
     "end_time": "2025-01-01T16:58:17.542547",
     "exception": false,
     "start_time": "2025-01-01T16:58:09.255097",
     "status": "completed"
    },
    "tags": []
   },
   "outputs": [
    {
     "name": "stdout",
     "output_type": "stream",
     "text": [
      "945/945 [==============================] - 8s 9ms/step - loss: 0.6572 - accuracy: 0.7490\n"
     ]
    },
    {
     "data": {
      "text/plain": [
       "[0.6571904420852661, 0.7489739060401917]"
      ]
     },
     "execution_count": 46,
     "metadata": {},
     "output_type": "execute_result"
    }
   ],
   "source": [
    "model_2.evaluate(valid_dataset)"
   ]
  },
  {
   "cell_type": "code",
   "execution_count": 47,
   "id": "cb1c3658",
   "metadata": {
    "execution": {
     "iopub.execute_input": "2025-01-01T16:58:17.881463Z",
     "iopub.status.busy": "2025-01-01T16:58:17.881124Z",
     "iopub.status.idle": "2025-01-01T16:58:25.698236Z",
     "shell.execute_reply": "2025-01-01T16:58:25.697297Z"
    },
    "papermill": {
     "duration": 7.966832,
     "end_time": "2025-01-01T16:58:25.699623",
     "exception": false,
     "start_time": "2025-01-01T16:58:17.732791",
     "status": "completed"
    },
    "tags": []
   },
   "outputs": [
    {
     "name": "stdout",
     "output_type": "stream",
     "text": [
      "945/945 [==============================] - 8s 8ms/step\n"
     ]
    },
    {
     "data": {
      "text/plain": [
       "array([[4.5556673e-01, 4.1604078e-01, 5.9325260e-04, 1.1787445e-01,\n",
       "        9.9247936e-03],\n",
       "       [3.6713713e-01, 5.4732931e-01, 2.0286036e-03, 8.2401007e-02,\n",
       "        1.1039533e-03],\n",
       "       [4.2024624e-01, 3.9752338e-02, 2.5615254e-02, 4.7461873e-01,\n",
       "        3.9767411e-02],\n",
       "       [9.2470022e-03, 4.5225028e-02, 7.8432053e-01, 6.9866967e-03,\n",
       "        1.5422076e-01],\n",
       "       [7.7223293e-03, 5.6167677e-02, 5.1017708e-01, 3.2281117e-03,\n",
       "        4.2270485e-01]], dtype=float32)"
      ]
     },
     "execution_count": 47,
     "metadata": {},
     "output_type": "execute_result"
    }
   ],
   "source": [
    "#MAke predictions with feature extractio model\n",
    "model_2_pred_probs=model_2.predict(valid_dataset)\n",
    "model_2_pred_probs[:5]"
   ]
  },
  {
   "cell_type": "code",
   "execution_count": 48,
   "id": "9e4f9b4f",
   "metadata": {
    "execution": {
     "iopub.execute_input": "2025-01-01T16:58:26.010747Z",
     "iopub.status.busy": "2025-01-01T16:58:26.010429Z",
     "iopub.status.idle": "2025-01-01T16:58:26.018828Z",
     "shell.execute_reply": "2025-01-01T16:58:26.018073Z"
    },
    "papermill": {
     "duration": 0.160853,
     "end_time": "2025-01-01T16:58:26.020032",
     "exception": false,
     "start_time": "2025-01-01T16:58:25.859179",
     "status": "completed"
    },
    "tags": []
   },
   "outputs": [
    {
     "data": {
      "text/plain": [
       "<tf.Tensor: shape=(5,), dtype=int64, numpy=array([0, 1, 3, 2, 2])>"
      ]
     },
     "execution_count": 48,
     "metadata": {},
     "output_type": "execute_result"
    }
   ],
   "source": [
    "#Convert probabilities to labels\n",
    "model_2_preds=tf.argmax(model_2_pred_probs,axis=1)\n",
    "model_2_preds[:5]"
   ]
  },
  {
   "cell_type": "code",
   "execution_count": 49,
   "id": "8506e3f4",
   "metadata": {
    "execution": {
     "iopub.execute_input": "2025-01-01T16:58:26.321243Z",
     "iopub.status.busy": "2025-01-01T16:58:26.320921Z",
     "iopub.status.idle": "2025-01-01T16:58:26.338785Z",
     "shell.execute_reply": "2025-01-01T16:58:26.338098Z"
    },
    "papermill": {
     "duration": 0.171787,
     "end_time": "2025-01-01T16:58:26.340230",
     "exception": false,
     "start_time": "2025-01-01T16:58:26.168443",
     "status": "completed"
    },
    "tags": []
   },
   "outputs": [
    {
     "data": {
      "text/plain": [
       "{'accuracy': 0.7489739176486164,\n",
       " 'precision': 0.7443508017066346,\n",
       " 'recall': 0.7489739176486164,\n",
       " 'F1-score': 0.7442166097964635}"
      ]
     },
     "execution_count": 49,
     "metadata": {},
     "output_type": "execute_result"
    }
   ],
   "source": [
    "#Calculate reesults of model_2 \n",
    "model_2_results=calculate_results(y_true=val_label_encoded,\n",
    "                         y_pred=model_2_preds)\n",
    "model_2_results"
   ]
  },
  {
   "cell_type": "markdown",
   "id": "fca794e8",
   "metadata": {
    "papermill": {
     "duration": 0.150638,
     "end_time": "2025-01-01T16:58:26.643023",
     "exception": false,
     "start_time": "2025-01-01T16:58:26.492385",
     "status": "completed"
    },
    "tags": []
   },
   "source": [
    "## Model 3 : Bidirectional-lstm with character embeddings\n",
    "\n",
    "the paper we've replicating states they used a combination of token and character-level embeddings \n",
    "Previously, we have made token level embeddings but we need similar for character if we want to use char-level emebeddings.\n",
    "\n",
    "`Character embeddings` are representation of text at the character level rather than at the words sentence level.\n",
    "* `What are they?` Character embeddings are numerical vectors that represent individual characters instead of entire words or phrases.\n",
    "* `Why use them?` They are especially useful for capturing subword patterns such as phrases and spelling variations. Handling out of vocab word is easier because every word is built from characters."
   ]
  },
  {
   "cell_type": "markdown",
   "id": "6962ff01",
   "metadata": {
    "papermill": {
     "duration": 0.150548,
     "end_time": "2025-01-01T16:58:26.981472",
     "exception": false,
     "start_time": "2025-01-01T16:58:26.830924",
     "status": "completed"
    },
    "tags": []
   },
   "source": [
    "#### Create a character-level tokenizer"
   ]
  },
  {
   "cell_type": "code",
   "execution_count": 50,
   "id": "15001d0e",
   "metadata": {
    "execution": {
     "iopub.execute_input": "2025-01-01T16:58:27.291754Z",
     "iopub.status.busy": "2025-01-01T16:58:27.291413Z",
     "iopub.status.idle": "2025-01-01T16:58:27.296466Z",
     "shell.execute_reply": "2025-01-01T16:58:27.295713Z"
    },
    "papermill": {
     "duration": 0.163951,
     "end_time": "2025-01-01T16:58:27.297829",
     "exception": false,
     "start_time": "2025-01-01T16:58:27.133878",
     "status": "completed"
    },
    "tags": []
   },
   "outputs": [
    {
     "data": {
      "text/plain": [
       "'S p a t i a l   Q R S - T   a n g l e   w a s   a u t o m a t i c a l l y   m e a s u r e d   f r o m   s t a n d a r d   e l e c t r o c a r d i o g r a m   o f   @   H I V - i n f e c t e d   i n d i v i d u a l s   w i t h o u t   b a s e l i n e   w i d e n e d   s p a t i a l   Q R S - T   a n g l e   f r o m   t h e   S t r a t e g i e s   f o r   M a n a g e m e n t   o f   A n t i r e t r o v i r a l   T h e r a p y   - L S B -   S M A R T   - R S B -   ,   a   c l i n i c a l   t r i a l   c o m p a r i n g   t w o   a n t i r e t r o v i r a l   t r e a t m e n t   s t r a t e g i e s   - L S B -   D r u g   C o n s e r v a t i o n   (   D C   )   v s .   V i r a l   S u p p r e s s i o n   (   V S   )   - R S B -   .'"
      ]
     },
     "execution_count": 50,
     "metadata": {},
     "output_type": "execute_result"
    }
   ],
   "source": [
    "# make function to split sentences into characters\n",
    "def split_text_into_chars(text):\n",
    "    return \" \".join(list(text))\n",
    "\n",
    "#Text splittinf non-character level sequence into characters\n",
    "split_text_into_chars(random_train_sentences)"
   ]
  },
  {
   "cell_type": "code",
   "execution_count": 51,
   "id": "c5ce7c2b",
   "metadata": {
    "execution": {
     "iopub.execute_input": "2025-01-01T16:58:27.603923Z",
     "iopub.status.busy": "2025-01-01T16:58:27.603578Z",
     "iopub.status.idle": "2025-01-01T16:58:28.352506Z",
     "shell.execute_reply": "2025-01-01T16:58:28.351609Z"
    },
    "papermill": {
     "duration": 0.902185,
     "end_time": "2025-01-01T16:58:28.353795",
     "exception": false,
     "start_time": "2025-01-01T16:58:27.451610",
     "status": "completed"
    },
    "tags": []
   },
   "outputs": [
    {
     "data": {
      "text/plain": [
       "['T o   i n v e s t i g a t e   t h e   e f f i c a c y   o f   @   w e e k s   o f   d a i l y   l o w - d o s e   o r a l   p r e d n i s o l o n e   i n   i m p r o v i n g   p a i n   ,   m o b i l i t y   ,   a n d   s y s t e m i c   l o w - g r a d e   i n f l a m m a t i o n   i n   t h e   s h o r t   t e r m   a n d   w h e t h e r   t h e   e f f e c t   w o u l d   b e   s u s t a i n e d   a t   @   w e e k s   i n   o l d e r   a d u l t s   w i t h   m o d e r a t e   t o   s e v e r e   k n e e   o s t e o a r t h r i t i s   (   O A   )   .',\n",
       " 'A   t o t a l   o f   @   p a t i e n t s   w i t h   p r i m a r y   k n e e   O A   w e r e   r a n d o m i z e d   @ : @   ;   @   r e c e i v e d   @   m g / d a y   o f   p r e d n i s o l o n e   a n d   @   r e c e i v e d   p l a c e b o   f o r   @   w e e k s   .',\n",
       " 'O u t c o m e   m e a s u r e s   i n c l u d e d   p a i n   r e d u c t i o n   a n d   i m p r o v e m e n t   i n   f u n c t i o n   s c o r e s   a n d   s y s t e m i c   i n f l a m m a t i o n   m a r k e r s   .']"
      ]
     },
     "execution_count": 51,
     "metadata": {},
     "output_type": "execute_result"
    }
   ],
   "source": [
    "#Split sequences-level data splits into character-level data splits\n",
    "train_chars=[split_text_into_chars(sentence) for sentence in train_sentences]\n",
    "val_chars=[split_text_into_chars(sentence) for sentence in val_sentences]\n",
    "test_chars=[split_text_into_chars(sentence) for sentence in test_sentences]\n",
    "train_chars[:3]"
   ]
  },
  {
   "cell_type": "code",
   "execution_count": 52,
   "id": "60659190",
   "metadata": {
    "execution": {
     "iopub.execute_input": "2025-01-01T16:58:28.655870Z",
     "iopub.status.busy": "2025-01-01T16:58:28.655539Z",
     "iopub.status.idle": "2025-01-01T16:58:28.688204Z",
     "shell.execute_reply": "2025-01-01T16:58:28.687475Z"
    },
    "papermill": {
     "duration": 0.184888,
     "end_time": "2025-01-01T16:58:28.689526",
     "exception": false,
     "start_time": "2025-01-01T16:58:28.504638",
     "status": "completed"
    },
    "tags": []
   },
   "outputs": [
    {
     "data": {
      "text/plain": [
       "149.3662574983337"
      ]
     },
     "execution_count": 52,
     "metadata": {},
     "output_type": "execute_result"
    }
   ],
   "source": [
    "# WHat average character length?\n",
    "chars_lens=[len(sentence) for sentence in train_sentences]\n",
    "mean_char_len=np.mean(chars_lens)\n",
    "mean_char_len"
   ]
  },
  {
   "cell_type": "code",
   "execution_count": 53,
   "id": "43bea8b3",
   "metadata": {
    "execution": {
     "iopub.execute_input": "2025-01-01T16:58:29.034440Z",
     "iopub.status.busy": "2025-01-01T16:58:29.034128Z",
     "iopub.status.idle": "2025-01-01T16:58:29.649089Z",
     "shell.execute_reply": "2025-01-01T16:58:29.648202Z"
    },
    "papermill": {
     "duration": 0.808197,
     "end_time": "2025-01-01T16:58:29.650335",
     "exception": false,
     "start_time": "2025-01-01T16:58:28.842138",
     "status": "completed"
    },
    "tags": []
   },
   "outputs": [
    {
     "data": {
      "text/plain": [
       "(array([1.41175e+05, 3.71110e+04, 1.60000e+03, 1.27000e+02, 2.10000e+01,\n",
       "        5.00000e+00, 1.00000e+00]),\n",
       " array([1.00000000e+00, 1.98857143e+02, 3.96714286e+02, 5.94571429e+02,\n",
       "        7.92428571e+02, 9.90285714e+02, 1.18814286e+03, 1.38600000e+03]),\n",
       " <BarContainer object of 7 artists>)"
      ]
     },
     "execution_count": 53,
     "metadata": {},
     "output_type": "execute_result"
    },
    {
     "data": {
      "image/png": "[encoded data removed]",
      "text/plain": [
       "<Figure size 640x480 with 1 Axes>"
      ]
     },
     "metadata": {},
     "output_type": "display_data"
    }
   ],
   "source": [
    "#Check distribution of our sequences at character level\n",
    "import matplotlib.pyplot as plt\n",
    "plt.hist(chars_lens,bins=7)"
   ]
  },
  {
   "cell_type": "code",
   "execution_count": 54,
   "id": "7c61603f",
   "metadata": {
    "execution": {
     "iopub.execute_input": "2025-01-01T16:58:29.955183Z",
     "iopub.status.busy": "2025-01-01T16:58:29.954889Z",
     "iopub.status.idle": "2025-01-01T16:58:29.968966Z",
     "shell.execute_reply": "2025-01-01T16:58:29.968222Z"
    },
    "papermill": {
     "duration": 0.167852,
     "end_time": "2025-01-01T16:58:29.970097",
     "exception": false,
     "start_time": "2025-01-01T16:58:29.802245",
     "status": "completed"
    },
    "tags": []
   },
   "outputs": [
    {
     "data": {
      "text/plain": [
       "290"
      ]
     },
     "execution_count": 54,
     "metadata": {},
     "output_type": "execute_result"
    }
   ],
   "source": [
    "# Find the character lengths covers 95% of sequences\n",
    "output_seq_char_len=int(np.percentile(chars_lens,95))\n",
    "output_seq_char_len"
   ]
  },
  {
   "cell_type": "code",
   "execution_count": 55,
   "id": "83e8c991",
   "metadata": {
    "execution": {
     "iopub.execute_input": "2025-01-01T16:58:30.301039Z",
     "iopub.status.busy": "2025-01-01T16:58:30.300738Z",
     "iopub.status.idle": "2025-01-01T16:58:30.305627Z",
     "shell.execute_reply": "2025-01-01T16:58:30.304951Z"
    },
    "papermill": {
     "duration": 0.183599,
     "end_time": "2025-01-01T16:58:30.306934",
     "exception": false,
     "start_time": "2025-01-01T16:58:30.123335",
     "status": "completed"
    },
    "tags": []
   },
   "outputs": [
    {
     "data": {
      "text/plain": [
       "'abcdefghijklmnopqrstuvwxyz0123456789!\"#$%&\\'()*+,-./:;<=>?@[\\\\]^_`{|}~'"
      ]
     },
     "execution_count": 55,
     "metadata": {},
     "output_type": "execute_result"
    }
   ],
   "source": [
    "#Get all the keywords characters\n",
    "import string\n",
    "alphabet=string.ascii_lowercase+string.digits+string.punctuation\n",
    "alphabet"
   ]
  },
  {
   "cell_type": "code",
   "execution_count": 56,
   "id": "5755f232",
   "metadata": {
    "execution": {
     "iopub.execute_input": "2025-01-01T16:58:30.609162Z",
     "iopub.status.busy": "2025-01-01T16:58:30.608861Z",
     "iopub.status.idle": "2025-01-01T16:58:30.617024Z",
     "shell.execute_reply": "2025-01-01T16:58:30.616224Z"
    },
    "papermill": {
     "duration": 0.160038,
     "end_time": "2025-01-01T16:58:30.618342",
     "exception": false,
     "start_time": "2025-01-01T16:58:30.458304",
     "status": "completed"
    },
    "tags": []
   },
   "outputs": [],
   "source": [
    "#Create character level tokenizer istance\n",
    "NUM_CHARS_TOKENS=len(alphabet)\n",
    "char_vectorizer=TextVectorization(max_tokens=NUM_CHARS_TOKENS,\n",
    "                                 output_sequence_length=output_seq_char_len,\n",
    "                                 standardize=None,\n",
    "                                 name='char_vectorizer')"
   ]
  },
  {
   "cell_type": "code",
   "execution_count": 57,
   "id": "42361132",
   "metadata": {
    "execution": {
     "iopub.execute_input": "2025-01-01T16:58:30.923363Z",
     "iopub.status.busy": "2025-01-01T16:58:30.922979Z",
     "iopub.status.idle": "2025-01-01T16:58:44.102891Z",
     "shell.execute_reply": "2025-01-01T16:58:44.101917Z"
    },
    "papermill": {
     "duration": 13.333773,
     "end_time": "2025-01-01T16:58:44.104445",
     "exception": false,
     "start_time": "2025-01-01T16:58:30.770672",
     "status": "completed"
    },
    "tags": []
   },
   "outputs": [],
   "source": [
    "#Adapt the character vectorizer to training characters\n",
    "char_vectorizer.adapt(train_chars)"
   ]
  },
  {
   "cell_type": "code",
   "execution_count": 58,
   "id": "8e5f017b",
   "metadata": {
    "execution": {
     "iopub.execute_input": "2025-01-01T16:58:44.457091Z",
     "iopub.status.busy": "2025-01-01T16:58:44.456779Z",
     "iopub.status.idle": "2025-01-01T16:58:44.462862Z",
     "shell.execute_reply": "2025-01-01T16:58:44.461860Z"
    },
    "papermill": {
     "duration": 0.204478,
     "end_time": "2025-01-01T16:58:44.464173",
     "exception": false,
     "start_time": "2025-01-01T16:58:44.259695",
     "status": "completed"
    },
    "tags": []
   },
   "outputs": [
    {
     "name": "stdout",
     "output_type": "stream",
     "text": [
      "Number of characters in vocab:68\n",
      "5 Most Common Characters:['', '[UNK]', 'e', 't', 'i']\n",
      "5 Least Common Characters:['+', 'X', '`', '>', 'J']\n"
     ]
    }
   ],
   "source": [
    "#Check characters vocab stats\n",
    "char_vocab=char_vectorizer.get_vocabulary()\n",
    "print(f\"Number of characters in vocab:{len(char_vocab)}\")\n",
    "print(f\"5 Most Common Characters:{char_vocab[:5]}\")\n",
    "print(f\"5 Least Common Characters:{char_vocab[-5:]}\")"
   ]
  },
  {
   "cell_type": "code",
   "execution_count": 59,
   "id": "67eb5552",
   "metadata": {
    "execution": {
     "iopub.execute_input": "2025-01-01T16:58:44.767948Z",
     "iopub.status.busy": "2025-01-01T16:58:44.767602Z",
     "iopub.status.idle": "2025-01-01T16:58:44.781805Z",
     "shell.execute_reply": "2025-01-01T16:58:44.780891Z"
    },
    "papermill": {
     "duration": 0.167923,
     "end_time": "2025-01-01T16:58:44.783148",
     "exception": false,
     "start_time": "2025-01-01T16:58:44.615225",
     "status": "completed"
    },
    "tags": []
   },
   "outputs": [
    {
     "name": "stdout",
     "output_type": "stream",
     "text": [
      "Text:\n",
      "P a r t i c i p a n t s   w e r e   r a n d o m l y   a s s i g n e d   t o   e i t h e r   a   s l e e p   e x t e n s i o n   g r o u p   (   g r a d u a l   s l e e p   e x t e n s i o n   b y   a d v a n c i n g   b e d t i m e s   i n   t h e   e v e n i n g   a n d   r e c e i v i n g   s l e e p   h y g i e n e   a d v i c e   )   o r   t o   a   c o n t r o l   g r o u p   (   n o   i n s t r u c t i o n   )   .\n",
      "\n",
      "Length of random_train_chars:177\n",
      "Vectorized Text:\n",
      "[[32  5  8  3  4 12  4 14  5  6  3  9 21  2  8  2  8  5  6 10  7 15 11 20\n",
      "   5  9  9  4 18  6  2 10  3  7  2  4  3 13  2  8  5  9 11  2  2 14  2 36\n",
      "   3  2  6  9  4  7  6 18  8  7 16 14 28 18  8  5 10 16  5 11  9 11  2  2\n",
      "  14  2 36  3  2  6  9  4  7  6 23 20  5 10 22  5  6 12  4  6 18 23  2 10\n",
      "   3  4 15  2  9  4  6  3 13  2  2 22  2  6  4  6 18  5  6 10  8  2 12  2\n",
      "   4 22  4  6 18  9 11  2  2 14 13 20 18  4  2  6  2  5 10 22  4 12  2 27\n",
      "   7  8  3  7  5 12  7  6  3  8  7 11 18  8  7 16 14 28  6  7  4  6  9  3\n",
      "   8 16 12  3  4  7  6 27 25  0  0  0  0  0  0  0  0  0  0  0  0  0  0  0\n",
      "   0  0  0  0  0  0  0  0  0  0  0  0  0  0  0  0  0  0  0  0  0  0  0  0\n",
      "   0  0  0  0  0  0  0  0  0  0  0  0  0  0  0  0  0  0  0  0  0  0  0  0\n",
      "   0  0  0  0  0  0  0  0  0  0  0  0  0  0  0  0  0  0  0  0  0  0  0  0\n",
      "   0  0  0  0  0  0  0  0  0  0  0  0  0  0  0  0  0  0  0  0  0  0  0  0\n",
      "   0  0]]\n",
      "Length of Vectorizd Text:290\n"
     ]
    }
   ],
   "source": [
    "# TEst out character vectorizer\n",
    "random_train_chars=random.choice(train_chars)\n",
    "print(f\"Text:\\n{random_train_chars}\\n\")\n",
    "print(f\"Length of random_train_chars:{len(random_train_chars.split())}\")\n",
    "vectorized_chars=char_vectorizer([random_train_chars])\n",
    "print(f\"Vectorized Text:\\n{vectorized_chars}\")\n",
    "print(f\"Length of Vectorizd Text:{len(vectorized_chars[0])}\")"
   ]
  },
  {
   "cell_type": "markdown",
   "id": "ba719588",
   "metadata": {
    "papermill": {
     "duration": 0.151922,
     "end_time": "2025-01-01T16:58:45.090867",
     "exception": false,
     "start_time": "2025-01-01T16:58:44.938945",
     "status": "completed"
    },
    "tags": []
   },
   "source": [
    "### Creating a character-level embedding"
   ]
  },
  {
   "cell_type": "code",
   "execution_count": 60,
   "id": "b33bbfb2",
   "metadata": {
    "execution": {
     "iopub.execute_input": "2025-01-01T16:58:45.390791Z",
     "iopub.status.busy": "2025-01-01T16:58:45.390426Z",
     "iopub.status.idle": "2025-01-01T16:58:45.395112Z",
     "shell.execute_reply": "2025-01-01T16:58:45.394413Z"
    },
    "papermill": {
     "duration": 0.156325,
     "end_time": "2025-01-01T16:58:45.396262",
     "exception": false,
     "start_time": "2025-01-01T16:58:45.239937",
     "status": "completed"
    },
    "tags": []
   },
   "outputs": [],
   "source": [
    "#Create char embedding layer\n",
    "char_embed=layers.Embedding(input_dim=len(char_vocab),\n",
    "                           output_dim=25,\n",
    "                           mask_zero=True,\n",
    "                           name='char_embed')"
   ]
  },
  {
   "cell_type": "code",
   "execution_count": 61,
   "id": "ec8ba607",
   "metadata": {
    "execution": {
     "iopub.execute_input": "2025-01-01T16:58:45.742789Z",
     "iopub.status.busy": "2025-01-01T16:58:45.742449Z",
     "iopub.status.idle": "2025-01-01T16:58:45.760367Z",
     "shell.execute_reply": "2025-01-01T16:58:45.759506Z"
    },
    "papermill": {
     "duration": 0.212977,
     "end_time": "2025-01-01T16:58:45.761595",
     "exception": false,
     "start_time": "2025-01-01T16:58:45.548618",
     "status": "completed"
    },
    "tags": []
   },
   "outputs": [
    {
     "name": "stdout",
     "output_type": "stream",
     "text": [
      "Charified text:\n",
      "P a r t i c i p a n t s   w e r e   r a n d o m l y   a s s i g n e d   t o   e i t h e r   a   s l e e p   e x t e n s i o n   g r o u p   (   g r a d u a l   s l e e p   e x t e n s i o n   b y   a d v a n c i n g   b e d t i m e s   i n   t h e   e v e n i n g   a n d   r e c e i v i n g   s l e e p   h y g i e n e   a d v i c e   )   o r   t o   a   c o n t r o l   g r o u p   (   n o   i n s t r u c t i o n   )   .\n",
      "\n",
      "Embedded Chars: after vectorization and embedding:\n",
      "[[[-0.01489394 -0.01197177 -0.03216946 ...  0.0341871   0.0427455\n",
      "   -0.00919033]\n",
      "  [-0.00833417  0.0129011  -0.03077326 ...  0.04671546 -0.02092203\n",
      "   -0.0387884 ]\n",
      "  [ 0.04671736  0.00441564 -0.04229115 ... -0.04033108 -0.01015613\n",
      "   -0.01762853]\n",
      "  ...\n",
      "  [ 0.03764007  0.04870865  0.00698764 ... -0.04614167 -0.03644576\n",
      "   -0.01091272]\n",
      "  [ 0.03764007  0.04870865  0.00698764 ... -0.04614167 -0.03644576\n",
      "   -0.01091272]\n",
      "  [ 0.03764007  0.04870865  0.00698764 ... -0.04614167 -0.03644576\n",
      "   -0.01091272]]]\n",
      "\n",
      "Character embedding shape:(1, 290, 25)\n"
     ]
    }
   ],
   "source": [
    "#Tes our character embedding layer\n",
    "print(f\"Charified text:\\n{random_train_chars}\\n\")\n",
    "char_embed_example=char_embed(char_vectorizer([random_train_chars]))\n",
    "print(f\"Embedded Chars: after vectorization and embedding:\\n{char_embed_example}\\n\")\n",
    "print(f\"Character embedding shape:{char_embed_example.shape}\")"
   ]
  },
  {
   "cell_type": "markdown",
   "id": "100567b4",
   "metadata": {
    "papermill": {
     "duration": 0.149889,
     "end_time": "2025-01-01T16:58:46.065712",
     "exception": false,
     "start_time": "2025-01-01T16:58:45.915823",
     "status": "completed"
    },
    "tags": []
   },
   "source": [
    "#### Building a bidirectional-lstm model to fit on character embeddings"
   ]
  },
  {
   "cell_type": "code",
   "execution_count": 62,
   "id": "bb2465ae",
   "metadata": {
    "execution": {
     "iopub.execute_input": "2025-01-01T16:58:46.368060Z",
     "iopub.status.busy": "2025-01-01T16:58:46.367761Z",
     "iopub.status.idle": "2025-01-01T16:58:47.964666Z",
     "shell.execute_reply": "2025-01-01T16:58:47.963827Z"
    },
    "papermill": {
     "duration": 1.74851,
     "end_time": "2025-01-01T16:58:47.966105",
     "exception": false,
     "start_time": "2025-01-01T16:58:46.217595",
     "status": "completed"
    },
    "tags": []
   },
   "outputs": [
    {
     "name": "stdout",
     "output_type": "stream",
     "text": [
      "Model: \"model_1\"\n",
      "_________________________________________________________________\n",
      " Layer (type)                Output Shape              Param #   \n",
      "=================================================================\n",
      " input_3 (InputLayer)        [(None, 1)]               0         \n",
      "                                                                 \n",
      " char_vectorizer (TextVecto  (None, 290)               0         \n",
      " rization)                                                       \n",
      "                                                                 \n",
      " char_embed (Embedding)      (None, 290, 25)           1700      \n",
      "                                                                 \n",
      " bidirectional_lstm (Bidire  (None, 128)               46080     \n",
      " ctional)                                                        \n",
      "                                                                 \n",
      " dense_3 (Dense)             (None, 5)                 645       \n",
      "                                                                 \n",
      "=================================================================\n",
      "Total params: 48425 (189.16 KB)\n",
      "Trainable params: 48425 (189.16 KB)\n",
      "Non-trainable params: 0 (0.00 Byte)\n",
      "_________________________________________________________________\n"
     ]
    }
   ],
   "source": [
    "inputs=layers.Input(shape=(1,),dtype=tf.string)\n",
    "char_vectors=char_vectorizer(inputs)\n",
    "char_embedding=char_embed(char_vectors)\n",
    "x=layers.Bidirectional(layers.LSTM(64),name='bidirectional_lstm')(char_embedding)\n",
    "outputs=layers.Dense(num_classes,activation='softmax')(x)\n",
    "\n",
    "model_3=tf.keras.Model(inputs,outputs)\n",
    "\n",
    "#Compile the model\n",
    "model_3.compile(loss='categorical_crossentropy',\n",
    "               optimizer=tf.keras.optimizers.Adam(),\n",
    "               metrics=['accuracy'])\n",
    "\n",
    "#Summary of model\n",
    "model_3.summary()"
   ]
  },
  {
   "cell_type": "code",
   "execution_count": 63,
   "id": "75a0d017",
   "metadata": {
    "execution": {
     "iopub.execute_input": "2025-01-01T16:58:48.304725Z",
     "iopub.status.busy": "2025-01-01T16:58:48.304344Z",
     "iopub.status.idle": "2025-01-01T16:58:49.152409Z",
     "shell.execute_reply": "2025-01-01T16:58:49.151621Z"
    },
    "papermill": {
     "duration": 1.007296,
     "end_time": "2025-01-01T16:58:49.153856",
     "exception": false,
     "start_time": "2025-01-01T16:58:48.146560",
     "status": "completed"
    },
    "tags": []
   },
   "outputs": [
    {
     "data": {
      "text/plain": [
       "<_PrefetchDataset element_spec=(TensorSpec(shape=(None,), dtype=tf.string, name=None), TensorSpec(shape=(None, 5), dtype=tf.float64, name=None))>"
      ]
     },
     "execution_count": 63,
     "metadata": {},
     "output_type": "execute_result"
    }
   ],
   "source": [
    "#Create char level dataset\n",
    "train_char_dataset=tf.data.Dataset.from_tensor_slices((train_chars,train_labels_one_hot)).batch(32).prefetch(tf.data.AUTOTUNE)\n",
    "val_char_dataset=tf.data.Dataset.from_tensor_slices((val_chars,val_labels_one_hot)).batch(32).prefetch(tf.data.AUTOTUNE)\n",
    "test_char_dataset=tf.data.Dataset.from_tensor_slices((test_chars,test_labels_one_hot)).batch(32).prefetch(tf.data.AUTOTUNE)\n",
    "\n",
    "train_char_dataset"
   ]
  },
  {
   "cell_type": "code",
   "execution_count": 64,
   "id": "53da1c12",
   "metadata": {
    "execution": {
     "iopub.execute_input": "2025-01-01T16:58:49.467113Z",
     "iopub.status.busy": "2025-01-01T16:58:49.466803Z",
     "iopub.status.idle": "2025-01-01T17:01:03.877203Z",
     "shell.execute_reply": "2025-01-01T17:01:03.876418Z"
    },
    "papermill": {
     "duration": 134.570971,
     "end_time": "2025-01-01T17:01:03.878583",
     "exception": false,
     "start_time": "2025-01-01T16:58:49.307612",
     "status": "completed"
    },
    "tags": []
   },
   "outputs": [
    {
     "name": "stdout",
     "output_type": "stream",
     "text": [
      "Epoch 1/20\n",
      "562/562 [==============================] - 24s 30ms/step - loss: 1.2689 - accuracy: 0.4565 - val_loss: 1.1453 - val_accuracy: 0.5209\n",
      "Epoch 2/20\n",
      "562/562 [==============================] - 13s 23ms/step - loss: 1.1113 - accuracy: 0.5340 - val_loss: 1.1269 - val_accuracy: 0.5283\n",
      "Epoch 3/20\n",
      "562/562 [==============================] - 12s 21ms/step - loss: 1.0949 - accuracy: 0.5543 - val_loss: 1.0913 - val_accuracy: 0.5502\n",
      "Epoch 4/20\n",
      "562/562 [==============================] - 12s 21ms/step - loss: 1.0457 - accuracy: 0.5772 - val_loss: 1.0103 - val_accuracy: 0.5951\n",
      "Epoch 5/20\n",
      "562/562 [==============================] - 12s 22ms/step - loss: 1.0219 - accuracy: 0.5915 - val_loss: 1.0086 - val_accuracy: 0.5914\n",
      "Epoch 6/20\n",
      "562/562 [==============================] - 12s 21ms/step - loss: 1.0102 - accuracy: 0.5947 - val_loss: 0.9913 - val_accuracy: 0.6067\n",
      "Epoch 7/20\n",
      "562/562 [==============================] - 12s 22ms/step - loss: 0.9719 - accuracy: 0.6102 - val_loss: 0.9678 - val_accuracy: 0.6080\n",
      "Epoch 8/20\n",
      "562/562 [==============================] - 12s 21ms/step - loss: 0.9566 - accuracy: 0.6189 - val_loss: 0.9382 - val_accuracy: 0.6320\n",
      "Epoch 9/20\n",
      "562/562 [==============================] - 12s 21ms/step - loss: 0.9407 - accuracy: 0.6241 - val_loss: 0.9344 - val_accuracy: 0.6313\n",
      "Epoch 10/20\n",
      "562/562 [==============================] - 12s 22ms/step - loss: 0.9270 - accuracy: 0.6289 - val_loss: 0.8923 - val_accuracy: 0.6403\n",
      "Epoch 11/20\n",
      "562/562 [==============================] - 1s 2ms/step - loss: 0.8956 - accuracy: 0.6650 - val_loss: 0.8977 - val_accuracy: 0.6436\n"
     ]
    }
   ],
   "source": [
    "#Fit the model on chars only \n",
    "model_3_history=model_3.fit(train_char_dataset,\n",
    "                           steps_per_epoch=int(0.1*len(train_char_dataset)),\n",
    "                           epochs=20,\n",
    "                           validation_data=val_char_dataset,\n",
    "                           validation_steps=int(0.1*len(val_char_dataset)))"
   ]
  },
  {
   "cell_type": "code",
   "execution_count": 65,
   "id": "b525a762",
   "metadata": {
    "execution": {
     "iopub.execute_input": "2025-01-01T17:01:04.374985Z",
     "iopub.status.busy": "2025-01-01T17:01:04.374638Z",
     "iopub.status.idle": "2025-01-01T17:01:14.949884Z",
     "shell.execute_reply": "2025-01-01T17:01:14.948991Z"
    },
    "papermill": {
     "duration": 10.82007,
     "end_time": "2025-01-01T17:01:14.951324",
     "exception": false,
     "start_time": "2025-01-01T17:01:04.131254",
     "status": "completed"
    },
    "tags": []
   },
   "outputs": [
    {
     "name": "stdout",
     "output_type": "stream",
     "text": [
      "945/945 [==============================] - 10s 9ms/step\n"
     ]
    },
    {
     "data": {
      "text/plain": [
       "array([[0.25626606, 0.56058854, 0.0414898 , 0.08600512, 0.05565043],\n",
       "       [0.2525112 , 0.43454888, 0.08018558, 0.11712211, 0.11563229],\n",
       "       [0.38283798, 0.12237295, 0.04658157, 0.40360656, 0.04460099],\n",
       "       [0.00526073, 0.00529721, 0.9126893 , 0.00294307, 0.07380967],\n",
       "       [0.00168994, 0.0050103 , 0.9233576 , 0.00114575, 0.06879643],\n",
       "       [0.00172473, 0.0033143 , 0.88958293, 0.00199047, 0.10338758],\n",
       "       [0.00396669, 0.00618917, 0.89091045, 0.0019537 , 0.09697996],\n",
       "       [0.15337825, 0.27171308, 0.3061289 , 0.04163494, 0.22714484],\n",
       "       [0.0017678 , 0.00710571, 0.077093  , 0.00118753, 0.91284597],\n",
       "       [0.18972404, 0.05942236, 0.59238267, 0.09587546, 0.06259549]],\n",
       "      dtype=float32)"
      ]
     },
     "execution_count": 65,
     "metadata": {},
     "output_type": "execute_result"
    }
   ],
   "source": [
    "# Make predictions with character embeddigs\n",
    "model_3_pred_probs=model_3.predict(val_char_dataset)\n",
    "model_3_pred_probs[:10]\n"
   ]
  },
  {
   "cell_type": "code",
   "execution_count": 66,
   "id": "c760e0ab",
   "metadata": {
    "execution": {
     "iopub.execute_input": "2025-01-01T17:01:15.493063Z",
     "iopub.status.busy": "2025-01-01T17:01:15.492726Z",
     "iopub.status.idle": "2025-01-01T17:01:15.499353Z",
     "shell.execute_reply": "2025-01-01T17:01:15.498623Z"
    },
    "papermill": {
     "duration": 0.257948,
     "end_time": "2025-01-01T17:01:15.500742",
     "exception": false,
     "start_time": "2025-01-01T17:01:15.242794",
     "status": "completed"
    },
    "tags": []
   },
   "outputs": [
    {
     "data": {
      "text/plain": [
       "<tf.Tensor: shape=(30212,), dtype=int64, numpy=array([1, 1, 3, ..., 4, 4, 1])>"
      ]
     },
     "execution_count": 66,
     "metadata": {},
     "output_type": "execute_result"
    }
   ],
   "source": [
    "#Convert the predictions probabilities to class labels\n",
    "model_3_preds=tf.argmax(model_3_pred_probs,axis=1)\n",
    "model_3_preds"
   ]
  },
  {
   "cell_type": "code",
   "execution_count": 67,
   "id": "d69840b1",
   "metadata": {
    "execution": {
     "iopub.execute_input": "2025-01-01T17:01:15.999362Z",
     "iopub.status.busy": "2025-01-01T17:01:15.999055Z",
     "iopub.status.idle": "2025-01-01T17:01:16.023564Z",
     "shell.execute_reply": "2025-01-01T17:01:16.022871Z"
    },
    "papermill": {
     "duration": 0.275143,
     "end_time": "2025-01-01T17:01:16.024926",
     "exception": false,
     "start_time": "2025-01-01T17:01:15.749783",
     "status": "completed"
    },
    "tags": []
   },
   "outputs": [
    {
     "data": {
      "text/plain": [
       "{'accuracy': 0.6513967959751092,\n",
       " 'precision': 0.6656352910309662,\n",
       " 'recall': 0.6513967959751092,\n",
       " 'F1-score': 0.6489522276284218}"
      ]
     },
     "execution_count": 67,
     "metadata": {},
     "output_type": "execute_result"
    }
   ],
   "source": [
    "#Calculate  the results for bidirectional chars only\n",
    "model_3_results=calculate_results(y_pred=model_3_preds,\n",
    "                                 y_true=val_label_encoded)\n",
    "model_3_results"
   ]
  },
  {
   "cell_type": "markdown",
   "id": "1b318ef5",
   "metadata": {
    "papermill": {
     "duration": 0.29014,
     "end_time": "2025-01-01T17:01:16.562592",
     "exception": false,
     "start_time": "2025-01-01T17:01:16.272452",
     "status": "completed"
    },
    "tags": []
   },
   "source": [
    "## Model 4: Combining token embeddings + character embeddings(hybrid embedding layer )\n",
    "\n",
    "1. Create token-level embedding model (similar to `model_1`)\n",
    "2. Create a character-level model (similar to `model_3` with a slight modification)\n",
    "3. Combine 1 & 2 with concatenate (`layers.concatenate`) layer\n",
    "4. Build a Series of output layer on top of 3 similar Figure 1 and section 4.2 of research paper of pub_med_rct_200k\n",
    "5. Construct a model which takes token and embeddings and character-level sequences as input and produces sequence label probabilities as output."
   ]
  },
  {
   "cell_type": "code",
   "execution_count": 68,
   "id": "8e579f2b",
   "metadata": {
    "execution": {
     "iopub.execute_input": "2025-01-01T17:01:17.061390Z",
     "iopub.status.busy": "2025-01-01T17:01:17.061080Z",
     "iopub.status.idle": "2025-01-01T17:01:20.670007Z",
     "shell.execute_reply": "2025-01-01T17:01:20.669001Z"
    },
    "papermill": {
     "duration": 3.863089,
     "end_time": "2025-01-01T17:01:20.671762",
     "exception": false,
     "start_time": "2025-01-01T17:01:16.808673",
     "status": "completed"
    },
    "tags": []
   },
   "outputs": [],
   "source": [
    "# 1. Setup token inputs model\n",
    "token_inputs=layers.Input(shape=(1,),dtype=tf.string,name='token_input')\n",
    "token_vectors=text_vectorizer(token_inputs)\n",
    "token_embeddings=token_embed(token_vectors)\n",
    "token_bi_lstm=layers.Bidirectional(layers.LSTM(64),name='bi-lstm_1')(token_embeddings)\n",
    "token_model=tf.keras.Model(inputs=token_inputs,\n",
    "                          outputs=token_bi_lstm)\n",
    "\n",
    "# 2. Setup char inputs model\n",
    "char_inputs=layers.Input(shape=(1,),dtype=tf.string,name='char_input')\n",
    "char_vectors=char_vectorizer(char_inputs)\n",
    "char_embeddings=char_embed(char_vectors)\n",
    "char_bi_lstm=layers.Bidirectional(layers.LSTM(64),name='bi-lstm_2')(char_embeddings)\n",
    "char_model=tf.keras.Model(inputs=char_inputs,\n",
    "                         outputs=char_bi_lstm)\n",
    "\n",
    "# 3. Concatenate token and char inputs (create hybrid token embeding)\n",
    "token_char_concate=layers.Concatenate(name='token_char_hybrid')([token_model.output,\n",
    "                                                                char_model.output])\n",
    "\n",
    "# 4. Create output layers- addition of dropout saied in paper\n",
    "combined_dropout=layers.Dropout(0.5)(token_char_concate)\n",
    "combined_dense=layers.Dense(128,activation='relu')(combined_dropout)\n",
    "final_dropout=layers.Dropout(0.5)(combined_dense)\n",
    "output_layer=layers.Dense(num_classes,activation='softmax')(final_dropout)\n",
    "\n",
    "# 5. Construct a model with char and token inputs\n",
    "model_4=tf.keras.Model(inputs=[token_model.input,char_model.input],\n",
    "                      outputs=output_layer,\n",
    "                      name='model_4_token_char_embedding')"
   ]
  },
  {
   "cell_type": "code",
   "execution_count": 69,
   "id": "dd9f1792",
   "metadata": {
    "execution": {
     "iopub.execute_input": "2025-01-01T17:01:21.222397Z",
     "iopub.status.busy": "2025-01-01T17:01:21.222049Z",
     "iopub.status.idle": "2025-01-01T17:01:21.262602Z",
     "shell.execute_reply": "2025-01-01T17:01:21.261865Z"
    },
    "papermill": {
     "duration": 0.342155,
     "end_time": "2025-01-01T17:01:21.263897",
     "exception": false,
     "start_time": "2025-01-01T17:01:20.921742",
     "status": "completed"
    },
    "tags": []
   },
   "outputs": [
    {
     "name": "stdout",
     "output_type": "stream",
     "text": [
      "Model: \"model_4_token_char_embedding\"\n",
      "__________________________________________________________________________________________________\n",
      " Layer (type)                Output Shape                 Param #   Connected to                  \n",
      "==================================================================================================\n",
      " token_input (InputLayer)    [(None, 1)]                  0         []                            \n",
      "                                                                                                  \n",
      " char_input (InputLayer)     [(None, 1)]                  0         []                            \n",
      "                                                                                                  \n",
      " text_vectorization (TextVe  (None, 55)                   0         ['token_input[0][0]']         \n",
      " ctorization)                                                                                     \n",
      "                                                                                                  \n",
      " char_vectorizer (TextVecto  (None, 290)                  0         ['char_input[0][0]']          \n",
      " rization)                                                                                        \n",
      "                                                                                                  \n",
      " Token_embedding (Embedding  (None, 55, 128)              8299648   ['text_vectorization[1][0]']  \n",
      " )                                                                                                \n",
      "                                                                                                  \n",
      " char_embed (Embedding)      (None, 290, 25)              1700      ['char_vectorizer[1][0]']     \n",
      "                                                                                                  \n",
      " bi-lstm_1 (Bidirectional)   (None, 128)                  98816     ['Token_embedding[1][0]']     \n",
      "                                                                                                  \n",
      " bi-lstm_2 (Bidirectional)   (None, 128)                  46080     ['char_embed[1][0]']          \n",
      "                                                                                                  \n",
      " token_char_hybrid (Concate  (None, 256)                  0         ['bi-lstm_1[0][0]',           \n",
      " nate)                                                               'bi-lstm_2[0][0]']           \n",
      "                                                                                                  \n",
      " dropout (Dropout)           (None, 256)                  0         ['token_char_hybrid[0][0]']   \n",
      "                                                                                                  \n",
      " dense_4 (Dense)             (None, 128)                  32896     ['dropout[0][0]']             \n",
      "                                                                                                  \n",
      " dropout_1 (Dropout)         (None, 128)                  0         ['dense_4[0][0]']             \n",
      "                                                                                                  \n",
      " dense_5 (Dense)             (None, 5)                    645       ['dropout_1[0][0]']           \n",
      "                                                                                                  \n",
      "==================================================================================================\n",
      "Total params: 8479785 (32.35 MB)\n",
      "Trainable params: 8479785 (32.35 MB)\n",
      "Non-trainable params: 0 (0.00 Byte)\n",
      "__________________________________________________________________________________________________\n"
     ]
    }
   ],
   "source": [
    "# Get a model summary\n",
    "model_4.summary()"
   ]
  },
  {
   "cell_type": "code",
   "execution_count": 70,
   "id": "22db0560",
   "metadata": {
    "execution": {
     "iopub.execute_input": "2025-01-01T17:01:21.772974Z",
     "iopub.status.busy": "2025-01-01T17:01:21.772614Z",
     "iopub.status.idle": "2025-01-01T17:01:22.063345Z",
     "shell.execute_reply": "2025-01-01T17:01:22.062356Z"
    },
    "papermill": {
     "duration": 0.540834,
     "end_time": "2025-01-01T17:01:22.064649",
     "exception": false,
     "start_time": "2025-01-01T17:01:21.523815",
     "status": "completed"
    },
    "tags": []
   },
   "outputs": [
    {
     "data": {
      "image/png": "[encoded data removed]",
      "text/plain": [
       "<IPython.core.display.Image object>"
      ]
     },
     "execution_count": 70,
     "metadata": {},
     "output_type": "execute_result"
    }
   ],
   "source": [
    "#Plot hybrid token and character model\n",
    "from tensorflow.keras.utils import plot_model\n",
    "\n",
    "plot_model(model_4,show_shapes=True)"
   ]
  },
  {
   "cell_type": "code",
   "execution_count": 71,
   "id": "36a69597",
   "metadata": {
    "execution": {
     "iopub.execute_input": "2025-01-01T17:01:22.573618Z",
     "iopub.status.busy": "2025-01-01T17:01:22.573316Z",
     "iopub.status.idle": "2025-01-01T17:01:22.583590Z",
     "shell.execute_reply": "2025-01-01T17:01:22.582936Z"
    },
    "papermill": {
     "duration": 0.263915,
     "end_time": "2025-01-01T17:01:22.584895",
     "exception": false,
     "start_time": "2025-01-01T17:01:22.320980",
     "status": "completed"
    },
    "tags": []
   },
   "outputs": [],
   "source": [
    "#Compile the model\n",
    "model_4.compile(loss='categorical_crossentropy',\n",
    "               optimizer=tf.keras.optimizers.Adam(),\n",
    "               metrics=['accuracy'])"
   ]
  },
  {
   "cell_type": "markdown",
   "id": "09684ba2",
   "metadata": {
    "papermill": {
     "duration": 0.253064,
     "end_time": "2025-01-01T17:01:23.125158",
     "exception": false,
     "start_time": "2025-01-01T17:01:22.872094",
     "status": "completed"
    },
    "tags": []
   },
   "source": [
    "#### Combining token and Character data into tf.data.Dataset"
   ]
  },
  {
   "cell_type": "code",
   "execution_count": 72,
   "id": "bdcfa5a0",
   "metadata": {
    "execution": {
     "iopub.execute_input": "2025-01-01T17:01:23.629156Z",
     "iopub.status.busy": "2025-01-01T17:01:23.628836Z",
     "iopub.status.idle": "2025-01-01T17:01:25.060868Z",
     "shell.execute_reply": "2025-01-01T17:01:25.060173Z"
    },
    "papermill": {
     "duration": 1.686091,
     "end_time": "2025-01-01T17:01:25.062421",
     "exception": false,
     "start_time": "2025-01-01T17:01:23.376330",
     "status": "completed"
    },
    "tags": []
   },
   "outputs": [],
   "source": [
    "# Train dataset\n",
    "train_char_token_data = tf.data.Dataset.from_tensor_slices((train_sentences, train_chars))\n",
    "train_char_token_labels = tf.data.Dataset.from_tensor_slices(train_labels_one_hot)\n",
    "train_char_token_dataset = tf.data.Dataset.zip((train_char_token_data, train_char_token_labels))\n",
    "train_char_token_dataset = train_char_token_dataset.batch(32).prefetch(tf.data.AUTOTUNE)\n",
    "\n",
    "# Test dataset\n",
    "test_char_token_data = tf.data.Dataset.from_tensor_slices((test_sentences, test_chars))\n",
    "test_char_token_labels = tf.data.Dataset.from_tensor_slices(test_labels_one_hot)\n",
    "test_char_token_dataset = tf.data.Dataset.zip((test_char_token_data, test_char_token_labels))\n",
    "test_char_token_dataset = test_char_token_dataset.batch(32).prefetch(tf.data.AUTOTUNE)\n",
    "\n",
    "# Validation dataset\n",
    "val_char_token_data = tf.data.Dataset.from_tensor_slices((val_sentences, val_chars))\n",
    "val_char_token_labels = tf.data.Dataset.from_tensor_slices(val_labels_one_hot)\n",
    "val_char_token_dataset = tf.data.Dataset.zip((val_char_token_data, val_char_token_labels))\n",
    "val_char_token_dataset = val_char_token_dataset.batch(32).prefetch(tf.data.AUTOTUNE)"
   ]
  },
  {
   "cell_type": "code",
   "execution_count": 73,
   "id": "3cc4a21e",
   "metadata": {
    "execution": {
     "iopub.execute_input": "2025-01-01T17:01:25.607484Z",
     "iopub.status.busy": "2025-01-01T17:01:25.607142Z",
     "iopub.status.idle": "2025-01-01T17:01:25.612047Z",
     "shell.execute_reply": "2025-01-01T17:01:25.611202Z"
    },
    "papermill": {
     "duration": 0.257288,
     "end_time": "2025-01-01T17:01:25.613367",
     "exception": false,
     "start_time": "2025-01-01T17:01:25.356079",
     "status": "completed"
    },
    "tags": []
   },
   "outputs": [
    {
     "data": {
      "text/plain": [
       "(<_PrefetchDataset element_spec=((TensorSpec(shape=(None,), dtype=tf.string, name=None), TensorSpec(shape=(None,), dtype=tf.string, name=None)), TensorSpec(shape=(None, 5), dtype=tf.float64, name=None))>,\n",
       " <_PrefetchDataset element_spec=((TensorSpec(shape=(None,), dtype=tf.string, name=None), TensorSpec(shape=(None,), dtype=tf.string, name=None)), TensorSpec(shape=(None, 5), dtype=tf.float64, name=None))>)"
      ]
     },
     "execution_count": 73,
     "metadata": {},
     "output_type": "execute_result"
    }
   ],
   "source": [
    "#Check out training and validation dataset\n",
    "train_char_token_dataset,val_char_token_dataset"
   ]
  },
  {
   "cell_type": "markdown",
   "id": "65635fa9",
   "metadata": {
    "papermill": {
     "duration": 0.253587,
     "end_time": "2025-01-01T17:01:26.117931",
     "exception": false,
     "start_time": "2025-01-01T17:01:25.864344",
     "status": "completed"
    },
    "tags": []
   },
   "source": [
    "### Fitting a model on token and character level sequences"
   ]
  },
  {
   "cell_type": "code",
   "execution_count": 74,
   "id": "84837181",
   "metadata": {
    "execution": {
     "iopub.execute_input": "2025-01-01T17:01:26.737912Z",
     "iopub.status.busy": "2025-01-01T17:01:26.737474Z",
     "iopub.status.idle": "2025-01-01T17:04:52.613156Z",
     "shell.execute_reply": "2025-01-01T17:04:52.612347Z"
    },
    "papermill": {
     "duration": 206.198231,
     "end_time": "2025-01-01T17:04:52.614523",
     "exception": false,
     "start_time": "2025-01-01T17:01:26.416292",
     "status": "completed"
    },
    "tags": []
   },
   "outputs": [
    {
     "name": "stdout",
     "output_type": "stream",
     "text": [
      "Epoch 1/20\n",
      "562/562 [==============================] - 47s 60ms/step - loss: 0.6090 - accuracy: 0.7793 - val_loss: 0.5073 - val_accuracy: 0.8155\n",
      "Epoch 2/20\n",
      "562/562 [==============================] - 19s 34ms/step - loss: 0.4825 - accuracy: 0.8280 - val_loss: 0.5109 - val_accuracy: 0.8032\n",
      "Epoch 3/20\n",
      "562/562 [==============================] - 17s 30ms/step - loss: 0.4641 - accuracy: 0.8379 - val_loss: 0.4901 - val_accuracy: 0.8138\n",
      "Epoch 4/20\n",
      "562/562 [==============================] - 17s 31ms/step - loss: 0.4501 - accuracy: 0.8440 - val_loss: 0.4947 - val_accuracy: 0.8142\n",
      "Epoch 5/20\n",
      "562/562 [==============================] - 17s 31ms/step - loss: 0.4522 - accuracy: 0.8397 - val_loss: 0.4802 - val_accuracy: 0.8221\n",
      "Epoch 6/20\n",
      "562/562 [==============================] - 18s 32ms/step - loss: 0.4515 - accuracy: 0.8429 - val_loss: 0.4781 - val_accuracy: 0.8251\n",
      "Epoch 7/20\n",
      "562/562 [==============================] - 18s 31ms/step - loss: 0.4232 - accuracy: 0.8503 - val_loss: 0.4820 - val_accuracy: 0.8238\n",
      "Epoch 8/20\n",
      "562/562 [==============================] - 17s 31ms/step - loss: 0.4121 - accuracy: 0.8579 - val_loss: 0.4910 - val_accuracy: 0.8175\n",
      "Epoch 9/20\n",
      "562/562 [==============================] - 17s 30ms/step - loss: 0.4151 - accuracy: 0.8565 - val_loss: 0.5057 - val_accuracy: 0.8135\n",
      "Epoch 10/20\n",
      "562/562 [==============================] - 17s 31ms/step - loss: 0.4223 - accuracy: 0.8568 - val_loss: 0.4922 - val_accuracy: 0.8271\n",
      "Epoch 11/20\n",
      "562/562 [==============================] - 1s 2ms/step - loss: 0.5278 - accuracy: 0.8300 - val_loss: 0.5087 - val_accuracy: 0.8218\n"
     ]
    }
   ],
   "source": [
    "#Fit the model on tokens and chars\n",
    "history_model_4=model_4.fit(train_char_token_dataset,\n",
    "                           steps_per_epoch=int(0.1*len(train_char_token_dataset)),\n",
    "                           epochs=20,\n",
    "                           validation_data=val_char_token_dataset,\n",
    "                           validation_steps=int(0.1*len(val_char_token_dataset)))"
   ]
  },
  {
   "cell_type": "code",
   "execution_count": 75,
   "id": "792ee8e3",
   "metadata": {
    "execution": {
     "iopub.execute_input": "2025-01-01T17:04:53.426903Z",
     "iopub.status.busy": "2025-01-01T17:04:53.426384Z",
     "iopub.status.idle": "2025-01-01T17:05:04.071958Z",
     "shell.execute_reply": "2025-01-01T17:05:04.071168Z"
    },
    "papermill": {
     "duration": 11.075248,
     "end_time": "2025-01-01T17:05:04.073405",
     "exception": false,
     "start_time": "2025-01-01T17:04:52.998157",
     "status": "completed"
    },
    "tags": []
   },
   "outputs": [
    {
     "name": "stdout",
     "output_type": "stream",
     "text": [
      "945/945 [==============================] - 11s 11ms/step - loss: 0.5051 - accuracy: 0.8213\n"
     ]
    },
    {
     "data": {
      "text/plain": [
       "[0.5050513744354248, 0.8212630748748779]"
      ]
     },
     "execution_count": 75,
     "metadata": {},
     "output_type": "execute_result"
    }
   ],
   "source": [
    "#Evaluate on the whole validation dataset\n",
    "model_4.evaluate(val_char_token_dataset)"
   ]
  },
  {
   "cell_type": "code",
   "execution_count": 76,
   "id": "e6c07136",
   "metadata": {
    "execution": {
     "iopub.execute_input": "2025-01-01T17:05:04.893710Z",
     "iopub.status.busy": "2025-01-01T17:05:04.893365Z",
     "iopub.status.idle": "2025-01-01T17:05:19.534489Z",
     "shell.execute_reply": "2025-01-01T17:05:19.533754Z"
    },
    "papermill": {
     "duration": 15.071093,
     "end_time": "2025-01-01T17:05:19.535948",
     "exception": false,
     "start_time": "2025-01-01T17:05:04.464855",
     "status": "completed"
    },
    "tags": []
   },
   "outputs": [
    {
     "name": "stdout",
     "output_type": "stream",
     "text": [
      "945/945 [==============================] - 14s 11ms/step\n"
     ]
    }
   ],
   "source": [
    "#Make predictions using token character model hybrid\n",
    "model_4_pred_probs=model_4.predict(val_char_token_dataset)"
   ]
  },
  {
   "cell_type": "code",
   "execution_count": 77,
   "id": "85c6953d",
   "metadata": {
    "execution": {
     "iopub.execute_input": "2025-01-01T17:05:20.374891Z",
     "iopub.status.busy": "2025-01-01T17:05:20.374555Z",
     "iopub.status.idle": "2025-01-01T17:05:20.381082Z",
     "shell.execute_reply": "2025-01-01T17:05:20.380293Z"
    },
    "papermill": {
     "duration": 0.452325,
     "end_time": "2025-01-01T17:05:20.382340",
     "exception": false,
     "start_time": "2025-01-01T17:05:19.930015",
     "status": "completed"
    },
    "tags": []
   },
   "outputs": [
    {
     "data": {
      "text/plain": [
       "<tf.Tensor: shape=(30212,), dtype=int64, numpy=array([0, 0, 3, ..., 4, 1, 1])>"
      ]
     },
     "execution_count": 77,
     "metadata": {},
     "output_type": "execute_result"
    }
   ],
   "source": [
    "#Format to pred labels\n",
    "model_4_preds=tf.argmax(model_4_pred_probs,axis=1)\n",
    "model_4_preds"
   ]
  },
  {
   "cell_type": "code",
   "execution_count": 78,
   "id": "ed9c18c2",
   "metadata": {
    "execution": {
     "iopub.execute_input": "2025-01-01T17:05:21.252644Z",
     "iopub.status.busy": "2025-01-01T17:05:21.252336Z",
     "iopub.status.idle": "2025-01-01T17:05:21.277197Z",
     "shell.execute_reply": "2025-01-01T17:05:21.276360Z"
    },
    "papermill": {
     "duration": 0.428644,
     "end_time": "2025-01-01T17:05:21.278431",
     "exception": false,
     "start_time": "2025-01-01T17:05:20.849787",
     "status": "completed"
    },
    "tags": []
   },
   "outputs": [
    {
     "data": {
      "text/plain": [
       "{'accuracy': 0.8212630742751225,\n",
       " 'precision': 0.8185480038836436,\n",
       " 'recall': 0.8212630742751225,\n",
       " 'F1-score': 0.8182750126166436}"
      ]
     },
     "execution_count": 78,
     "metadata": {},
     "output_type": "execute_result"
    }
   ],
   "source": [
    "#Get results of token-char-hybrid model\n",
    "model_4_results=calculate_results(y_true=val_label_encoded,\n",
    "                                 y_pred=model_4_preds)\n",
    "model_4_results"
   ]
  },
  {
   "cell_type": "markdown",
   "id": "490425c0",
   "metadata": {
    "papermill": {
     "duration": 0.437768,
     "end_time": "2025-01-01T17:05:22.111773",
     "exception": false,
     "start_time": "2025-01-01T17:05:21.674005",
     "status": "completed"
    },
    "tags": []
   },
   "source": [
    "## Model 5 : Tribrid model using token + character + postional embeddings"
   ]
  },
  {
   "cell_type": "code",
   "execution_count": 79,
   "id": "90f8874e",
   "metadata": {
    "execution": {
     "iopub.execute_input": "2025-01-01T17:05:22.964803Z",
     "iopub.status.busy": "2025-01-01T17:05:22.964450Z",
     "iopub.status.idle": "2025-01-01T17:05:22.974084Z",
     "shell.execute_reply": "2025-01-01T17:05:22.973229Z"
    },
    "papermill": {
     "duration": 0.466284,
     "end_time": "2025-01-01T17:05:22.975306",
     "exception": false,
     "start_time": "2025-01-01T17:05:22.509022",
     "status": "completed"
    },
    "tags": []
   },
   "outputs": [
    {
     "data": {
      "text/html": [
       "<div>\n",
       "<style scoped>\n",
       "    .dataframe tbody tr th:only-of-type {\n",
       "        vertical-align: middle;\n",
       "    }\n",
       "\n",
       "    .dataframe tbody tr th {\n",
       "        vertical-align: top;\n",
       "    }\n",
       "\n",
       "    .dataframe thead th {\n",
       "        text-align: right;\n",
       "    }\n",
       "</style>\n",
       "<table border=\"1\" class=\"dataframe\">\n",
       "  <thead>\n",
       "    <tr style=\"text-align: right;\">\n",
       "      <th></th>\n",
       "      <th>abstract_id</th>\n",
       "      <th>line_id</th>\n",
       "      <th>abstract_text</th>\n",
       "      <th>line_number</th>\n",
       "      <th>total_lines</th>\n",
       "      <th>target</th>\n",
       "    </tr>\n",
       "  </thead>\n",
       "  <tbody>\n",
       "    <tr>\n",
       "      <th>0</th>\n",
       "      <td>24293578</td>\n",
       "      <td>24293578_0_12</td>\n",
       "      <td>To investigate the efficacy of @ weeks of dail...</td>\n",
       "      <td>0</td>\n",
       "      <td>12</td>\n",
       "      <td>OBJECTIVE</td>\n",
       "    </tr>\n",
       "    <tr>\n",
       "      <th>1</th>\n",
       "      <td>24293578</td>\n",
       "      <td>24293578_1_12</td>\n",
       "      <td>A total of @ patients with primary knee OA wer...</td>\n",
       "      <td>1</td>\n",
       "      <td>12</td>\n",
       "      <td>METHODS</td>\n",
       "    </tr>\n",
       "    <tr>\n",
       "      <th>2</th>\n",
       "      <td>24293578</td>\n",
       "      <td>24293578_2_12</td>\n",
       "      <td>Outcome measures included pain reduction and i...</td>\n",
       "      <td>2</td>\n",
       "      <td>12</td>\n",
       "      <td>METHODS</td>\n",
       "    </tr>\n",
       "    <tr>\n",
       "      <th>3</th>\n",
       "      <td>24293578</td>\n",
       "      <td>24293578_3_12</td>\n",
       "      <td>Pain was assessed using the visual analog pain...</td>\n",
       "      <td>3</td>\n",
       "      <td>12</td>\n",
       "      <td>METHODS</td>\n",
       "    </tr>\n",
       "    <tr>\n",
       "      <th>4</th>\n",
       "      <td>24293578</td>\n",
       "      <td>24293578_4_12</td>\n",
       "      <td>Secondary outcome measures included the Wester...</td>\n",
       "      <td>4</td>\n",
       "      <td>12</td>\n",
       "      <td>METHODS</td>\n",
       "    </tr>\n",
       "  </tbody>\n",
       "</table>\n",
       "</div>"
      ],
      "text/plain": [
       "   abstract_id        line_id  \\\n",
       "0     24293578  24293578_0_12   \n",
       "1     24293578  24293578_1_12   \n",
       "2     24293578  24293578_2_12   \n",
       "3     24293578  24293578_3_12   \n",
       "4     24293578  24293578_4_12   \n",
       "\n",
       "                                       abstract_text  line_number  \\\n",
       "0  To investigate the efficacy of @ weeks of dail...            0   \n",
       "1  A total of @ patients with primary knee OA wer...            1   \n",
       "2  Outcome measures included pain reduction and i...            2   \n",
       "3  Pain was assessed using the visual analog pain...            3   \n",
       "4  Secondary outcome measures included the Wester...            4   \n",
       "\n",
       "   total_lines     target  \n",
       "0           12  OBJECTIVE  \n",
       "1           12    METHODS  \n",
       "2           12    METHODS  \n",
       "3           12    METHODS  \n",
       "4           12    METHODS  "
      ]
     },
     "execution_count": 79,
     "metadata": {},
     "output_type": "execute_result"
    }
   ],
   "source": [
    "train_df.head()"
   ]
  },
  {
   "cell_type": "markdown",
   "id": "4620702b",
   "metadata": {
    "papermill": {
     "duration": 0.394827,
     "end_time": "2025-01-01T17:05:23.766625",
     "exception": false,
     "start_time": "2025-01-01T17:05:23.371798",
     "status": "completed"
    },
    "tags": []
   },
   "source": [
    "**Note**: Any engineered features used at training a model need to be available at test time. In our case line numbers and total lines are available."
   ]
  },
  {
   "cell_type": "markdown",
   "id": "86d9b3e9",
   "metadata": {
    "papermill": {
     "duration": 0.396668,
     "end_time": "2025-01-01T17:05:24.607886",
     "exception": false,
     "start_time": "2025-01-01T17:05:24.211218",
     "status": "completed"
    },
    "tags": []
   },
   "source": [
    "### Create Positional embeddings"
   ]
  },
  {
   "cell_type": "code",
   "execution_count": 80,
   "id": "6d787d40",
   "metadata": {
    "execution": {
     "iopub.execute_input": "2025-01-01T17:05:25.453313Z",
     "iopub.status.busy": "2025-01-01T17:05:25.452859Z",
     "iopub.status.idle": "2025-01-01T17:05:25.461939Z",
     "shell.execute_reply": "2025-01-01T17:05:25.460986Z"
    },
    "papermill": {
     "duration": 0.459251,
     "end_time": "2025-01-01T17:05:25.463400",
     "exception": false,
     "start_time": "2025-01-01T17:05:25.004149",
     "status": "completed"
    },
    "tags": []
   },
   "outputs": [
    {
     "data": {
      "text/plain": [
       "line_number\n",
       "0     15000\n",
       "1     15000\n",
       "2     15000\n",
       "3     15000\n",
       "4     14992\n",
       "5     14949\n",
       "6     14758\n",
       "7     14279\n",
       "8     13346\n",
       "9     11981\n",
       "10    10041\n",
       "11     7892\n",
       "12     5853\n",
       "13     4152\n",
       "14     2835\n",
       "15     1861\n",
       "16     1188\n",
       "17      751\n",
       "18      462\n",
       "19      286\n",
       "20      162\n",
       "21      101\n",
       "22       66\n",
       "23       33\n",
       "24       22\n",
       "25       14\n",
       "26        7\n",
       "27        4\n",
       "28        3\n",
       "29        1\n",
       "30        1\n",
       "Name: count, dtype: int64"
      ]
     },
     "execution_count": 80,
     "metadata": {},
     "output_type": "execute_result"
    }
   ],
   "source": [
    "#How many different line numbers are there?\n",
    "train_df['line_number'].value_counts()"
   ]
  },
  {
   "cell_type": "code",
   "execution_count": 81,
   "id": "d69e1516",
   "metadata": {
    "execution": {
     "iopub.execute_input": "2025-01-01T17:05:26.264915Z",
     "iopub.status.busy": "2025-01-01T17:05:26.264555Z",
     "iopub.status.idle": "2025-01-01T17:05:26.496574Z",
     "shell.execute_reply": "2025-01-01T17:05:26.495719Z"
    },
    "papermill": {
     "duration": 0.634722,
     "end_time": "2025-01-01T17:05:26.497868",
     "exception": false,
     "start_time": "2025-01-01T17:05:25.863146",
     "status": "completed"
    },
    "tags": []
   },
   "outputs": [
    {
     "data": {
      "text/plain": [
       "<Axes: ylabel='Frequency'>"
      ]
     },
     "execution_count": 81,
     "metadata": {},
     "output_type": "execute_result"
    },
    {
     "data": {
      "image/png": "[encoded data removed]",
      "text/plain": [
       "<Figure size 640x480 with 1 Axes>"
      ]
     },
     "metadata": {},
     "output_type": "display_data"
    }
   ],
   "source": [
    "#Check the distribution of \"line_numbers\" column\n",
    "train_df.line_number.plot.hist()"
   ]
  },
  {
   "cell_type": "code",
   "execution_count": 82,
   "id": "891dc7c8",
   "metadata": {
    "execution": {
     "iopub.execute_input": "2025-01-01T17:05:27.335890Z",
     "iopub.status.busy": "2025-01-01T17:05:27.335540Z",
     "iopub.status.idle": "2025-01-01T17:05:27.344515Z",
     "shell.execute_reply": "2025-01-01T17:05:27.343621Z"
    },
    "papermill": {
     "duration": 0.410565,
     "end_time": "2025-01-01T17:05:27.345892",
     "exception": false,
     "start_time": "2025-01-01T17:05:26.935327",
     "status": "completed"
    },
    "tags": []
   },
   "outputs": [],
   "source": [
    "#USe tensorflow to create a one-hot-encoded tensors of our lines-number columns\n",
    "train_line_numbers_one_hot=tf.one_hot(train_df['line_number'].to_numpy(),depth=15)\n",
    "test_line_numbers_one_hot=tf.one_hot(test_df['line_number'].to_numpy(),depth=15)\n",
    "val_line_numbers_one_hot=tf.one_hot(val_df['line_number'].to_numpy(),depth=15)"
   ]
  },
  {
   "cell_type": "markdown",
   "id": "c2dc6098",
   "metadata": {
    "papermill": {
     "duration": 0.397451,
     "end_time": "2025-01-01T17:05:28.192753",
     "exception": false,
     "start_time": "2025-01-01T17:05:27.795302",
     "status": "completed"
    },
    "tags": []
   },
   "source": [
    "Now we've encoded our line numbers features lets do the same for our total line features"
   ]
  },
  {
   "cell_type": "code",
   "execution_count": 83,
   "id": "708521ce",
   "metadata": {
    "execution": {
     "iopub.execute_input": "2025-01-01T17:05:29.031152Z",
     "iopub.status.busy": "2025-01-01T17:05:29.030841Z",
     "iopub.status.idle": "2025-01-01T17:05:29.038129Z",
     "shell.execute_reply": "2025-01-01T17:05:29.037325Z"
    },
    "papermill": {
     "duration": 0.451102,
     "end_time": "2025-01-01T17:05:29.039289",
     "exception": false,
     "start_time": "2025-01-01T17:05:28.588187",
     "status": "completed"
    },
    "tags": []
   },
   "outputs": [
    {
     "data": {
      "text/plain": [
       "total_lines\n",
       "12    24468\n",
       "11    23639\n",
       "13    22113\n",
       "10    19400\n",
       "14    18438\n",
       "15    14610\n",
       "9     12285\n",
       "16    10768\n",
       "8      7464\n",
       "17     7429\n",
       "18     5202\n",
       "7      3353\n",
       "19     3344\n",
       "20     2480\n",
       "21     1281\n",
       "6      1146\n",
       "22      770\n",
       "23      759\n",
       "24      264\n",
       "5       215\n",
       "25      200\n",
       "26      182\n",
       "27       81\n",
       "29       58\n",
       "4        32\n",
       "31       31\n",
       "28       28\n",
       "Name: count, dtype: int64"
      ]
     },
     "execution_count": 83,
     "metadata": {},
     "output_type": "execute_result"
    }
   ],
   "source": [
    "#How many different numbers of lines are there?\n",
    "train_df['total_lines'].value_counts()"
   ]
  },
  {
   "cell_type": "code",
   "execution_count": 84,
   "id": "8f3817a7",
   "metadata": {
    "execution": {
     "iopub.execute_input": "2025-01-01T17:05:29.875403Z",
     "iopub.status.busy": "2025-01-01T17:05:29.875097Z",
     "iopub.status.idle": "2025-01-01T17:05:30.119266Z",
     "shell.execute_reply": "2025-01-01T17:05:30.118306Z"
    },
    "papermill": {
     "duration": 0.685438,
     "end_time": "2025-01-01T17:05:30.120576",
     "exception": false,
     "start_time": "2025-01-01T17:05:29.435138",
     "status": "completed"
    },
    "tags": []
   },
   "outputs": [
    {
     "data": {
      "text/plain": [
       "<Axes: ylabel='Frequency'>"
      ]
     },
     "execution_count": 84,
     "metadata": {},
     "output_type": "execute_result"
    },
    {
     "data": {
      "image/png": "[encoded data removed]",
      "text/plain": [
       "<Figure size 640x480 with 1 Axes>"
      ]
     },
     "metadata": {},
     "output_type": "display_data"
    }
   ],
   "source": [
    "#Visualise the total lines\n",
    "train_df['total_lines'].plot.hist()"
   ]
  },
  {
   "cell_type": "code",
   "execution_count": 85,
   "id": "842f53cf",
   "metadata": {
    "execution": {
     "iopub.execute_input": "2025-01-01T17:05:30.951786Z",
     "iopub.status.busy": "2025-01-01T17:05:30.951467Z",
     "iopub.status.idle": "2025-01-01T17:05:30.957354Z",
     "shell.execute_reply": "2025-01-01T17:05:30.956668Z"
    },
    "papermill": {
     "duration": 0.410423,
     "end_time": "2025-01-01T17:05:30.958630",
     "exception": false,
     "start_time": "2025-01-01T17:05:30.548207",
     "status": "completed"
    },
    "tags": []
   },
   "outputs": [
    {
     "data": {
      "text/plain": [
       "20.0"
      ]
     },
     "execution_count": 85,
     "metadata": {},
     "output_type": "execute_result"
    }
   ],
   "source": [
    "#Check the average of total lines\n",
    "np.percentile(train_df['total_lines'],97)"
   ]
  },
  {
   "cell_type": "code",
   "execution_count": 86,
   "id": "709a4047",
   "metadata": {
    "execution": {
     "iopub.execute_input": "2025-01-01T17:05:31.839624Z",
     "iopub.status.busy": "2025-01-01T17:05:31.839322Z",
     "iopub.status.idle": "2025-01-01T17:05:31.846189Z",
     "shell.execute_reply": "2025-01-01T17:05:31.845318Z"
    },
    "papermill": {
     "duration": 0.422617,
     "end_time": "2025-01-01T17:05:31.847545",
     "exception": false,
     "start_time": "2025-01-01T17:05:31.424928",
     "status": "completed"
    },
    "tags": []
   },
   "outputs": [],
   "source": [
    "#Use tensorflow to create one-hot-encoded tensors of our 'total_lines' features \n",
    "train_total_lines_one_hot=tf.one_hot(train_df['total_lines'].to_numpy(),depth=20)\n",
    "test_total_lines_one_hot=tf.one_hot(test_df['total_lines'].to_numpy(),depth=20)\n",
    "val_total_lines_one_hot=tf.one_hot(val_df['total_lines'].to_numpy(),depth=20)"
   ]
  },
  {
   "cell_type": "markdown",
   "id": "3e8457da",
   "metadata": {
    "papermill": {
     "duration": 0.455036,
     "end_time": "2025-01-01T17:05:32.703391",
     "exception": false,
     "start_time": "2025-01-01T17:05:32.248355",
     "status": "completed"
    },
    "tags": []
   },
   "source": [
    "### Building a tribrid embedding model\n",
    "\n",
    "1. Creating a token-level model\n",
    "2. Create a character-level model\n",
    "3. Create a model for the line-number features\n",
    "4. Create a model for the total_lines features\n",
    "5. Combine the outputs of 1 & 2 using tf.keras.layers.concatenate\n",
    "6. Combine the outputs of 3,4 & 5 using tf.keras.layers.concatenat\n",
    "7. Create an output layer to accept the tribrid embedding and output label probabilities\n",
    "8. Combine the inputs of the 1,2,3 and 4 outputs of the into a tf.keras.model"
   ]
  },
  {
   "cell_type": "code",
   "execution_count": 87,
   "id": "2feffb22",
   "metadata": {
    "execution": {
     "iopub.execute_input": "2025-01-01T17:05:33.509072Z",
     "iopub.status.busy": "2025-01-01T17:05:33.508739Z",
     "iopub.status.idle": "2025-01-01T17:05:36.597177Z",
     "shell.execute_reply": "2025-01-01T17:05:36.596393Z"
    },
    "papermill": {
     "duration": 3.502805,
     "end_time": "2025-01-01T17:05:36.598760",
     "exception": false,
     "start_time": "2025-01-01T17:05:33.095955",
     "status": "completed"
    },
    "tags": []
   },
   "outputs": [],
   "source": [
    "# 1. Setup token inputs model\n",
    "token_inputs=layers.Input(shape=(1,),dtype=tf.string,name='token_input')\n",
    "token_vectors=text_vectorizer(token_inputs)\n",
    "token_embeddings=token_embed(token_vectors)\n",
    "token_bi_lstm=layers.Bidirectional(layers.LSTM(64),name='bi-lstm_1')(token_embeddings)\n",
    "token_model=tf.keras.Model(inputs=token_inputs,\n",
    "                          outputs=token_bi_lstm)\n",
    "\n",
    "# 2. Setup char inputs model\n",
    "char_inputs=layers.Input(shape=(1,),dtype=tf.string,name='char_input')\n",
    "char_vectors=char_vectorizer(char_inputs)\n",
    "char_embeddings=char_embed(char_vectors)\n",
    "char_bi_lstm=layers.Bidirectional(layers.LSTM(64),name='bi-lstm_2')(char_embeddings)\n",
    "char_model=tf.keras.Model(inputs=char_inputs,\n",
    "                         outputs=char_bi_lstm)\n",
    "\n",
    "# 3. Setup line number model\n",
    "line_number_inputs=layers.Input(shape=[15,],dtype=tf.float32,name='line_number_inputs')\n",
    "line_number_dense=layers.Dense(32,activation='relu')(line_number_inputs)\n",
    "line_number_model=tf.keras.Model(inputs=line_number_inputs,\n",
    "                                outputs=line_number_dense)\n",
    "\n",
    "# 4. Setup total lines model\n",
    "total_lines_inputs=layers.Input(shape=[20,],dtype=tf.float32)\n",
    "total_lines_dense=layers.Dense(32,activation='relu')(total_lines_inputs)\n",
    "total_lines_model=tf.keras.Model(inputs=total_lines_inputs,\n",
    "                                outputs=total_lines_dense)\n",
    "\n",
    "# 5. Combine the token and char embedding into a hybrid embeddings\n",
    "combined_embeddings=layers.Concatenate(name='char_token_hybrid_embeddings')([token_model.output,\n",
    "                                                                            char_model.output])\n",
    "z=layers.Dense(256,activation='relu')(combined_embeddings)\n",
    "z=layers.Dropout(0.5)(z)\n",
    "\n",
    "# 6. Combine the positional embeddings with combined token and char embeddings\n",
    "tribrid_embeddings=layers.Concatenate(name='char_token_positional_embeddings')([line_number_model.output,\n",
    "                                                                               total_lines_model.output,\n",
    "                                                                               z])\n",
    "# 7. Create output layer\n",
    "output_layer=layers.Dense(num_classes,activation='softmax')(tribrid_embeddings)\n",
    "\n",
    "# 8. Put together model with all kinds of inputs\n",
    "model_5=tf.keras.Model(inputs=[line_number_model.input,\n",
    "                              total_lines_model.input,\n",
    "                              token_model.input,\n",
    "                              char_model.input],\n",
    "                      outputs=output_layer,name='model_5_tribrid_embedding_model')"
   ]
  },
  {
   "cell_type": "code",
   "execution_count": 88,
   "id": "adfb48fd",
   "metadata": {
    "execution": {
     "iopub.execute_input": "2025-01-01T17:05:37.450455Z",
     "iopub.status.busy": "2025-01-01T17:05:37.450127Z",
     "iopub.status.idle": "2025-01-01T17:05:37.505060Z",
     "shell.execute_reply": "2025-01-01T17:05:37.504097Z"
    },
    "papermill": {
     "duration": 0.454928,
     "end_time": "2025-01-01T17:05:37.506488",
     "exception": false,
     "start_time": "2025-01-01T17:05:37.051560",
     "status": "completed"
    },
    "tags": []
   },
   "outputs": [
    {
     "name": "stdout",
     "output_type": "stream",
     "text": [
      "Model: \"model_5_tribrid_embedding_model\"\n",
      "__________________________________________________________________________________________________\n",
      " Layer (type)                Output Shape                 Param #   Connected to                  \n",
      "==================================================================================================\n",
      " token_input (InputLayer)    [(None, 1)]                  0         []                            \n",
      "                                                                                                  \n",
      " char_input (InputLayer)     [(None, 1)]                  0         []                            \n",
      "                                                                                                  \n",
      " text_vectorization (TextVe  (None, 55)                   0         ['token_input[0][0]']         \n",
      " ctorization)                                                                                     \n",
      "                                                                                                  \n",
      " char_vectorizer (TextVecto  (None, 290)                  0         ['char_input[0][0]']          \n",
      " rization)                                                                                        \n",
      "                                                                                                  \n",
      " Token_embedding (Embedding  (None, 55, 128)              8299648   ['text_vectorization[2][0]']  \n",
      " )                                                                                                \n",
      "                                                                                                  \n",
      " char_embed (Embedding)      (None, 290, 25)              1700      ['char_vectorizer[2][0]']     \n",
      "                                                                                                  \n",
      " bi-lstm_1 (Bidirectional)   (None, 128)                  98816     ['Token_embedding[2][0]']     \n",
      "                                                                                                  \n",
      " bi-lstm_2 (Bidirectional)   (None, 128)                  46080     ['char_embed[2][0]']          \n",
      "                                                                                                  \n",
      " char_token_hybrid_embeddin  (None, 256)                  0         ['bi-lstm_1[0][0]',           \n",
      " gs (Concatenate)                                                    'bi-lstm_2[0][0]']           \n",
      "                                                                                                  \n",
      " line_number_inputs (InputL  [(None, 15)]                 0         []                            \n",
      " ayer)                                                                                            \n",
      "                                                                                                  \n",
      " input_4 (InputLayer)        [(None, 20)]                 0         []                            \n",
      "                                                                                                  \n",
      " dense_8 (Dense)             (None, 256)                  65792     ['char_token_hybrid_embeddings\n",
      "                                                                    [0][0]']                      \n",
      "                                                                                                  \n",
      " dense_6 (Dense)             (None, 32)                   512       ['line_number_inputs[0][0]']  \n",
      "                                                                                                  \n",
      " dense_7 (Dense)             (None, 32)                   672       ['input_4[0][0]']             \n",
      "                                                                                                  \n",
      " dropout_2 (Dropout)         (None, 256)                  0         ['dense_8[0][0]']             \n",
      "                                                                                                  \n",
      " char_token_positional_embe  (None, 320)                  0         ['dense_6[0][0]',             \n",
      " ddings (Concatenate)                                                'dense_7[0][0]',             \n",
      "                                                                     'dropout_2[0][0]']           \n",
      "                                                                                                  \n",
      " dense_9 (Dense)             (None, 5)                    1605      ['char_token_positional_embedd\n",
      "                                                                    ings[0][0]']                  \n",
      "                                                                                                  \n",
      "==================================================================================================\n",
      "Total params: 8514825 (32.48 MB)\n",
      "Trainable params: 8514825 (32.48 MB)\n",
      "Non-trainable params: 0 (0.00 Byte)\n",
      "__________________________________________________________________________________________________\n"
     ]
    }
   ],
   "source": [
    "#get a summary of tribrid embedding models \n",
    "model_5.summary()"
   ]
  },
  {
   "cell_type": "code",
   "execution_count": 89,
   "id": "df5d17a1",
   "metadata": {
    "execution": {
     "iopub.execute_input": "2025-01-01T17:05:38.361083Z",
     "iopub.status.busy": "2025-01-01T17:05:38.360739Z",
     "iopub.status.idle": "2025-01-01T17:05:38.489086Z",
     "shell.execute_reply": "2025-01-01T17:05:38.488144Z"
    },
    "papermill": {
     "duration": 0.529233,
     "end_time": "2025-01-01T17:05:38.491417",
     "exception": false,
     "start_time": "2025-01-01T17:05:37.962184",
     "status": "completed"
    },
    "tags": []
   },
   "outputs": [
    {
     "data": {
      "image/png": "[encoded data removed]",
      "text/plain": [
       "<IPython.core.display.Image object>"
      ]
     },
     "execution_count": 89,
     "metadata": {},
     "output_type": "execute_result"
    }
   ],
   "source": [
    "#Plot the model_5 visually\n",
    "plot_model(model_5,show_shapes=True)"
   ]
  },
  {
   "cell_type": "markdown",
   "id": "f63188df",
   "metadata": {
    "papermill": {
     "duration": 0.447921,
     "end_time": "2025-01-01T17:05:39.338703",
     "exception": false,
     "start_time": "2025-01-01T17:05:38.890782",
     "status": "completed"
    },
    "tags": []
   },
   "source": [
    "#### What is Label_Smoothing?\n",
    "\n",
    "Ans. For example if our model gets too confident on single class.\n",
    "(e.g. its prediction probability is really high) , it may be stuck on that class and not consider other classes...\n",
    "\n",
    "Really Confident : `[0.0,0.0,1.0,0.0,0.1]`\n",
    "\n",
    "What label smoothing does is it assigns some of the value from the highest pred prob to other classes, in turn hopefully proving generalization: `[0.01,0.01,0.96,0.01,0.01]`"
   ]
  },
  {
   "cell_type": "code",
   "execution_count": 90,
   "id": "8cdf89b5",
   "metadata": {
    "execution": {
     "iopub.execute_input": "2025-01-01T17:05:40.266128Z",
     "iopub.status.busy": "2025-01-01T17:05:40.265789Z",
     "iopub.status.idle": "2025-01-01T17:05:40.276684Z",
     "shell.execute_reply": "2025-01-01T17:05:40.275841Z"
    },
    "papermill": {
     "duration": 0.539082,
     "end_time": "2025-01-01T17:05:40.278244",
     "exception": false,
     "start_time": "2025-01-01T17:05:39.739162",
     "status": "completed"
    },
    "tags": []
   },
   "outputs": [],
   "source": [
    "#Compile the model \n",
    "model_5.compile(loss='categorical_crossentropy',\n",
    "               optimizer=tf.keras.optimizers.Adam(),\n",
    "               metrics=['accuracy'])"
   ]
  },
  {
   "cell_type": "markdown",
   "id": "70f73865",
   "metadata": {
    "papermill": {
     "duration": 0.411223,
     "end_time": "2025-01-01T17:05:41.108027",
     "exception": false,
     "start_time": "2025-01-01T17:05:40.696804",
     "status": "completed"
    },
    "tags": []
   },
   "source": [
    "### Create tribrid embedding datasets using tf.data"
   ]
  },
  {
   "cell_type": "code",
   "execution_count": 91,
   "id": "0461fa46",
   "metadata": {
    "execution": {
     "iopub.execute_input": "2025-01-01T17:05:41.958696Z",
     "iopub.status.busy": "2025-01-01T17:05:41.958380Z",
     "iopub.status.idle": "2025-01-01T17:05:43.477871Z",
     "shell.execute_reply": "2025-01-01T17:05:43.477097Z"
    },
    "papermill": {
     "duration": 1.964776,
     "end_time": "2025-01-01T17:05:43.479406",
     "exception": false,
     "start_time": "2025-01-01T17:05:41.514630",
     "status": "completed"
    },
    "tags": []
   },
   "outputs": [],
   "source": [
    "# Create training dataset\n",
    "train_char_token_pos_data = tf.data.Dataset.from_tensor_slices((\n",
    "    train_line_numbers_one_hot,  # Line numbers one-hot\n",
    "    train_total_lines_one_hot,   # Total lines one-hot\n",
    "    train_sentences,             # Sentences\n",
    "    train_chars                  # Characters\n",
    "))\n",
    "\n",
    "train_char_token_pos_labels = tf.data.Dataset.from_tensor_slices(train_labels_one_hot)\n",
    "\n",
    "train_char_token_pos_dataset = tf.data.Dataset.zip((train_char_token_pos_data, train_char_token_pos_labels))\n",
    "train_char_token_pos_dataset = train_char_token_pos_dataset.batch(32).prefetch(tf.data.AUTOTUNE)\n",
    "\n",
    "# Create validation dataset\n",
    "val_char_token_pos_data = tf.data.Dataset.from_tensor_slices((\n",
    "    val_line_numbers_one_hot,  # Line numbers one-hot\n",
    "    val_total_lines_one_hot,   # Total lines one-hot\n",
    "    val_sentences,             # Sentences\n",
    "    val_chars                  # Characters\n",
    "))\n",
    "\n",
    "val_char_token_pos_labels = tf.data.Dataset.from_tensor_slices(val_labels_one_hot)\n",
    "\n",
    "val_char_token_pos_dataset = tf.data.Dataset.zip((val_char_token_pos_data, val_char_token_pos_labels))\n",
    "val_char_token_pos_dataset = val_char_token_pos_dataset.batch(32).prefetch(tf.data.AUTOTUNE)\n",
    "\n",
    "# Create test dataset\n",
    "test_char_token_pos_data = tf.data.Dataset.from_tensor_slices((\n",
    "    test_line_numbers_one_hot,  # Line numbers one-hot\n",
    "    test_total_lines_one_hot,   # Total lines one-hot\n",
    "    test_sentences,             # Sentences\n",
    "    test_chars                  # Characters\n",
    "))\n",
    "\n",
    "test_char_token_pos_labels = tf.data.Dataset.from_tensor_slices(test_labels_one_hot)\n",
    "\n",
    "test_char_token_pos_dataset = tf.data.Dataset.zip((test_char_token_pos_data, test_char_token_pos_labels))\n",
    "test_char_token_pos_dataset = test_char_token_pos_dataset.batch(32).prefetch(tf.data.AUTOTUNE)"
   ]
  },
  {
   "cell_type": "code",
   "execution_count": 92,
   "id": "bfcf769c",
   "metadata": {
    "execution": {
     "iopub.execute_input": "2025-01-01T17:05:44.330991Z",
     "iopub.status.busy": "2025-01-01T17:05:44.330647Z",
     "iopub.status.idle": "2025-01-01T17:05:44.335688Z",
     "shell.execute_reply": "2025-01-01T17:05:44.334739Z"
    },
    "papermill": {
     "duration": 0.457902,
     "end_time": "2025-01-01T17:05:44.336988",
     "exception": false,
     "start_time": "2025-01-01T17:05:43.879086",
     "status": "completed"
    },
    "tags": []
   },
   "outputs": [
    {
     "data": {
      "text/plain": [
       "(<_PrefetchDataset element_spec=((TensorSpec(shape=(None, 15), dtype=tf.float32, name=None), TensorSpec(shape=(None, 20), dtype=tf.float32, name=None), TensorSpec(shape=(None,), dtype=tf.string, name=None), TensorSpec(shape=(None,), dtype=tf.string, name=None)), TensorSpec(shape=(None, 5), dtype=tf.float64, name=None))>,\n",
       " <_PrefetchDataset element_spec=((TensorSpec(shape=(None, 15), dtype=tf.float32, name=None), TensorSpec(shape=(None, 20), dtype=tf.float32, name=None), TensorSpec(shape=(None,), dtype=tf.string, name=None), TensorSpec(shape=(None,), dtype=tf.string, name=None)), TensorSpec(shape=(None, 5), dtype=tf.float64, name=None))>)"
      ]
     },
     "execution_count": 92,
     "metadata": {},
     "output_type": "execute_result"
    }
   ],
   "source": [
    "#Check input shapes\n",
    "train_char_token_pos_dataset,val_char_token_pos_dataset"
   ]
  },
  {
   "cell_type": "markdown",
   "id": "8c0f3598",
   "metadata": {
    "papermill": {
     "duration": 0.405482,
     "end_time": "2025-01-01T17:05:45.161541",
     "exception": false,
     "start_time": "2025-01-01T17:05:44.756059",
     "status": "completed"
    },
    "tags": []
   },
   "source": [
    "### Fitting, Evaluating and Making predictions with our tribrid model"
   ]
  },
  {
   "cell_type": "code",
   "execution_count": 93,
   "id": "758ba6d5",
   "metadata": {
    "execution": {
     "iopub.execute_input": "2025-01-01T17:05:46.018449Z",
     "iopub.status.busy": "2025-01-01T17:05:46.018140Z",
     "iopub.status.idle": "2025-01-01T17:09:16.170241Z",
     "shell.execute_reply": "2025-01-01T17:09:16.169459Z"
    },
    "papermill": {
     "duration": 210.558431,
     "end_time": "2025-01-01T17:09:16.171496",
     "exception": false,
     "start_time": "2025-01-01T17:05:45.613065",
     "status": "completed"
    },
    "tags": []
   },
   "outputs": [
    {
     "name": "stdout",
     "output_type": "stream",
     "text": [
      "Epoch 1/20\n",
      "562/562 [==============================] - 48s 60ms/step - loss: 0.4786 - accuracy: 0.8279 - val_loss: 0.4337 - val_accuracy: 0.8381\n",
      "Epoch 2/20\n",
      "562/562 [==============================] - 19s 34ms/step - loss: 0.3142 - accuracy: 0.8896 - val_loss: 0.3973 - val_accuracy: 0.8471\n",
      "Epoch 3/20\n",
      "562/562 [==============================] - 18s 31ms/step - loss: 0.2849 - accuracy: 0.8996 - val_loss: 0.3847 - val_accuracy: 0.8494\n",
      "Epoch 4/20\n",
      "562/562 [==============================] - 17s 31ms/step - loss: 0.2761 - accuracy: 0.9040 - val_loss: 0.3803 - val_accuracy: 0.8544\n",
      "Epoch 5/20\n",
      "562/562 [==============================] - 18s 31ms/step - loss: 0.2670 - accuracy: 0.9049 - val_loss: 0.3805 - val_accuracy: 0.8554\n",
      "Epoch 6/20\n",
      "562/562 [==============================] - 18s 32ms/step - loss: 0.2640 - accuracy: 0.9028 - val_loss: 0.3755 - val_accuracy: 0.8541\n",
      "Epoch 7/20\n",
      "562/562 [==============================] - 18s 33ms/step - loss: 0.2498 - accuracy: 0.9074 - val_loss: 0.3774 - val_accuracy: 0.8637\n",
      "Epoch 8/20\n",
      "562/562 [==============================] - 17s 31ms/step - loss: 0.2385 - accuracy: 0.9157 - val_loss: 0.3633 - val_accuracy: 0.8674\n",
      "Epoch 9/20\n",
      "562/562 [==============================] - 18s 31ms/step - loss: 0.2318 - accuracy: 0.9172 - val_loss: 0.4025 - val_accuracy: 0.8577\n",
      "Epoch 10/20\n",
      "562/562 [==============================] - 17s 31ms/step - loss: 0.2332 - accuracy: 0.9147 - val_loss: 0.3759 - val_accuracy: 0.8657\n",
      "Epoch 11/20\n",
      "562/562 [==============================] - 1s 2ms/step - loss: 0.4105 - accuracy: 0.8750 - val_loss: 0.4173 - val_accuracy: 0.8474\n"
     ]
    }
   ],
   "source": [
    "# Train the model\n",
    "history_model_5 = model_5.fit(\n",
    "    train_char_token_pos_dataset, \n",
    "    steps_per_epoch=int(0.1 * len(train_char_token_pos_dataset)),\n",
    "    epochs=20,  # You can set to 20 as needed\n",
    "    validation_data=val_char_token_pos_dataset,\n",
    "    validation_steps=int(0.1 * len(val_char_token_pos_dataset))\n",
    ")"
   ]
  },
  {
   "cell_type": "code",
   "execution_count": 94,
   "id": "4762c45e",
   "metadata": {
    "execution": {
     "iopub.execute_input": "2025-01-01T17:09:17.300723Z",
     "iopub.status.busy": "2025-01-01T17:09:17.300358Z",
     "iopub.status.idle": "2025-01-01T17:10:22.043822Z",
     "shell.execute_reply": "2025-01-01T17:10:22.042260Z"
    },
    "papermill": {
     "duration": 65.330574,
     "end_time": "2025-01-01T17:10:22.045347",
     "exception": false,
     "start_time": "2025-01-01T17:09:16.714773",
     "status": "completed"
    },
    "tags": []
   },
   "outputs": [
    {
     "name": "stdout",
     "output_type": "stream",
     "text": [
      "5627/5627 [==============================] - 65s 12ms/step - loss: 0.2397 - accuracy: 0.9106\n"
     ]
    },
    {
     "data": {
      "text/plain": [
       "[0.23970818519592285, 0.9106309413909912]"
      ]
     },
     "execution_count": 94,
     "metadata": {},
     "output_type": "execute_result"
    }
   ],
   "source": [
    "model_5.evaluate(train_char_token_pos_dataset)"
   ]
  },
  {
   "cell_type": "code",
   "execution_count": 95,
   "id": "e68cc462",
   "metadata": {
    "execution": {
     "iopub.execute_input": "2025-01-01T17:10:23.305747Z",
     "iopub.status.busy": "2025-01-01T17:10:23.305383Z",
     "iopub.status.idle": "2025-01-01T17:10:37.842642Z",
     "shell.execute_reply": "2025-01-01T17:10:37.841755Z"
    },
    "papermill": {
     "duration": 15.129267,
     "end_time": "2025-01-01T17:10:37.844057",
     "exception": false,
     "start_time": "2025-01-01T17:10:22.714790",
     "status": "completed"
    },
    "tags": []
   },
   "outputs": [
    {
     "name": "stdout",
     "output_type": "stream",
     "text": [
      "945/945 [==============================] - 14s 11ms/step\n"
     ]
    },
    {
     "data": {
      "text/plain": [
       "<tf.Tensor: shape=(10,), dtype=int64, numpy=array([0, 0, 3, 2, 2, 4, 4, 4, 4, 1])>"
      ]
     },
     "execution_count": 95,
     "metadata": {},
     "output_type": "execute_result"
    }
   ],
   "source": [
    "#Make predictions with char token pos model\n",
    "model_5_pred_probs=model_5.predict(val_char_token_pos_dataset)\n",
    "model_5_preds=tf.argmax(model_5_pred_probs,axis=1)\n",
    "model_5_preds[:10]"
   ]
  },
  {
   "cell_type": "code",
   "execution_count": 96,
   "id": "442d0b14",
   "metadata": {
    "execution": {
     "iopub.execute_input": "2025-01-01T17:10:39.085478Z",
     "iopub.status.busy": "2025-01-01T17:10:39.085153Z",
     "iopub.status.idle": "2025-01-01T17:10:39.090709Z",
     "shell.execute_reply": "2025-01-01T17:10:39.089739Z"
    },
    "papermill": {
     "duration": 0.60349,
     "end_time": "2025-01-01T17:10:39.092189",
     "exception": false,
     "start_time": "2025-01-01T17:10:38.488699",
     "status": "completed"
    },
    "tags": []
   },
   "outputs": [
    {
     "data": {
      "text/plain": [
       "<tf.Tensor: shape=(30212,), dtype=int64, numpy=array([0, 0, 3, ..., 4, 1, 1])>"
      ]
     },
     "execution_count": 96,
     "metadata": {},
     "output_type": "execute_result"
    }
   ],
   "source": [
    "model_5_preds"
   ]
  },
  {
   "cell_type": "code",
   "execution_count": 97,
   "id": "2b1d944e",
   "metadata": {
    "execution": {
     "iopub.execute_input": "2025-01-01T17:10:40.435813Z",
     "iopub.status.busy": "2025-01-01T17:10:40.435314Z",
     "iopub.status.idle": "2025-01-01T17:10:40.440282Z",
     "shell.execute_reply": "2025-01-01T17:10:40.439390Z"
    },
    "papermill": {
     "duration": 0.691814,
     "end_time": "2025-01-01T17:10:40.441482",
     "exception": false,
     "start_time": "2025-01-01T17:10:39.749668",
     "status": "completed"
    },
    "tags": []
   },
   "outputs": [
    {
     "data": {
      "text/plain": [
       "(30212,)"
      ]
     },
     "execution_count": 97,
     "metadata": {},
     "output_type": "execute_result"
    }
   ],
   "source": [
    "val_label_encoded.shape"
   ]
  },
  {
   "cell_type": "code",
   "execution_count": 98,
   "id": "a3f9b3cc",
   "metadata": {
    "execution": {
     "iopub.execute_input": "2025-01-01T17:10:41.691796Z",
     "iopub.status.busy": "2025-01-01T17:10:41.691242Z",
     "iopub.status.idle": "2025-01-01T17:10:41.713910Z",
     "shell.execute_reply": "2025-01-01T17:10:41.713115Z"
    },
    "papermill": {
     "duration": 0.679301,
     "end_time": "2025-01-01T17:10:41.715069",
     "exception": false,
     "start_time": "2025-01-01T17:10:41.035768",
     "status": "completed"
    },
    "tags": []
   },
   "outputs": [
    {
     "data": {
      "text/plain": [
       "{'accuracy': 0.8486363034555806,\n",
       " 'precision': 0.8528207121112718,\n",
       " 'recall': 0.8486363034555806,\n",
       " 'F1-score': 0.8461800834956058}"
      ]
     },
     "execution_count": 98,
     "metadata": {},
     "output_type": "execute_result"
    }
   ],
   "source": [
    "model_5_results=calculate_results(y_pred=model_5_preds,\n",
    "                                 y_true=tf.convert_to_tensor(val_label_encoded))\n",
    "model_5_results"
   ]
  },
  {
   "cell_type": "markdown",
   "id": "43e2d4a0",
   "metadata": {
    "papermill": {
     "duration": 0.603308,
     "end_time": "2025-01-01T17:10:42.914829",
     "exception": false,
     "start_time": "2025-01-01T17:10:42.311521",
     "status": "completed"
    },
    "tags": []
   },
   "source": [
    "## Compare Model results"
   ]
  },
  {
   "cell_type": "code",
   "execution_count": 99,
   "id": "2b883cdb",
   "metadata": {
    "execution": {
     "iopub.execute_input": "2025-01-01T17:10:44.213585Z",
     "iopub.status.busy": "2025-01-01T17:10:44.213278Z",
     "iopub.status.idle": "2025-01-01T17:10:44.224269Z",
     "shell.execute_reply": "2025-01-01T17:10:44.223400Z"
    },
    "papermill": {
     "duration": 0.668958,
     "end_time": "2025-01-01T17:10:44.225503",
     "exception": false,
     "start_time": "2025-01-01T17:10:43.556545",
     "status": "completed"
    },
    "tags": []
   },
   "outputs": [
    {
     "data": {
      "text/html": [
       "<div>\n",
       "<style scoped>\n",
       "    .dataframe tbody tr th:only-of-type {\n",
       "        vertical-align: middle;\n",
       "    }\n",
       "\n",
       "    .dataframe tbody tr th {\n",
       "        vertical-align: top;\n",
       "    }\n",
       "\n",
       "    .dataframe thead th {\n",
       "        text-align: right;\n",
       "    }\n",
       "</style>\n",
       "<table border=\"1\" class=\"dataframe\">\n",
       "  <thead>\n",
       "    <tr style=\"text-align: right;\">\n",
       "      <th></th>\n",
       "      <th>accuracy</th>\n",
       "      <th>precision</th>\n",
       "      <th>recall</th>\n",
       "      <th>F1-score</th>\n",
       "    </tr>\n",
       "  </thead>\n",
       "  <tbody>\n",
       "    <tr>\n",
       "      <th>model_1_custom_token_embedding</th>\n",
       "      <td>0.826890</td>\n",
       "      <td>0.826917</td>\n",
       "      <td>0.826890</td>\n",
       "      <td>0.824188</td>\n",
       "    </tr>\n",
       "    <tr>\n",
       "      <th>model_2_pretrained_tokenembedding</th>\n",
       "      <td>0.748974</td>\n",
       "      <td>0.744351</td>\n",
       "      <td>0.748974</td>\n",
       "      <td>0.744217</td>\n",
       "    </tr>\n",
       "    <tr>\n",
       "      <th>model_3_custom_char_embedding</th>\n",
       "      <td>0.651397</td>\n",
       "      <td>0.665635</td>\n",
       "      <td>0.651397</td>\n",
       "      <td>0.648952</td>\n",
       "    </tr>\n",
       "    <tr>\n",
       "      <th>model_4_hybrid_char_token_embedding</th>\n",
       "      <td>0.821263</td>\n",
       "      <td>0.818548</td>\n",
       "      <td>0.821263</td>\n",
       "      <td>0.818275</td>\n",
       "    </tr>\n",
       "    <tr>\n",
       "      <th>model_5_char_token_pos_embedding</th>\n",
       "      <td>0.848636</td>\n",
       "      <td>0.852821</td>\n",
       "      <td>0.848636</td>\n",
       "      <td>0.846180</td>\n",
       "    </tr>\n",
       "  </tbody>\n",
       "</table>\n",
       "</div>"
      ],
      "text/plain": [
       "                                     accuracy  precision    recall  F1-score\n",
       "model_1_custom_token_embedding       0.826890   0.826917  0.826890  0.824188\n",
       "model_2_pretrained_tokenembedding    0.748974   0.744351  0.748974  0.744217\n",
       "model_3_custom_char_embedding        0.651397   0.665635  0.651397  0.648952\n",
       "model_4_hybrid_char_token_embedding  0.821263   0.818548  0.821263  0.818275\n",
       "model_5_char_token_pos_embedding     0.848636   0.852821  0.848636  0.846180"
      ]
     },
     "execution_count": 99,
     "metadata": {},
     "output_type": "execute_result"
    }
   ],
   "source": [
    "#Combine model results into dataframe\n",
    "all_model_results=pd.DataFrame({\"model_1_custom_token_embedding\":model_1_results,\n",
    "                                \"model_2_pretrained_tokenembedding\":model_2_results,\n",
    "                               \"model_3_custom_char_embedding\":model_3_results,\n",
    "                               \"model_4_hybrid_char_token_embedding\":model_4_results,\n",
    "                               \"model_5_char_token_pos_embedding\":model_5_results})\n",
    "all_model_results=all_model_results.transpose()\n",
    "all_model_results"
   ]
  },
  {
   "cell_type": "code",
   "execution_count": 100,
   "id": "cac11e6a",
   "metadata": {
    "execution": {
     "iopub.execute_input": "2025-01-01T17:10:45.484262Z",
     "iopub.status.busy": "2025-01-01T17:10:45.483938Z",
     "iopub.status.idle": "2025-01-01T17:10:46.438822Z",
     "shell.execute_reply": "2025-01-01T17:10:46.437932Z"
    },
    "papermill": {
     "duration": 1.618573,
     "end_time": "2025-01-01T17:10:46.440422",
     "exception": false,
     "start_time": "2025-01-01T17:10:44.821849",
     "status": "completed"
    },
    "tags": []
   },
   "outputs": [
    {
     "data": {
      "image/png": "[encoded data removed]",
      "text/plain": [
       "<Figure size 1000x700 with 1 Axes>"
      ]
     },
     "metadata": {},
     "output_type": "display_data"
    }
   ],
   "source": [
    "#Plot and compare all model results\n",
    "all_model_results.plot(kind='bar', figsize=(10, 7))\n",
    "\n",
    "# Add legend with specific location\n",
    "plt.legend(bbox_to_anchor=(1.0, 1.0))\n",
    "\n",
    "# Save the plot as a .png file (you can change the file format as needed)\n",
    "plt.savefig('model_comparison_bar_plot.png', format='png', bbox_inches='tight', dpi=300)"
   ]
  },
  {
   "cell_type": "code",
   "execution_count": 101,
   "id": "b9635dc3",
   "metadata": {
    "execution": {
     "iopub.execute_input": "2025-01-01T17:10:47.684820Z",
     "iopub.status.busy": "2025-01-01T17:10:47.684474Z",
     "iopub.status.idle": "2025-01-01T17:10:47.935064Z",
     "shell.execute_reply": "2025-01-01T17:10:47.934205Z"
    },
    "papermill": {
     "duration": 0.892752,
     "end_time": "2025-01-01T17:10:47.936719",
     "exception": false,
     "start_time": "2025-01-01T17:10:47.043967",
     "status": "completed"
    },
    "tags": []
   },
   "outputs": [
    {
     "data": {
      "image/png": "[encoded data removed]",
      "text/plain": [
       "<Figure size 1000x700 with 1 Axes>"
      ]
     },
     "metadata": {},
     "output_type": "display_data"
    }
   ],
   "source": [
    "# Sort models results by f1-score\n",
    "all_model_results.sort_values('F1-score',ascending=True)['F1-score'].plot(kind='bar',figsize=(10,7));"
   ]
  },
  {
   "cell_type": "markdown",
   "id": "fb090a86",
   "metadata": {
    "papermill": {
     "duration": 0.602282,
     "end_time": "2025-01-01T17:10:49.194630",
     "exception": false,
     "start_time": "2025-01-01T17:10:48.592348",
     "status": "completed"
    },
    "tags": []
   },
   "source": [
    "## Save the model"
   ]
  },
  {
   "cell_type": "code",
   "execution_count": 102,
   "id": "83a4ac8d",
   "metadata": {
    "execution": {
     "iopub.execute_input": "2025-01-01T17:10:50.477099Z",
     "iopub.status.busy": "2025-01-01T17:10:50.476686Z",
     "iopub.status.idle": "2025-01-01T17:10:51.214392Z",
     "shell.execute_reply": "2025-01-01T17:10:51.213624Z"
    },
    "papermill": {
     "duration": 1.365531,
     "end_time": "2025-01-01T17:10:51.215901",
     "exception": false,
     "start_time": "2025-01-01T17:10:49.850370",
     "status": "completed"
    },
    "tags": []
   },
   "outputs": [],
   "source": [
    "model_5.save('skimlit_tribrid_model.keras')"
   ]
  },
  {
   "cell_type": "markdown",
   "id": "a8de5826",
   "metadata": {
    "papermill": {
     "duration": 0.599693,
     "end_time": "2025-01-01T17:10:52.464276",
     "exception": false,
     "start_time": "2025-01-01T17:10:51.864583",
     "status": "completed"
    },
    "tags": []
   },
   "source": [
    "## Testing our tribrid model on testing dataset"
   ]
  },
  {
   "cell_type": "code",
   "execution_count": 103,
   "id": "068dd83b",
   "metadata": {
    "execution": {
     "iopub.execute_input": "2025-01-01T17:10:53.721585Z",
     "iopub.status.busy": "2025-01-01T17:10:53.721277Z",
     "iopub.status.idle": "2025-01-01T17:11:04.658344Z",
     "shell.execute_reply": "2025-01-01T17:11:04.657350Z"
    },
    "papermill": {
     "duration": 11.540264,
     "end_time": "2025-01-01T17:11:04.659884",
     "exception": false,
     "start_time": "2025-01-01T17:10:53.119620",
     "status": "completed"
    },
    "tags": []
   },
   "outputs": [
    {
     "name": "stdout",
     "output_type": "stream",
     "text": [
      "942/942 [==============================] - 10s 11ms/step\n"
     ]
    }
   ],
   "source": [
    "model_5_test_pred_probs=model_5.predict(test_char_token_pos_dataset)\n",
    "model_5_test_preds=tf.argmax(model_5_test_pred_probs,axis=1)"
   ]
  },
  {
   "cell_type": "code",
   "execution_count": 104,
   "id": "0c50233e",
   "metadata": {
    "execution": {
     "iopub.execute_input": "2025-01-01T17:11:05.942446Z",
     "iopub.status.busy": "2025-01-01T17:11:05.942145Z",
     "iopub.status.idle": "2025-01-01T17:11:05.964519Z",
     "shell.execute_reply": "2025-01-01T17:11:05.963752Z"
    },
    "papermill": {
     "duration": 0.650973,
     "end_time": "2025-01-01T17:11:05.965830",
     "exception": false,
     "start_time": "2025-01-01T17:11:05.314857",
     "status": "completed"
    },
    "tags": []
   },
   "outputs": [
    {
     "data": {
      "text/plain": [
       "{'accuracy': 0.8430064708810353,\n",
       " 'precision': 0.8463348785668383,\n",
       " 'recall': 0.8430064708810353,\n",
       " 'F1-score': 0.8404257702056261}"
      ]
     },
     "execution_count": 104,
     "metadata": {},
     "output_type": "execute_result"
    }
   ],
   "source": [
    "model_5_test_results=calculate_results(y_true=test_label_encoded,\n",
    "                                      y_pred=model_5_test_preds)\n",
    "model_5_test_results"
   ]
  },
  {
   "cell_type": "markdown",
   "id": "dea27151",
   "metadata": {
    "papermill": {
     "duration": 0.614393,
     "end_time": "2025-01-01T17:11:07.253414",
     "exception": false,
     "start_time": "2025-01-01T17:11:06.639021",
     "status": "completed"
    },
    "tags": []
   },
   "source": [
    "## Conclusion: Final Model for prediction is TriBrid Model"
   ]
  },
  {
   "cell_type": "markdown",
   "id": "bb881221",
   "metadata": {
    "papermill": {
     "duration": 0.609681,
     "end_time": "2025-01-01T17:11:08.513315",
     "exception": false,
     "start_time": "2025-01-01T17:11:07.903634",
     "status": "completed"
    },
    "tags": []
   },
   "source": [
    "### Find the wrong predictions on final model"
   ]
  },
  {
   "cell_type": "code",
   "execution_count": 105,
   "id": "f0963161",
   "metadata": {
    "execution": {
     "iopub.execute_input": "2025-01-01T17:11:09.783192Z",
     "iopub.status.busy": "2025-01-01T17:11:09.782867Z",
     "iopub.status.idle": "2025-01-01T17:11:09.787838Z",
     "shell.execute_reply": "2025-01-01T17:11:09.786973Z"
    },
    "papermill": {
     "duration": 0.612689,
     "end_time": "2025-01-01T17:11:09.789002",
     "exception": false,
     "start_time": "2025-01-01T17:11:09.176313",
     "status": "completed"
    },
    "tags": []
   },
   "outputs": [
    {
     "data": {
      "text/plain": [
       "array([0, 4, 4, ..., 4, 4, 1])"
      ]
     },
     "execution_count": 105,
     "metadata": {},
     "output_type": "execute_result"
    }
   ],
   "source": [
    "test_label_encoded"
   ]
  },
  {
   "cell_type": "code",
   "execution_count": 106,
   "id": "01af8b29",
   "metadata": {
    "execution": {
     "iopub.execute_input": "2025-01-01T17:11:11.213488Z",
     "iopub.status.busy": "2025-01-01T17:11:11.213163Z",
     "iopub.status.idle": "2025-01-01T17:11:11.219208Z",
     "shell.execute_reply": "2025-01-01T17:11:11.218333Z"
    },
    "papermill": {
     "duration": 0.712589,
     "end_time": "2025-01-01T17:11:11.220408",
     "exception": false,
     "start_time": "2025-01-01T17:11:10.507819",
     "status": "completed"
    },
    "tags": []
   },
   "outputs": [
    {
     "data": {
      "text/plain": [
       "array([0, 2, 2, ..., 4, 4, 4])"
      ]
     },
     "execution_count": 106,
     "metadata": {},
     "output_type": "execute_result"
    }
   ],
   "source": [
    "test_preds=np.argmax(model_5_test_pred_probs,axis=1)\n",
    "test_preds"
   ]
  },
  {
   "cell_type": "code",
   "execution_count": 107,
   "id": "bb5c8d93",
   "metadata": {
    "execution": {
     "iopub.execute_input": "2025-01-01T17:11:12.478256Z",
     "iopub.status.busy": "2025-01-01T17:11:12.477926Z",
     "iopub.status.idle": "2025-01-01T17:11:12.483592Z",
     "shell.execute_reply": "2025-01-01T17:11:12.482741Z"
    },
    "papermill": {
     "duration": 0.663592,
     "end_time": "2025-01-01T17:11:12.484980",
     "exception": false,
     "start_time": "2025-01-01T17:11:11.821388",
     "status": "completed"
    },
    "tags": []
   },
   "outputs": [
    {
     "data": {
      "text/plain": [
       "array([    1,     2,     3, ..., 30112, 30117, 30134])"
      ]
     },
     "execution_count": 107,
     "metadata": {},
     "output_type": "execute_result"
    }
   ],
   "source": [
    "#Find the wrong predictions, find the highest pro\n",
    "wrong_predictions_indices = np.where(test_preds != test_label_encoded)[0]\n",
    "wrong_predictions_indices"
   ]
  },
  {
   "cell_type": "code",
   "execution_count": 108,
   "id": "7b307345",
   "metadata": {
    "execution": {
     "iopub.execute_input": "2025-01-01T17:11:13.770969Z",
     "iopub.status.busy": "2025-01-01T17:11:13.770612Z",
     "iopub.status.idle": "2025-01-01T17:11:13.777066Z",
     "shell.execute_reply": "2025-01-01T17:11:13.776147Z"
    },
    "papermill": {
     "duration": 0.662376,
     "end_time": "2025-01-01T17:11:13.778320",
     "exception": false,
     "start_time": "2025-01-01T17:11:13.115944",
     "status": "completed"
    },
    "tags": []
   },
   "outputs": [
    {
     "data": {
      "text/plain": [
       "0.8430064708810353"
      ]
     },
     "execution_count": 108,
     "metadata": {},
     "output_type": "execute_result"
    }
   ],
   "source": [
    "from sklearn.metrics import accuracy_score\n",
    "accuracy_score(test_preds,test_label_encoded)"
   ]
  },
  {
   "cell_type": "code",
   "execution_count": 109,
   "id": "c2ad124c",
   "metadata": {
    "execution": {
     "iopub.execute_input": "2025-01-01T17:11:15.043825Z",
     "iopub.status.busy": "2025-01-01T17:11:15.043504Z",
     "iopub.status.idle": "2025-01-01T17:11:15.088700Z",
     "shell.execute_reply": "2025-01-01T17:11:15.087734Z"
    },
    "papermill": {
     "duration": 0.708655,
     "end_time": "2025-01-01T17:11:15.090374",
     "exception": false,
     "start_time": "2025-01-01T17:11:14.381719",
     "status": "completed"
    },
    "tags": []
   },
   "outputs": [
    {
     "name": "stdout",
     "output_type": "stream",
     "text": [
      "Table of Wrong Predictions:\n"
     ]
    },
    {
     "data": {
      "text/html": [
       "<div>\n",
       "<style scoped>\n",
       "    .dataframe tbody tr th:only-of-type {\n",
       "        vertical-align: middle;\n",
       "    }\n",
       "\n",
       "    .dataframe tbody tr th {\n",
       "        vertical-align: top;\n",
       "    }\n",
       "\n",
       "    .dataframe thead th {\n",
       "        text-align: right;\n",
       "    }\n",
       "</style>\n",
       "<table border=\"1\" class=\"dataframe\">\n",
       "  <thead>\n",
       "    <tr style=\"text-align: right;\">\n",
       "      <th></th>\n",
       "      <th>index</th>\n",
       "      <th>true_label</th>\n",
       "      <th>predicted_label</th>\n",
       "      <th>probability</th>\n",
       "    </tr>\n",
       "  </thead>\n",
       "  <tbody>\n",
       "    <tr>\n",
       "      <th>0</th>\n",
       "      <td>19223</td>\n",
       "      <td>2</td>\n",
       "      <td>4</td>\n",
       "      <td>0.999951</td>\n",
       "    </tr>\n",
       "    <tr>\n",
       "      <th>1</th>\n",
       "      <td>12158</td>\n",
       "      <td>2</td>\n",
       "      <td>4</td>\n",
       "      <td>0.999916</td>\n",
       "    </tr>\n",
       "    <tr>\n",
       "      <th>2</th>\n",
       "      <td>25664</td>\n",
       "      <td>1</td>\n",
       "      <td>4</td>\n",
       "      <td>0.999916</td>\n",
       "    </tr>\n",
       "    <tr>\n",
       "      <th>3</th>\n",
       "      <td>9130</td>\n",
       "      <td>2</td>\n",
       "      <td>4</td>\n",
       "      <td>0.999868</td>\n",
       "    </tr>\n",
       "    <tr>\n",
       "      <th>4</th>\n",
       "      <td>21186</td>\n",
       "      <td>2</td>\n",
       "      <td>4</td>\n",
       "      <td>0.999843</td>\n",
       "    </tr>\n",
       "    <tr>\n",
       "      <th>...</th>\n",
       "      <td>...</td>\n",
       "      <td>...</td>\n",
       "      <td>...</td>\n",
       "      <td>...</td>\n",
       "    </tr>\n",
       "    <tr>\n",
       "      <th>4726</th>\n",
       "      <td>24790</td>\n",
       "      <td>2</td>\n",
       "      <td>1</td>\n",
       "      <td>0.304989</td>\n",
       "    </tr>\n",
       "    <tr>\n",
       "      <th>4727</th>\n",
       "      <td>7279</td>\n",
       "      <td>2</td>\n",
       "      <td>1</td>\n",
       "      <td>0.292521</td>\n",
       "    </tr>\n",
       "    <tr>\n",
       "      <th>4728</th>\n",
       "      <td>5738</td>\n",
       "      <td>0</td>\n",
       "      <td>3</td>\n",
       "      <td>0.292422</td>\n",
       "    </tr>\n",
       "    <tr>\n",
       "      <th>4729</th>\n",
       "      <td>9476</td>\n",
       "      <td>2</td>\n",
       "      <td>1</td>\n",
       "      <td>0.289024</td>\n",
       "    </tr>\n",
       "    <tr>\n",
       "      <th>4730</th>\n",
       "      <td>6477</td>\n",
       "      <td>4</td>\n",
       "      <td>0</td>\n",
       "      <td>0.269517</td>\n",
       "    </tr>\n",
       "  </tbody>\n",
       "</table>\n",
       "<p>4731 rows × 4 columns</p>\n",
       "</div>"
      ],
      "text/plain": [
       "      index  true_label  predicted_label  probability\n",
       "0     19223           2                4     0.999951\n",
       "1     12158           2                4     0.999916\n",
       "2     25664           1                4     0.999916\n",
       "3      9130           2                4     0.999868\n",
       "4     21186           2                4     0.999843\n",
       "...     ...         ...              ...          ...\n",
       "4726  24790           2                1     0.304989\n",
       "4727   7279           2                1     0.292521\n",
       "4728   5738           0                3     0.292422\n",
       "4729   9476           2                1     0.289024\n",
       "4730   6477           4                0     0.269517\n",
       "\n",
       "[4731 rows x 4 columns]"
      ]
     },
     "execution_count": 109,
     "metadata": {},
     "output_type": "execute_result"
    }
   ],
   "source": [
    "import pandas as pd \n",
    "\n",
    "# Step 5: For each wrong prediction, find the highest prediction probability\n",
    "wrong_predictions_with_probs = []\n",
    "for idx in wrong_predictions_indices:\n",
    "    prob = model_5_test_pred_probs[idx, test_preds[idx]]  # Highest prediction probability\n",
    "    wrong_predictions_with_probs.append({\n",
    "        'index': idx,\n",
    "        'true_label': test_label_encoded[idx],\n",
    "        'predicted_label': test_preds[idx],\n",
    "        'probability': prob,\n",
    "    })\n",
    "\n",
    "# Sort wrong predictions by probability (highest first)\n",
    "wrong_predictions_with_probs.sort(key=lambda x: x['probability'], reverse=True)\n",
    "\n",
    "# Step 1: Convert wrong predictions to a DataFrame for tabular display\n",
    "wrong_predictions_df = pd.DataFrame(wrong_predictions_with_probs)\n",
    "\n",
    "# Display the table of wrong predictions\n",
    "print(\"Table of Wrong Predictions:\")\n",
    "wrong_predictions_df"
   ]
  },
  {
   "cell_type": "code",
   "execution_count": 110,
   "id": "f1ce9e08",
   "metadata": {
    "execution": {
     "iopub.execute_input": "2025-01-01T17:11:16.361321Z",
     "iopub.status.busy": "2025-01-01T17:11:16.361012Z",
     "iopub.status.idle": "2025-01-01T17:11:16.365557Z",
     "shell.execute_reply": "2025-01-01T17:11:16.364835Z"
    },
    "papermill": {
     "duration": 0.67353,
     "end_time": "2025-01-01T17:11:16.366860",
     "exception": false,
     "start_time": "2025-01-01T17:11:15.693330",
     "status": "completed"
    },
    "tags": []
   },
   "outputs": [
    {
     "data": {
      "text/plain": [
       "30135"
      ]
     },
     "execution_count": 110,
     "metadata": {},
     "output_type": "execute_result"
    }
   ],
   "source": [
    "len(test_label_encoded)"
   ]
  },
  {
   "cell_type": "markdown",
   "id": "0c139c46",
   "metadata": {
    "papermill": {
     "duration": 0.657064,
     "end_time": "2025-01-01T17:11:17.628696",
     "exception": false,
     "start_time": "2025-01-01T17:11:16.971632",
     "status": "completed"
    },
    "tags": []
   },
   "source": [
    "### Visualise Error distribution Across classes"
   ]
  },
  {
   "cell_type": "code",
   "execution_count": 111,
   "id": "a0055a6c",
   "metadata": {
    "execution": {
     "iopub.execute_input": "2025-01-01T17:11:18.888566Z",
     "iopub.status.busy": "2025-01-01T17:11:18.888259Z",
     "iopub.status.idle": "2025-01-01T17:11:19.201482Z",
     "shell.execute_reply": "2025-01-01T17:11:19.200635Z"
    },
    "papermill": {
     "duration": 0.968646,
     "end_time": "2025-01-01T17:11:19.202934",
     "exception": false,
     "start_time": "2025-01-01T17:11:18.234288",
     "status": "completed"
    },
    "tags": []
   },
   "outputs": [
    {
     "data": {
      "image/png": "[encoded data removed]",
      "text/plain": [
       "<Figure size 1000x500 with 1 Axes>"
      ]
     },
     "metadata": {},
     "output_type": "display_data"
    }
   ],
   "source": [
    "# Count wrong predictions per class\n",
    "wrong_per_class = pd.Series([test_label_encoded[idx] for idx in wrong_predictions_indices]).value_counts()\n",
    "\n",
    "# Plot wrong predictions per class\n",
    "plt.figure(figsize=(10, 5))\n",
    "wrong_per_class.sort_index().plot(kind='bar', color='orange')\n",
    "plt.xlabel('Class')\n",
    "plt.ylabel('Number of Wrong Predictions')\n",
    "plt.title('Number of Wrong Predictions per Class')\n",
    "plt.savefig(\"distribution_wrong_prediction.png\")"
   ]
  },
  {
   "cell_type": "markdown",
   "id": "237b1da9",
   "metadata": {
    "papermill": {
     "duration": 0.709072,
     "end_time": "2025-01-01T17:11:20.519024",
     "exception": false,
     "start_time": "2025-01-01T17:11:19.809952",
     "status": "completed"
    },
    "tags": []
   },
   "source": [
    "### Visualise of wrong predictions on Class Basis"
   ]
  },
  {
   "cell_type": "code",
   "execution_count": 112,
   "id": "ca0f0349",
   "metadata": {
    "execution": {
     "iopub.execute_input": "2025-01-01T17:11:21.789974Z",
     "iopub.status.busy": "2025-01-01T17:11:21.789632Z",
     "iopub.status.idle": "2025-01-01T17:11:22.418404Z",
     "shell.execute_reply": "2025-01-01T17:11:22.417532Z"
    },
    "papermill": {
     "duration": 1.291002,
     "end_time": "2025-01-01T17:11:22.419882",
     "exception": false,
     "start_time": "2025-01-01T17:11:21.128880",
     "status": "completed"
    },
    "tags": []
   },
   "outputs": [
    {
     "data": {
      "image/png": "[encoded data removed]",
      "text/plain": [
       "<Figure size 1000x800 with 2 Axes>"
      ]
     },
     "metadata": {},
     "output_type": "display_data"
    }
   ],
   "source": [
    "import seaborn as sns\n",
    "import matplotlib.pyplot as plt\n",
    "from sklearn.metrics import confusion_matrix\n",
    "\n",
    "# Create a confusion matrix for wrong predictions only\n",
    "conf_matrix = confusion_matrix(\n",
    "    wrong_predictions_df['true_label'],\n",
    "    wrong_predictions_df['predicted_label']\n",
    ")\n",
    "\n",
    "# Plot the confusion matrix\n",
    "plt.figure(figsize=(10, 8))\n",
    "sns.heatmap(conf_matrix, annot=True, fmt=\"d\", cmap=\"Blues\", xticklabels=True, yticklabels=True)\n",
    "plt.title(\"Confusion Matrix for Wrong Predictions\")\n",
    "plt.xlabel(\"Predicted Class\")\n",
    "plt.ylabel(\"True Class\")\n",
    "plt.savefig(\"confusion_matrix_wrong_prediction.png\")"
   ]
  },
  {
   "cell_type": "markdown",
   "id": "1548dd11",
   "metadata": {
    "papermill": {
     "duration": 0.652892,
     "end_time": "2025-01-01T17:11:23.720736",
     "exception": false,
     "start_time": "2025-01-01T17:11:23.067844",
     "status": "completed"
    },
    "tags": []
   },
   "source": [
    "### 2. Confidence Distribution for Wrong Predictions:\n",
    "This shows how confident the model was for its wrong predictions."
   ]
  },
  {
   "cell_type": "code",
   "execution_count": 113,
   "id": "b49bb82d",
   "metadata": {
    "execution": {
     "iopub.execute_input": "2025-01-01T17:11:24.989142Z",
     "iopub.status.busy": "2025-01-01T17:11:24.988515Z",
     "iopub.status.idle": "2025-01-01T17:11:25.389455Z",
     "shell.execute_reply": "2025-01-01T17:11:25.388380Z"
    },
    "papermill": {
     "duration": 1.057909,
     "end_time": "2025-01-01T17:11:25.391074",
     "exception": false,
     "start_time": "2025-01-01T17:11:24.333165",
     "status": "completed"
    },
    "tags": []
   },
   "outputs": [
    {
     "name": "stderr",
     "output_type": "stream",
     "text": [
      "/usr/local/lib/python3.10/dist-packages/seaborn/_oldcore.py:1119: FutureWarning: use_inf_as_na option is deprecated and will be removed in a future version. Convert inf values to NaN before operating instead.\n",
      "  with pd.option_context('mode.use_inf_as_na', True):\n"
     ]
    },
    {
     "data": {
      "image/png": "[encoded data removed]",
      "text/plain": [
       "<Figure size 1000x600 with 1 Axes>"
      ]
     },
     "metadata": {},
     "output_type": "display_data"
    }
   ],
   "source": [
    "# Plot the distribution of confidence scores for wrong predictions\n",
    "plt.figure(figsize=(10, 6))\n",
    "sns.histplot(wrong_predictions_df['probability'], bins=20, kde=True, color=\"red\")\n",
    "plt.title(\"Confidence Distribution for Wrong Predictions\")\n",
    "plt.xlabel(\"Prediction Confidence\")\n",
    "plt.ylabel(\"Frequency\")\n",
    "plt.savefig(\"confidence_distribution_wrong_predictions.png\",format='png')"
   ]
  },
  {
   "cell_type": "markdown",
   "id": "f77c19ce",
   "metadata": {
    "papermill": {
     "duration": 0.656618,
     "end_time": "2025-01-01T17:11:26.660613",
     "exception": false,
     "start_time": "2025-01-01T17:11:26.003995",
     "status": "completed"
    },
    "tags": []
   },
   "source": [
    "### Confusion matrix for whole test dataset"
   ]
  },
  {
   "cell_type": "code",
   "execution_count": 114,
   "id": "0c17bb5d",
   "metadata": {
    "execution": {
     "iopub.execute_input": "2025-01-01T17:11:27.962361Z",
     "iopub.status.busy": "2025-01-01T17:11:27.961842Z",
     "iopub.status.idle": "2025-01-01T17:11:28.362796Z",
     "shell.execute_reply": "2025-01-01T17:11:28.361872Z"
    },
    "papermill": {
     "duration": 1.061954,
     "end_time": "2025-01-01T17:11:28.364138",
     "exception": false,
     "start_time": "2025-01-01T17:11:27.302184",
     "status": "completed"
    },
    "tags": []
   },
   "outputs": [
    {
     "data": {
      "image/png": "[encoded data removed]",
      "text/plain": [
       "<Figure size 1000x700 with 2 Axes>"
      ]
     },
     "metadata": {},
     "output_type": "display_data"
    }
   ],
   "source": [
    "# Compute the confusion matrix\n",
    "conf_matrix = confusion_matrix(test_label_encoded, test_preds)\n",
    "\n",
    "# Plot the confusion matrix using seaborn heatmap\n",
    "plt.figure(figsize=(10, 7))\n",
    "sns.heatmap(conf_matrix, annot=True, fmt='d', cmap='Blues', xticklabels=np.arange(conf_matrix.shape[1]), yticklabels=np.arange(conf_matrix.shape[0]))\n",
    "plt.xlabel('Predicted Labels')\n",
    "plt.ylabel('True Labels')\n",
    "plt.title('Confusion Matrix - Full Test Dataset')\n",
    "plt.savefig(\"confusion_matrix_full_test.png\",format='png')"
   ]
  }
 ],
 "metadata": {
  "kaggle": {
   "accelerator": "nvidiaTeslaT4",
   "dataSources": [
    {
     "datasetId": 2752513,
     "sourceId": 5129127,
     "sourceType": "datasetVersion"
    }
   ],
   "dockerImageVersionId": 30823,
   "isGpuEnabled": true,
   "isInternetEnabled": true,
   "language": "python",
   "sourceType": "notebook"
  },
  "kernelspec": {
   "display_name": "Python 3",
   "language": "python",
   "name": "python3"
  },
  "language_info": {
   "codemirror_mode": {
    "name": "ipython",
    "version": 3
   },
   "file_extension": ".py",
   "mimetype": "text/x-python",
   "name": "python",
   "nbconvert_exporter": "python",
   "pygments_lexer": "ipython3",
   "version": "3.10.12"
  },
  "papermill": {
   "default_parameters": {},
   "duration": 1090.319999,
   "end_time": "2025-01-01T17:11:33.139695",
   "environment_variables": {},
   "exception": null,
   "input_path": "__notebook__.ipynb",
   "output_path": "__notebook__.ipynb",
   "parameters": {},
   "start_time": "2025-01-01T16:53:22.819696",
   "version": "2.6.0"
  }
 },
 "nbformat": 4,
 "nbformat_minor": 5
}
