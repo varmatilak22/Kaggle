{
 "cells": [
  {
   "cell_type": "code",
   "execution_count": 1,
   "id": "67d4c8b6",
   "metadata": {
    "_cell_guid": "b1076dfc-b9ad-4769-8c92-a6c4dae69d19",
    "_uuid": "8f2839f25d086af736a60e9eeb907d3b93b6e0e5",
    "execution": {
     "iopub.execute_input": "2024-06-23T10:20:05.295421Z",
     "iopub.status.busy": "2024-06-23T10:20:05.294959Z",
     "iopub.status.idle": "2024-06-23T10:20:06.167971Z",
     "shell.execute_reply": "2024-06-23T10:20:06.166195Z"
    },
    "papermill": {
     "duration": 0.888073,
     "end_time": "2024-06-23T10:20:06.171420",
     "exception": false,
     "start_time": "2024-06-23T10:20:05.283347",
     "status": "completed"
    },
    "tags": []
   },
   "outputs": [
    {
     "name": "stdout",
     "output_type": "stream",
     "text": [
      "/kaggle/input/kagglex-assesssment-dataset/sample_submission.csv\n",
      "/kaggle/input/kagglex-assesssment-dataset/train.csv\n",
      "/kaggle/input/kagglex-assesssment-dataset/test.csv\n"
     ]
    }
   ],
   "source": [
    "# This Python 3 environment comes with many helpful analytics libraries installed\n",
    "# It is defined by the kaggle/python Docker image: https://github.com/kaggle/docker-python\n",
    "# For example, here's several helpful packages to load\n",
    "\n",
    "import numpy as np # linear algebra\n",
    "import pandas as pd # data processing, CSV file I/O (e.g. pd.read_csv)\n",
    "\n",
    "# Input data files are available in the read-only \"../input/\" directory\n",
    "# For example, running this (by clicking run or pressing Shift+Enter) will list all files under the input directory\n",
    "\n",
    "import os\n",
    "for dirname, _, filenames in os.walk('/kaggle/input'):\n",
    "    for filename in filenames:\n",
    "        print(os.path.join(dirname, filename))\n",
    "\n",
    "# You can write up to 20GB to the current directory (/kaggle/working/) that gets preserved as output when you create a version using \"Save & Run All\" \n",
    "# You can also write temporary files to /kaggle/temp/, but they won't be saved outside of the current session"
   ]
  },
  {
   "cell_type": "code",
   "execution_count": 2,
   "id": "2d2e3c49",
   "metadata": {
    "execution": {
     "iopub.execute_input": "2024-06-23T10:20:06.192596Z",
     "iopub.status.busy": "2024-06-23T10:20:06.192067Z",
     "iopub.status.idle": "2024-06-23T10:20:20.431591Z",
     "shell.execute_reply": "2024-06-23T10:20:20.430270Z"
    },
    "papermill": {
     "duration": 14.253338,
     "end_time": "2024-06-23T10:20:20.434546",
     "exception": false,
     "start_time": "2024-06-23T10:20:06.181208",
     "status": "completed"
    },
    "tags": []
   },
   "outputs": [
    {
     "name": "stderr",
     "output_type": "stream",
     "text": [
      "2024-06-23 10:20:08.482453: E external/local_xla/xla/stream_executor/cuda/cuda_dnn.cc:9261] Unable to register cuDNN factory: Attempting to register factory for plugin cuDNN when one has already been registered\n",
      "2024-06-23 10:20:08.482699: E external/local_xla/xla/stream_executor/cuda/cuda_fft.cc:607] Unable to register cuFFT factory: Attempting to register factory for plugin cuFFT when one has already been registered\n",
      "2024-06-23 10:20:08.651705: E external/local_xla/xla/stream_executor/cuda/cuda_blas.cc:1515] Unable to register cuBLAS factory: Attempting to register factory for plugin cuBLAS when one has already been registered\n"
     ]
    }
   ],
   "source": [
    "import pandas as pd\n",
    "import numpy as np\n",
    "import matplotlib.pyplot as plt\n",
    "import tensorflow as tf\n"
   ]
  },
  {
   "cell_type": "code",
   "execution_count": 3,
   "id": "b5263504",
   "metadata": {
    "execution": {
     "iopub.execute_input": "2024-06-23T10:20:20.462586Z",
     "iopub.status.busy": "2024-06-23T10:20:20.461087Z",
     "iopub.status.idle": "2024-06-23T10:20:20.934128Z",
     "shell.execute_reply": "2024-06-23T10:20:20.933108Z"
    },
    "papermill": {
     "duration": 0.487478,
     "end_time": "2024-06-23T10:20:20.936876",
     "exception": false,
     "start_time": "2024-06-23T10:20:20.449398",
     "status": "completed"
    },
    "tags": []
   },
   "outputs": [],
   "source": [
    "train=pd.read_csv(\"/kaggle/input/kagglex-assesssment-dataset/train.csv\")\n",
    "test=pd.read_csv(\"/kaggle/input/kagglex-assesssment-dataset/test.csv\")\n",
    "sample_submission=pd.read_csv(\"/kaggle/input/kagglex-assesssment-dataset/sample_submission.csv\")"
   ]
  },
  {
   "cell_type": "code",
   "execution_count": 4,
   "id": "bd265a5f",
   "metadata": {
    "execution": {
     "iopub.execute_input": "2024-06-23T10:20:20.958405Z",
     "iopub.status.busy": "2024-06-23T10:20:20.957961Z",
     "iopub.status.idle": "2024-06-23T10:20:20.994789Z",
     "shell.execute_reply": "2024-06-23T10:20:20.993640Z"
    },
    "papermill": {
     "duration": 0.050565,
     "end_time": "2024-06-23T10:20:20.997166",
     "exception": false,
     "start_time": "2024-06-23T10:20:20.946601",
     "status": "completed"
    },
    "tags": []
   },
   "outputs": [
    {
     "data": {
      "text/html": [
       "<div>\n",
       "<style scoped>\n",
       "    .dataframe tbody tr th:only-of-type {\n",
       "        vertical-align: middle;\n",
       "    }\n",
       "\n",
       "    .dataframe tbody tr th {\n",
       "        vertical-align: top;\n",
       "    }\n",
       "\n",
       "    .dataframe thead th {\n",
       "        text-align: right;\n",
       "    }\n",
       "</style>\n",
       "<table border=\"1\" class=\"dataframe\">\n",
       "  <thead>\n",
       "    <tr style=\"text-align: right;\">\n",
       "      <th></th>\n",
       "      <th>id</th>\n",
       "      <th>brand</th>\n",
       "      <th>model</th>\n",
       "      <th>model_year</th>\n",
       "      <th>milage</th>\n",
       "      <th>fuel_type</th>\n",
       "      <th>engine</th>\n",
       "      <th>transmission</th>\n",
       "      <th>ext_col</th>\n",
       "      <th>int_col</th>\n",
       "      <th>accident</th>\n",
       "      <th>clean_title</th>\n",
       "      <th>price</th>\n",
       "    </tr>\n",
       "  </thead>\n",
       "  <tbody>\n",
       "    <tr>\n",
       "      <th>0</th>\n",
       "      <td>0</td>\n",
       "      <td>Ford</td>\n",
       "      <td>F-150 Lariat</td>\n",
       "      <td>2018</td>\n",
       "      <td>74349</td>\n",
       "      <td>Gasoline</td>\n",
       "      <td>375.0HP 3.5L V6 Cylinder Engine Gasoline Fuel</td>\n",
       "      <td>10-Speed A/T</td>\n",
       "      <td>Blue</td>\n",
       "      <td>Gray</td>\n",
       "      <td>None reported</td>\n",
       "      <td>Yes</td>\n",
       "      <td>11000</td>\n",
       "    </tr>\n",
       "    <tr>\n",
       "      <th>1</th>\n",
       "      <td>1</td>\n",
       "      <td>BMW</td>\n",
       "      <td>335 i</td>\n",
       "      <td>2007</td>\n",
       "      <td>80000</td>\n",
       "      <td>Gasoline</td>\n",
       "      <td>300.0HP 3.0L Straight 6 Cylinder Engine Gasoli...</td>\n",
       "      <td>6-Speed M/T</td>\n",
       "      <td>Black</td>\n",
       "      <td>Black</td>\n",
       "      <td>None reported</td>\n",
       "      <td>Yes</td>\n",
       "      <td>8250</td>\n",
       "    </tr>\n",
       "    <tr>\n",
       "      <th>2</th>\n",
       "      <td>2</td>\n",
       "      <td>Jaguar</td>\n",
       "      <td>XF Luxury</td>\n",
       "      <td>2009</td>\n",
       "      <td>91491</td>\n",
       "      <td>Gasoline</td>\n",
       "      <td>300.0HP 4.2L 8 Cylinder Engine Gasoline Fuel</td>\n",
       "      <td>6-Speed A/T</td>\n",
       "      <td>Purple</td>\n",
       "      <td>Beige</td>\n",
       "      <td>None reported</td>\n",
       "      <td>Yes</td>\n",
       "      <td>15000</td>\n",
       "    </tr>\n",
       "    <tr>\n",
       "      <th>3</th>\n",
       "      <td>3</td>\n",
       "      <td>BMW</td>\n",
       "      <td>X7 xDrive40i</td>\n",
       "      <td>2022</td>\n",
       "      <td>2437</td>\n",
       "      <td>Hybrid</td>\n",
       "      <td>335.0HP 3.0L Straight 6 Cylinder Engine Gasoli...</td>\n",
       "      <td>Transmission w/Dual Shift Mode</td>\n",
       "      <td>Gray</td>\n",
       "      <td>Brown</td>\n",
       "      <td>None reported</td>\n",
       "      <td>Yes</td>\n",
       "      <td>63500</td>\n",
       "    </tr>\n",
       "    <tr>\n",
       "      <th>4</th>\n",
       "      <td>4</td>\n",
       "      <td>Pontiac</td>\n",
       "      <td>Firebird Base</td>\n",
       "      <td>2001</td>\n",
       "      <td>111000</td>\n",
       "      <td>Gasoline</td>\n",
       "      <td>200.0HP 3.8L V6 Cylinder Engine Gasoline Fuel</td>\n",
       "      <td>A/T</td>\n",
       "      <td>White</td>\n",
       "      <td>Black</td>\n",
       "      <td>None reported</td>\n",
       "      <td>Yes</td>\n",
       "      <td>7850</td>\n",
       "    </tr>\n",
       "    <tr>\n",
       "      <th>...</th>\n",
       "      <td>...</td>\n",
       "      <td>...</td>\n",
       "      <td>...</td>\n",
       "      <td>...</td>\n",
       "      <td>...</td>\n",
       "      <td>...</td>\n",
       "      <td>...</td>\n",
       "      <td>...</td>\n",
       "      <td>...</td>\n",
       "      <td>...</td>\n",
       "      <td>...</td>\n",
       "      <td>...</td>\n",
       "      <td>...</td>\n",
       "    </tr>\n",
       "    <tr>\n",
       "      <th>54268</th>\n",
       "      <td>54268</td>\n",
       "      <td>BMW</td>\n",
       "      <td>X6 xDrive50i</td>\n",
       "      <td>2017</td>\n",
       "      <td>29000</td>\n",
       "      <td>Gasoline</td>\n",
       "      <td>445.0HP 4.4L 8 Cylinder Engine Gasoline Fuel</td>\n",
       "      <td>8-Speed A/T</td>\n",
       "      <td>White</td>\n",
       "      <td>Brown</td>\n",
       "      <td>None reported</td>\n",
       "      <td>Yes</td>\n",
       "      <td>29000</td>\n",
       "    </tr>\n",
       "    <tr>\n",
       "      <th>54269</th>\n",
       "      <td>54269</td>\n",
       "      <td>Audi</td>\n",
       "      <td>A4 2.0T Premium</td>\n",
       "      <td>2015</td>\n",
       "      <td>94634</td>\n",
       "      <td>E85 Flex Fuel</td>\n",
       "      <td>220.0HP 2.0L 4 Cylinder Engine Flex Fuel Capab...</td>\n",
       "      <td>6-Speed A/T</td>\n",
       "      <td>Black</td>\n",
       "      <td>Black</td>\n",
       "      <td>At least 1 accident or damage reported</td>\n",
       "      <td>Yes</td>\n",
       "      <td>6500</td>\n",
       "    </tr>\n",
       "    <tr>\n",
       "      <th>54270</th>\n",
       "      <td>54270</td>\n",
       "      <td>Porsche</td>\n",
       "      <td>Cayenne S</td>\n",
       "      <td>2013</td>\n",
       "      <td>40989</td>\n",
       "      <td>Gasoline</td>\n",
       "      <td>420.0HP 3.6L V6 Cylinder Engine Gasoline Fuel</td>\n",
       "      <td>Transmission w/Dual Shift Mode</td>\n",
       "      <td>White</td>\n",
       "      <td>Black</td>\n",
       "      <td>At least 1 accident or damage reported</td>\n",
       "      <td>Yes</td>\n",
       "      <td>18950</td>\n",
       "    </tr>\n",
       "    <tr>\n",
       "      <th>54271</th>\n",
       "      <td>54271</td>\n",
       "      <td>Porsche</td>\n",
       "      <td>911 Carrera 4 GTS</td>\n",
       "      <td>2023</td>\n",
       "      <td>1518</td>\n",
       "      <td>Gasoline</td>\n",
       "      <td>4.0L H6 24V GDI DOHC</td>\n",
       "      <td>8-Speed Automatic with Auto-Shift</td>\n",
       "      <td>Beige</td>\n",
       "      <td>Brown</td>\n",
       "      <td>None reported</td>\n",
       "      <td>Yes</td>\n",
       "      <td>194965</td>\n",
       "    </tr>\n",
       "    <tr>\n",
       "      <th>54272</th>\n",
       "      <td>54272</td>\n",
       "      <td>Audi</td>\n",
       "      <td>A5 Sportback S line Premium Plus</td>\n",
       "      <td>2021</td>\n",
       "      <td>35000</td>\n",
       "      <td>Hybrid</td>\n",
       "      <td>261.0HP 2.0L 4 Cylinder Engine Gasoline/Mild E...</td>\n",
       "      <td>8-Speed A/T</td>\n",
       "      <td>Black</td>\n",
       "      <td>Black</td>\n",
       "      <td>None reported</td>\n",
       "      <td>Yes</td>\n",
       "      <td>37499</td>\n",
       "    </tr>\n",
       "  </tbody>\n",
       "</table>\n",
       "<p>54273 rows × 13 columns</p>\n",
       "</div>"
      ],
      "text/plain": [
       "          id    brand                             model  model_year  milage  \\\n",
       "0          0     Ford                      F-150 Lariat        2018   74349   \n",
       "1          1      BMW                             335 i        2007   80000   \n",
       "2          2   Jaguar                         XF Luxury        2009   91491   \n",
       "3          3      BMW                      X7 xDrive40i        2022    2437   \n",
       "4          4  Pontiac                     Firebird Base        2001  111000   \n",
       "...      ...      ...                               ...         ...     ...   \n",
       "54268  54268      BMW                      X6 xDrive50i        2017   29000   \n",
       "54269  54269     Audi                   A4 2.0T Premium        2015   94634   \n",
       "54270  54270  Porsche                         Cayenne S        2013   40989   \n",
       "54271  54271  Porsche                 911 Carrera 4 GTS        2023    1518   \n",
       "54272  54272     Audi  A5 Sportback S line Premium Plus        2021   35000   \n",
       "\n",
       "           fuel_type                                             engine  \\\n",
       "0           Gasoline      375.0HP 3.5L V6 Cylinder Engine Gasoline Fuel   \n",
       "1           Gasoline  300.0HP 3.0L Straight 6 Cylinder Engine Gasoli...   \n",
       "2           Gasoline       300.0HP 4.2L 8 Cylinder Engine Gasoline Fuel   \n",
       "3             Hybrid  335.0HP 3.0L Straight 6 Cylinder Engine Gasoli...   \n",
       "4           Gasoline      200.0HP 3.8L V6 Cylinder Engine Gasoline Fuel   \n",
       "...              ...                                                ...   \n",
       "54268       Gasoline       445.0HP 4.4L 8 Cylinder Engine Gasoline Fuel   \n",
       "54269  E85 Flex Fuel  220.0HP 2.0L 4 Cylinder Engine Flex Fuel Capab...   \n",
       "54270       Gasoline      420.0HP 3.6L V6 Cylinder Engine Gasoline Fuel   \n",
       "54271       Gasoline                               4.0L H6 24V GDI DOHC   \n",
       "54272         Hybrid  261.0HP 2.0L 4 Cylinder Engine Gasoline/Mild E...   \n",
       "\n",
       "                            transmission ext_col int_col  \\\n",
       "0                           10-Speed A/T    Blue    Gray   \n",
       "1                            6-Speed M/T   Black   Black   \n",
       "2                            6-Speed A/T  Purple   Beige   \n",
       "3         Transmission w/Dual Shift Mode    Gray   Brown   \n",
       "4                                    A/T   White   Black   \n",
       "...                                  ...     ...     ...   \n",
       "54268                        8-Speed A/T   White   Brown   \n",
       "54269                        6-Speed A/T   Black   Black   \n",
       "54270     Transmission w/Dual Shift Mode   White   Black   \n",
       "54271  8-Speed Automatic with Auto-Shift   Beige   Brown   \n",
       "54272                        8-Speed A/T   Black   Black   \n",
       "\n",
       "                                     accident clean_title   price  \n",
       "0                               None reported         Yes   11000  \n",
       "1                               None reported         Yes    8250  \n",
       "2                               None reported         Yes   15000  \n",
       "3                               None reported         Yes   63500  \n",
       "4                               None reported         Yes    7850  \n",
       "...                                       ...         ...     ...  \n",
       "54268                           None reported         Yes   29000  \n",
       "54269  At least 1 accident or damage reported         Yes    6500  \n",
       "54270  At least 1 accident or damage reported         Yes   18950  \n",
       "54271                           None reported         Yes  194965  \n",
       "54272                           None reported         Yes   37499  \n",
       "\n",
       "[54273 rows x 13 columns]"
      ]
     },
     "execution_count": 4,
     "metadata": {},
     "output_type": "execute_result"
    }
   ],
   "source": [
    "train"
   ]
  },
  {
   "cell_type": "code",
   "execution_count": 5,
   "id": "23a1af85",
   "metadata": {
    "execution": {
     "iopub.execute_input": "2024-06-23T10:20:21.019575Z",
     "iopub.status.busy": "2024-06-23T10:20:21.019185Z",
     "iopub.status.idle": "2024-06-23T10:20:21.037538Z",
     "shell.execute_reply": "2024-06-23T10:20:21.036444Z"
    },
    "papermill": {
     "duration": 0.032526,
     "end_time": "2024-06-23T10:20:21.040161",
     "exception": false,
     "start_time": "2024-06-23T10:20:21.007635",
     "status": "completed"
    },
    "tags": []
   },
   "outputs": [],
   "source": [
    "train=train.drop(['id','model_year','clean_title'],axis=1)\n",
    "test=test.drop(['id','model_year','clean_title'],axis=1)"
   ]
  },
  {
   "cell_type": "code",
   "execution_count": 6,
   "id": "35872c55",
   "metadata": {
    "execution": {
     "iopub.execute_input": "2024-06-23T10:20:21.062498Z",
     "iopub.status.busy": "2024-06-23T10:20:21.062105Z",
     "iopub.status.idle": "2024-06-23T10:20:21.072987Z",
     "shell.execute_reply": "2024-06-23T10:20:21.071642Z"
    },
    "papermill": {
     "duration": 0.02504,
     "end_time": "2024-06-23T10:20:21.075705",
     "exception": false,
     "start_time": "2024-06-23T10:20:21.050665",
     "status": "completed"
    },
    "tags": []
   },
   "outputs": [],
   "source": [
    "y=train['price']\n",
    "X=train.drop(['price'],axis=1)"
   ]
  },
  {
   "cell_type": "code",
   "execution_count": 7,
   "id": "2a8c29fc",
   "metadata": {
    "execution": {
     "iopub.execute_input": "2024-06-23T10:20:21.098658Z",
     "iopub.status.busy": "2024-06-23T10:20:21.098223Z",
     "iopub.status.idle": "2024-06-23T10:20:21.106232Z",
     "shell.execute_reply": "2024-06-23T10:20:21.104984Z"
    },
    "papermill": {
     "duration": 0.022391,
     "end_time": "2024-06-23T10:20:21.108640",
     "exception": false,
     "start_time": "2024-06-23T10:20:21.086249",
     "status": "completed"
    },
    "tags": []
   },
   "outputs": [
    {
     "data": {
      "text/plain": [
       "(Index(['brand', 'model', 'milage', 'fuel_type', 'engine', 'transmission',\n",
       "        'ext_col', 'int_col', 'accident'],\n",
       "       dtype='object'),\n",
       " Index(['brand', 'model', 'milage', 'fuel_type', 'engine', 'transmission',\n",
       "        'ext_col', 'int_col', 'accident', 'price'],\n",
       "       dtype='object'),\n",
       " Index(['brand', 'model', 'milage', 'fuel_type', 'engine', 'transmission',\n",
       "        'ext_col', 'int_col', 'accident'],\n",
       "       dtype='object'))"
      ]
     },
     "execution_count": 7,
     "metadata": {},
     "output_type": "execute_result"
    }
   ],
   "source": [
    "X.columns,train.columns,test.columns"
   ]
  },
  {
   "cell_type": "code",
   "execution_count": 8,
   "id": "a1894a91",
   "metadata": {
    "execution": {
     "iopub.execute_input": "2024-06-23T10:20:21.131152Z",
     "iopub.status.busy": "2024-06-23T10:20:21.130719Z",
     "iopub.status.idle": "2024-06-23T10:20:21.140400Z",
     "shell.execute_reply": "2024-06-23T10:20:21.139314Z"
    },
    "papermill": {
     "duration": 0.02388,
     "end_time": "2024-06-23T10:20:21.142767",
     "exception": false,
     "start_time": "2024-06-23T10:20:21.118887",
     "status": "completed"
    },
    "tags": []
   },
   "outputs": [
    {
     "data": {
      "text/plain": [
       "0         11000\n",
       "1          8250\n",
       "2         15000\n",
       "3         63500\n",
       "4          7850\n",
       "          ...  \n",
       "54268     29000\n",
       "54269      6500\n",
       "54270     18950\n",
       "54271    194965\n",
       "54272     37499\n",
       "Name: price, Length: 54273, dtype: int64"
      ]
     },
     "execution_count": 8,
     "metadata": {},
     "output_type": "execute_result"
    }
   ],
   "source": [
    "y"
   ]
  },
  {
   "cell_type": "code",
   "execution_count": 9,
   "id": "9e2c42e1",
   "metadata": {
    "execution": {
     "iopub.execute_input": "2024-06-23T10:20:21.165336Z",
     "iopub.status.busy": "2024-06-23T10:20:21.164917Z",
     "iopub.status.idle": "2024-06-23T10:20:22.062010Z",
     "shell.execute_reply": "2024-06-23T10:20:22.060822Z"
    },
    "papermill": {
     "duration": 0.91166,
     "end_time": "2024-06-23T10:20:22.064881",
     "exception": false,
     "start_time": "2024-06-23T10:20:21.153221",
     "status": "completed"
    },
    "tags": []
   },
   "outputs": [],
   "source": [
    "from sklearn.preprocessing import OrdinalEncoder"
   ]
  },
  {
   "cell_type": "code",
   "execution_count": 10,
   "id": "afb2acec",
   "metadata": {
    "execution": {
     "iopub.execute_input": "2024-06-23T10:20:22.087804Z",
     "iopub.status.busy": "2024-06-23T10:20:22.087337Z",
     "iopub.status.idle": "2024-06-23T10:20:22.404522Z",
     "shell.execute_reply": "2024-06-23T10:20:22.403299Z"
    },
    "papermill": {
     "duration": 0.331823,
     "end_time": "2024-06-23T10:20:22.407347",
     "exception": false,
     "start_time": "2024-06-23T10:20:22.075524",
     "status": "completed"
    },
    "tags": []
   },
   "outputs": [],
   "source": [
    "encoder=OrdinalEncoder()\n",
    "\n",
    "X_encode=encoder.fit_transform(X)\n",
    "test_encoder=encoder.fit_transform(test)"
   ]
  },
  {
   "cell_type": "code",
   "execution_count": 11,
   "id": "00ef0782",
   "metadata": {
    "execution": {
     "iopub.execute_input": "2024-06-23T10:20:22.430071Z",
     "iopub.status.busy": "2024-06-23T10:20:22.429623Z",
     "iopub.status.idle": "2024-06-23T10:20:22.438376Z",
     "shell.execute_reply": "2024-06-23T10:20:22.437178Z"
    },
    "papermill": {
     "duration": 0.023035,
     "end_time": "2024-06-23T10:20:22.440819",
     "exception": false,
     "start_time": "2024-06-23T10:20:22.417784",
     "status": "completed"
    },
    "tags": []
   },
   "outputs": [
    {
     "data": {
      "text/plain": [
       "array([[1.400e+01, 6.440e+02, 2.070e+03, ..., 2.600e+01, 5.700e+01,\n",
       "        1.000e+00],\n",
       "       [4.000e+00, 4.900e+01, 2.187e+03, ..., 1.700e+01, 9.000e+00,\n",
       "        1.000e+00],\n",
       "       [2.100e+01, 1.771e+03, 2.376e+03, ..., 1.810e+02, 6.000e+00,\n",
       "        1.000e+00],\n",
       "       ...,\n",
       "       [4.100e+01, 4.210e+02, 1.372e+03, ..., 2.490e+02, 9.000e+00,\n",
       "        0.000e+00],\n",
       "       [4.100e+01, 1.420e+02, 8.900e+01, ..., 1.200e+01, 2.400e+01,\n",
       "        1.000e+00],\n",
       "       [3.000e+00, 1.760e+02, 1.208e+03, ..., 1.700e+01, 9.000e+00,\n",
       "        1.000e+00]])"
      ]
     },
     "execution_count": 11,
     "metadata": {},
     "output_type": "execute_result"
    }
   ],
   "source": [
    "X_encode"
   ]
  },
  {
   "cell_type": "code",
   "execution_count": 12,
   "id": "b944de1d",
   "metadata": {
    "execution": {
     "iopub.execute_input": "2024-06-23T10:20:22.465045Z",
     "iopub.status.busy": "2024-06-23T10:20:22.464536Z",
     "iopub.status.idle": "2024-06-23T10:20:22.473187Z",
     "shell.execute_reply": "2024-06-23T10:20:22.471554Z"
    },
    "papermill": {
     "duration": 0.023439,
     "end_time": "2024-06-23T10:20:22.475771",
     "exception": false,
     "start_time": "2024-06-23T10:20:22.452332",
     "status": "completed"
    },
    "tags": []
   },
   "outputs": [
    {
     "data": {
      "text/plain": [
       "array([[3.400e+01, 5.280e+02, 1.887e+03, ..., 2.200e+02, 8.000e+00,\n",
       "        1.000e+00],\n",
       "       [2.600e+01, 1.246e+03, 2.570e+03, ..., 1.870e+02, 1.000e+01,\n",
       "        1.000e+00],\n",
       "       [3.400e+01, 3.170e+02, 1.486e+03, ..., 2.600e+01, 1.070e+02,\n",
       "        1.000e+00],\n",
       "       ...,\n",
       "       [4.900e+01, 4.800e+02, 2.460e+03, ..., 1.200e+01, 5.300e+01,\n",
       "        1.000e+00],\n",
       "       [2.700e+01, 1.082e+03, 1.209e+03, ..., 1.700e+01, 8.200e+01,\n",
       "        1.000e+00],\n",
       "       [9.000e+00, 1.575e+03, 2.784e+03, ..., 1.700e+01, 1.000e+01,\n",
       "        0.000e+00]])"
      ]
     },
     "execution_count": 12,
     "metadata": {},
     "output_type": "execute_result"
    }
   ],
   "source": [
    "test_encoder"
   ]
  },
  {
   "cell_type": "code",
   "execution_count": 13,
   "id": "4a1defc4",
   "metadata": {
    "execution": {
     "iopub.execute_input": "2024-06-23T10:20:22.500799Z",
     "iopub.status.busy": "2024-06-23T10:20:22.500346Z",
     "iopub.status.idle": "2024-06-23T10:20:23.103355Z",
     "shell.execute_reply": "2024-06-23T10:20:23.102026Z"
    },
    "papermill": {
     "duration": 0.619594,
     "end_time": "2024-06-23T10:20:23.106279",
     "exception": false,
     "start_time": "2024-06-23T10:20:22.486685",
     "status": "completed"
    },
    "tags": []
   },
   "outputs": [],
   "source": [
    "from sklearn.preprocessing import MinMaxScaler\n",
    "from sklearn.model_selection import train_test_split\n",
    "from sklearn.ensemble import RandomForestRegressor"
   ]
  },
  {
   "cell_type": "code",
   "execution_count": 14,
   "id": "95a9112c",
   "metadata": {
    "execution": {
     "iopub.execute_input": "2024-06-23T10:20:23.129823Z",
     "iopub.status.busy": "2024-06-23T10:20:23.129387Z",
     "iopub.status.idle": "2024-06-23T10:20:23.157302Z",
     "shell.execute_reply": "2024-06-23T10:20:23.156129Z"
    },
    "papermill": {
     "duration": 0.042639,
     "end_time": "2024-06-23T10:20:23.159977",
     "exception": false,
     "start_time": "2024-06-23T10:20:23.117338",
     "status": "completed"
    },
    "tags": []
   },
   "outputs": [],
   "source": [
    "scaler=MinMaxScaler()\n",
    "\n",
    "X_scaler=scaler.fit_transform(X_encode)\n",
    "test_scaler=scaler.fit_transform(test_encoder)"
   ]
  },
  {
   "cell_type": "code",
   "execution_count": 15,
   "id": "ff429268",
   "metadata": {
    "execution": {
     "iopub.execute_input": "2024-06-23T10:20:23.183369Z",
     "iopub.status.busy": "2024-06-23T10:20:23.182966Z",
     "iopub.status.idle": "2024-06-23T10:20:23.192315Z",
     "shell.execute_reply": "2024-06-23T10:20:23.190601Z"
    },
    "papermill": {
     "duration": 0.024031,
     "end_time": "2024-06-23T10:20:23.194880",
     "exception": false,
     "start_time": "2024-06-23T10:20:23.170849",
     "status": "completed"
    },
    "tags": []
   },
   "outputs": [
    {
     "data": {
      "text/plain": [
       "array([[0.26923077, 0.35268346, 0.64465898, ..., 0.1003861 , 0.46341463,\n",
       "        1.        ],\n",
       "       [0.07692308, 0.02683461, 0.68109623, ..., 0.06563707, 0.07317073,\n",
       "        1.        ],\n",
       "       [0.40384615, 0.96987952, 0.7399564 , ..., 0.6988417 , 0.04878049,\n",
       "        1.        ],\n",
       "       ...,\n",
       "       [0.78846154, 0.2305586 , 0.42728122, ..., 0.96138996, 0.07317073,\n",
       "        0.        ],\n",
       "       [0.78846154, 0.07776561, 0.02771722, ..., 0.04633205, 0.19512195,\n",
       "        1.        ],\n",
       "       [0.05769231, 0.09638554, 0.37620679, ..., 0.06563707, 0.07317073,\n",
       "        1.        ]])"
      ]
     },
     "execution_count": 15,
     "metadata": {},
     "output_type": "execute_result"
    }
   ],
   "source": [
    "X_scaler"
   ]
  },
  {
   "cell_type": "code",
   "execution_count": 16,
   "id": "fd55dba2",
   "metadata": {
    "execution": {
     "iopub.execute_input": "2024-06-23T10:20:23.218858Z",
     "iopub.status.busy": "2024-06-23T10:20:23.218450Z",
     "iopub.status.idle": "2024-06-23T10:20:23.226261Z",
     "shell.execute_reply": "2024-06-23T10:20:23.225035Z"
    },
    "papermill": {
     "duration": 0.022412,
     "end_time": "2024-06-23T10:20:23.228656",
     "exception": false,
     "start_time": "2024-06-23T10:20:23.206244",
     "status": "completed"
    },
    "tags": []
   },
   "outputs": [
    {
     "data": {
      "text/plain": [
       "array([[3.400e+01, 5.280e+02, 1.887e+03, ..., 2.200e+02, 8.000e+00,\n",
       "        1.000e+00],\n",
       "       [2.600e+01, 1.246e+03, 2.570e+03, ..., 1.870e+02, 1.000e+01,\n",
       "        1.000e+00],\n",
       "       [3.400e+01, 3.170e+02, 1.486e+03, ..., 2.600e+01, 1.070e+02,\n",
       "        1.000e+00],\n",
       "       ...,\n",
       "       [4.900e+01, 4.800e+02, 2.460e+03, ..., 1.200e+01, 5.300e+01,\n",
       "        1.000e+00],\n",
       "       [2.700e+01, 1.082e+03, 1.209e+03, ..., 1.700e+01, 8.200e+01,\n",
       "        1.000e+00],\n",
       "       [9.000e+00, 1.575e+03, 2.784e+03, ..., 1.700e+01, 1.000e+01,\n",
       "        0.000e+00]])"
      ]
     },
     "execution_count": 16,
     "metadata": {},
     "output_type": "execute_result"
    }
   ],
   "source": [
    "test_encoder"
   ]
  },
  {
   "cell_type": "code",
   "execution_count": 17,
   "id": "c901771e",
   "metadata": {
    "execution": {
     "iopub.execute_input": "2024-06-23T10:20:23.253345Z",
     "iopub.status.busy": "2024-06-23T10:20:23.252916Z",
     "iopub.status.idle": "2024-06-23T10:20:23.271835Z",
     "shell.execute_reply": "2024-06-23T10:20:23.270809Z"
    },
    "papermill": {
     "duration": 0.034754,
     "end_time": "2024-06-23T10:20:23.274587",
     "exception": false,
     "start_time": "2024-06-23T10:20:23.239833",
     "status": "completed"
    },
    "tags": []
   },
   "outputs": [],
   "source": [
    "X_train,X_valid,y_train,y_valid=train_test_split(X_scaler,y,test_size=0.2,random_state=1)"
   ]
  },
  {
   "cell_type": "code",
   "execution_count": 18,
   "id": "abdd1a8a",
   "metadata": {
    "execution": {
     "iopub.execute_input": "2024-06-23T10:20:23.298472Z",
     "iopub.status.busy": "2024-06-23T10:20:23.298029Z",
     "iopub.status.idle": "2024-06-23T10:20:44.612461Z",
     "shell.execute_reply": "2024-06-23T10:20:44.610943Z"
    },
    "papermill": {
     "duration": 21.329502,
     "end_time": "2024-06-23T10:20:44.615159",
     "exception": false,
     "start_time": "2024-06-23T10:20:23.285657",
     "status": "completed"
    },
    "tags": []
   },
   "outputs": [
    {
     "name": "stdout",
     "output_type": "stream",
     "text": [
      "MAE:19924.38697951124\n",
      "R2_SCORE:-0.09967922639476545\n"
     ]
    }
   ],
   "source": [
    "from sklearn.metrics import mean_absolute_error,r2_score\n",
    "\n",
    "model_1=RandomForestRegressor(random_state=1)\n",
    "model_1.fit(X_train,y_train)\n",
    "y_pred=model_1.predict(X_valid)\n",
    "mae_1=mean_absolute_error(y_valid,y_pred)\n",
    "r2_score_1=r2_score(y_valid,y_pred)\n",
    "print(f\"MAE:{mae_1}\")\n",
    "print(f\"R2_SCORE:{r2_score_1}\")"
   ]
  },
  {
   "cell_type": "code",
   "execution_count": 19,
   "id": "68c8fbbc",
   "metadata": {
    "execution": {
     "iopub.execute_input": "2024-06-23T10:20:44.639978Z",
     "iopub.status.busy": "2024-06-23T10:20:44.639538Z",
     "iopub.status.idle": "2024-06-23T10:20:44.707249Z",
     "shell.execute_reply": "2024-06-23T10:20:44.705298Z"
    },
    "papermill": {
     "duration": 0.084811,
     "end_time": "2024-06-23T10:20:44.711736",
     "exception": false,
     "start_time": "2024-06-23T10:20:44.626925",
     "status": "completed"
    },
    "tags": []
   },
   "outputs": [
    {
     "name": "stdout",
     "output_type": "stream",
     "text": [
      "MAE:19114.30580576292\n",
      "R2_SCORE:0.08589498269151685\n"
     ]
    }
   ],
   "source": [
    "from sklearn.linear_model import LinearRegression\n",
    "\n",
    "model_2=LinearRegression()\n",
    "model_2.fit(X_train,y_train)\n",
    "y_pred_2=model_2.predict(X_valid)\n",
    "mae_2=mean_absolute_error(y_valid,y_pred_2)\n",
    "r2_score_2=r2_score(y_valid,y_pred_2)\n",
    "print(f\"MAE:{mae_2}\")\n",
    "print(f\"R2_SCORE:{r2_score_2}\")"
   ]
  },
  {
   "cell_type": "code",
   "execution_count": 20,
   "id": "e38b662c",
   "metadata": {
    "execution": {
     "iopub.execute_input": "2024-06-23T10:20:44.765830Z",
     "iopub.status.busy": "2024-06-23T10:20:44.765092Z",
     "iopub.status.idle": "2024-06-23T10:20:44.806109Z",
     "shell.execute_reply": "2024-06-23T10:20:44.804716Z"
    },
    "papermill": {
     "duration": 0.072856,
     "end_time": "2024-06-23T10:20:44.810061",
     "exception": false,
     "start_time": "2024-06-23T10:20:44.737205",
     "status": "completed"
    },
    "tags": []
   },
   "outputs": [
    {
     "name": "stdout",
     "output_type": "stream",
     "text": [
      "MAE:23771.037581830653\n",
      "R2_SCORE:0.02795523942819611\n"
     ]
    }
   ],
   "source": [
    "from sklearn.linear_model import ElasticNet\n",
    "\n",
    "model_3=ElasticNet()\n",
    "model_3.fit(X_train,y_train)\n",
    "y_pred_3=model_3.predict(X_valid)\n",
    "mae_3=mean_absolute_error(y_valid,y_pred_3)\n",
    "r2_score_3=r2_score(y_valid,y_pred_3)\n",
    "print(f\"MAE:{mae_3}\")\n",
    "print(f\"R2_SCORE:{r2_score_3}\")"
   ]
  },
  {
   "cell_type": "code",
   "execution_count": 21,
   "id": "dca0a864",
   "metadata": {
    "execution": {
     "iopub.execute_input": "2024-06-23T10:20:44.910036Z",
     "iopub.status.busy": "2024-06-23T10:20:44.908625Z",
     "iopub.status.idle": "2024-06-23T10:20:51.507073Z",
     "shell.execute_reply": "2024-06-23T10:20:51.505812Z"
    },
    "papermill": {
     "duration": 6.65622,
     "end_time": "2024-06-23T10:20:51.509785",
     "exception": false,
     "start_time": "2024-06-23T10:20:44.853565",
     "status": "completed"
    },
    "tags": []
   },
   "outputs": [
    {
     "name": "stdout",
     "output_type": "stream",
     "text": [
      "MAE:18315.9532270934\n",
      "R2_SCORE:0.0436720828261139\n"
     ]
    }
   ],
   "source": [
    "from catboost import CatBoostRegressor\n",
    "\n",
    "model_4=CatBoostRegressor(random_seed=1,verbose=0)\n",
    "model_4.fit(X_train,y_train)\n",
    "y_pred_4=model_4.predict(X_valid)\n",
    "mae_4=mean_absolute_error(y_valid,y_pred_4)\n",
    "r2_score_4=r2_score(y_valid,y_pred_4)\n",
    "print(f\"MAE:{mae_4}\")\n",
    "print(f\"R2_SCORE:{r2_score_4}\")"
   ]
  },
  {
   "cell_type": "code",
   "execution_count": 22,
   "id": "9790a2a8",
   "metadata": {
    "execution": {
     "iopub.execute_input": "2024-06-23T10:20:51.534798Z",
     "iopub.status.busy": "2024-06-23T10:20:51.534332Z",
     "iopub.status.idle": "2024-06-23T10:20:51.989516Z",
     "shell.execute_reply": "2024-06-23T10:20:51.988458Z"
    },
    "papermill": {
     "duration": 0.470746,
     "end_time": "2024-06-23T10:20:51.992186",
     "exception": false,
     "start_time": "2024-06-23T10:20:51.521440",
     "status": "completed"
    },
    "tags": []
   },
   "outputs": [
    {
     "name": "stdout",
     "output_type": "stream",
     "text": [
      "MAE:19006.28389422796\n",
      "R2_SCORE:0.002438414606792727\n"
     ]
    }
   ],
   "source": [
    "from xgboost import XGBRegressor\n",
    "\n",
    "model_5=XGBRegressor(random_state=1)\n",
    "model_5.fit(X_train,y_train)\n",
    "y_pred_5=model_5.predict(X_valid)\n",
    "mae_5=mean_absolute_error(y_valid,y_pred_5)\n",
    "r2_score_5=r2_score(y_valid,y_pred_5)\n",
    "print(f\"MAE:{mae_5}\")\n",
    "print(f\"R2_SCORE:{r2_score_5}\")"
   ]
  },
  {
   "cell_type": "code",
   "execution_count": 23,
   "id": "c0c11833",
   "metadata": {
    "execution": {
     "iopub.execute_input": "2024-06-23T10:20:52.018214Z",
     "iopub.status.busy": "2024-06-23T10:20:52.017491Z",
     "iopub.status.idle": "2024-06-23T10:20:56.883440Z",
     "shell.execute_reply": "2024-06-23T10:20:56.881766Z"
    },
    "papermill": {
     "duration": 4.882257,
     "end_time": "2024-06-23T10:20:56.886877",
     "exception": false,
     "start_time": "2024-06-23T10:20:52.004620",
     "status": "completed"
    },
    "tags": []
   },
   "outputs": [
    {
     "name": "stdout",
     "output_type": "stream",
     "text": [
      "MAE:17900.911983373415\n",
      "R2_SCORE:0.11635084461061451\n"
     ]
    }
   ],
   "source": [
    "from sklearn.ensemble import GradientBoostingRegressor\n",
    "\n",
    "model_6=GradientBoostingRegressor(random_state=1)\n",
    "model_6.fit(X_train,y_train)\n",
    "y_pred_6=model_6.predict(X_valid)\n",
    "mae_6=mean_absolute_error(y_valid,y_pred_6)\n",
    "r2_score_6=r2_score(y_valid,y_pred_6)\n",
    "print(f\"MAE:{mae_6}\")\n",
    "print(f\"R2_SCORE:{r2_score_6}\")"
   ]
  },
  {
   "cell_type": "code",
   "execution_count": 24,
   "id": "828b86c1",
   "metadata": {
    "execution": {
     "iopub.execute_input": "2024-06-23T10:20:56.915501Z",
     "iopub.status.busy": "2024-06-23T10:20:56.915050Z",
     "iopub.status.idle": "2024-06-23T10:20:56.922350Z",
     "shell.execute_reply": "2024-06-23T10:20:56.921221Z"
    },
    "papermill": {
     "duration": 0.023904,
     "end_time": "2024-06-23T10:20:56.924763",
     "exception": false,
     "start_time": "2024-06-23T10:20:56.900859",
     "status": "completed"
    },
    "tags": []
   },
   "outputs": [],
   "source": [
    "sample_submission_1=sample_submission.copy()\n",
    "sample_submission_2=sample_submission.copy()\n",
    "sample_submission_3=sample_submission.copy()"
   ]
  },
  {
   "cell_type": "code",
   "execution_count": 25,
   "id": "f0ec571a",
   "metadata": {
    "execution": {
     "iopub.execute_input": "2024-06-23T10:20:56.951541Z",
     "iopub.status.busy": "2024-06-23T10:20:56.951095Z",
     "iopub.status.idle": "2024-06-23T10:20:57.259164Z",
     "shell.execute_reply": "2024-06-23T10:20:57.257798Z"
    },
    "papermill": {
     "duration": 0.325805,
     "end_time": "2024-06-23T10:20:57.262340",
     "exception": false,
     "start_time": "2024-06-23T10:20:56.936535",
     "status": "completed"
    },
    "tags": []
   },
   "outputs": [],
   "source": [
    "sample_submission_1['price']=model_4.predict(test_scaler)\n",
    "sample_submission_2['price']=model_5.predict(test_scaler)\n",
    "sample_submission_3['price']=model_6.predict(test_scaler)"
   ]
  },
  {
   "cell_type": "code",
   "execution_count": 26,
   "id": "2388b48a",
   "metadata": {
    "execution": {
     "iopub.execute_input": "2024-06-23T10:20:57.289236Z",
     "iopub.status.busy": "2024-06-23T10:20:57.288792Z",
     "iopub.status.idle": "2024-06-23T10:20:57.629116Z",
     "shell.execute_reply": "2024-06-23T10:20:57.627768Z"
    },
    "papermill": {
     "duration": 0.35812,
     "end_time": "2024-06-23T10:20:57.632711",
     "exception": false,
     "start_time": "2024-06-23T10:20:57.274591",
     "status": "completed"
    },
    "tags": []
   },
   "outputs": [],
   "source": [
    "sample_submission_1.to_csv('submission_2.1.csv',index=False)\n",
    "sample_submission_2.to_csv('submission_2.2.csv',index=False)\n",
    "sample_submission_3.to_csv('submission_2.3.csv',index=False)"
   ]
  },
  {
   "cell_type": "code",
   "execution_count": 27,
   "id": "69ca4822",
   "metadata": {
    "execution": {
     "iopub.execute_input": "2024-06-23T10:20:57.669142Z",
     "iopub.status.busy": "2024-06-23T10:20:57.667962Z",
     "iopub.status.idle": "2024-06-23T10:20:59.010448Z",
     "shell.execute_reply": "2024-06-23T10:20:59.009377Z"
    },
    "papermill": {
     "duration": 1.363838,
     "end_time": "2024-06-23T10:20:59.013319",
     "exception": false,
     "start_time": "2024-06-23T10:20:57.649481",
     "status": "completed"
    },
    "tags": []
   },
   "outputs": [],
   "source": [
    "sample_submission['price']=model_1.predict(test_scaler)\n",
    "sample_submission.to_csv('submission.csv',index=False)"
   ]
  },
  {
   "cell_type": "code",
   "execution_count": null,
   "id": "41734d8b",
   "metadata": {
    "papermill": {
     "duration": 0.011134,
     "end_time": "2024-06-23T10:20:59.036381",
     "exception": false,
     "start_time": "2024-06-23T10:20:59.025247",
     "status": "completed"
    },
    "tags": []
   },
   "outputs": [],
   "source": []
  }
 ],
 "metadata": {
  "kaggle": {
   "accelerator": "none",
   "dataSources": [
    {
     "datasetId": 5266159,
     "sourceId": 8764439,
     "sourceType": "datasetVersion"
    }
   ],
   "dockerImageVersionId": 30732,
   "isGpuEnabled": false,
   "isInternetEnabled": true,
   "language": "python",
   "sourceType": "notebook"
  },
  "kernelspec": {
   "display_name": "Python 3",
   "language": "python",
   "name": "python3"
  },
  "language_info": {
   "codemirror_mode": {
    "name": "ipython",
    "version": 3
   },
   "file_extension": ".py",
   "mimetype": "text/x-python",
   "name": "python",
   "nbconvert_exporter": "python",
   "pygments_lexer": "ipython3",
   "version": "3.10.13"
  },
  "papermill": {
   "default_parameters": {},
   "duration": 59.11245,
   "end_time": "2024-06-23T10:21:01.383431",
   "environment_variables": {},
   "exception": null,
   "input_path": "__notebook__.ipynb",
   "output_path": "__notebook__.ipynb",
   "parameters": {},
   "start_time": "2024-06-23T10:20:02.270981",
   "version": "2.5.0"
  }
 },
 "nbformat": 4,
 "nbformat_minor": 5
}
