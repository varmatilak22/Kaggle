{
 "cells": [
  {
   "cell_type": "code",
   "execution_count": 1,
   "id": "c1db3bd2",
   "metadata": {
    "_cell_guid": "b1076dfc-b9ad-4769-8c92-a6c4dae69d19",
    "_uuid": "8f2839f25d086af736a60e9eeb907d3b93b6e0e5",
    "execution": {
     "iopub.execute_input": "2024-06-23T18:33:20.517899Z",
     "iopub.status.busy": "2024-06-23T18:33:20.517493Z",
     "iopub.status.idle": "2024-06-23T18:33:21.423953Z",
     "shell.execute_reply": "2024-06-23T18:33:21.422803Z"
    },
    "papermill": {
     "duration": 0.923541,
     "end_time": "2024-06-23T18:33:21.426555",
     "exception": false,
     "start_time": "2024-06-23T18:33:20.503014",
     "status": "completed"
    },
    "tags": []
   },
   "outputs": [
    {
     "name": "stdout",
     "output_type": "stream",
     "text": [
      "/kaggle/input/kagglex-assesssment-dataset/sample_submission.csv\n",
      "/kaggle/input/kagglex-assesssment-dataset/train.csv\n",
      "/kaggle/input/kagglex-assesssment-dataset/test.csv\n"
     ]
    }
   ],
   "source": [
    "# This Python 3 environment comes with many helpful analytics libraries installed\n",
    "# It is defined by the kaggle/python Docker image: https://github.com/kaggle/docker-python\n",
    "# For example, here's several helpful packages to load\n",
    "\n",
    "import numpy as np # linear algebra\n",
    "import pandas as pd # data processing, CSV file I/O (e.g. pd.read_csv)\n",
    "\n",
    "# Input data files are available in the read-only \"../input/\" directory\n",
    "# For example, running this (by clicking run or pressing Shift+Enter) will list all files under the input directory\n",
    "\n",
    "import os\n",
    "for dirname, _, filenames in os.walk('/kaggle/input'):\n",
    "    for filename in filenames:\n",
    "        print(os.path.join(dirname, filename))\n",
    "\n",
    "# You can write up to 20GB to the current directory (/kaggle/working/) that gets preserved as output when you create a version using \"Save & Run All\" \n",
    "# You can also write temporary files to /kaggle/temp/, but they won't be saved outside of the current session"
   ]
  },
  {
   "cell_type": "code",
   "execution_count": 2,
   "id": "21f6288f",
   "metadata": {
    "execution": {
     "iopub.execute_input": "2024-06-23T18:33:21.452713Z",
     "iopub.status.busy": "2024-06-23T18:33:21.452185Z",
     "iopub.status.idle": "2024-06-23T18:33:36.580771Z",
     "shell.execute_reply": "2024-06-23T18:33:36.579584Z"
    },
    "papermill": {
     "duration": 15.144675,
     "end_time": "2024-06-23T18:33:36.583671",
     "exception": false,
     "start_time": "2024-06-23T18:33:21.438996",
     "status": "completed"
    },
    "tags": []
   },
   "outputs": [
    {
     "name": "stderr",
     "output_type": "stream",
     "text": [
      "2024-06-23 18:33:24.604493: E external/local_xla/xla/stream_executor/cuda/cuda_dnn.cc:9261] Unable to register cuDNN factory: Attempting to register factory for plugin cuDNN when one has already been registered\n",
      "2024-06-23 18:33:24.604627: E external/local_xla/xla/stream_executor/cuda/cuda_fft.cc:607] Unable to register cuFFT factory: Attempting to register factory for plugin cuFFT when one has already been registered\n",
      "2024-06-23 18:33:24.831196: E external/local_xla/xla/stream_executor/cuda/cuda_blas.cc:1515] Unable to register cuBLAS factory: Attempting to register factory for plugin cuBLAS when one has already been registered\n"
     ]
    }
   ],
   "source": [
    "import pandas as pd\n",
    "import numpy as np\n",
    "import matplotlib.pyplot as plt\n",
    "import tensorflow as tf\n"
   ]
  },
  {
   "cell_type": "code",
   "execution_count": 3,
   "id": "5bcce582",
   "metadata": {
    "execution": {
     "iopub.execute_input": "2024-06-23T18:33:36.611821Z",
     "iopub.status.busy": "2024-06-23T18:33:36.610415Z",
     "iopub.status.idle": "2024-06-23T18:33:37.096689Z",
     "shell.execute_reply": "2024-06-23T18:33:37.095778Z"
    },
    "papermill": {
     "duration": 0.502707,
     "end_time": "2024-06-23T18:33:37.099368",
     "exception": false,
     "start_time": "2024-06-23T18:33:36.596661",
     "status": "completed"
    },
    "tags": []
   },
   "outputs": [],
   "source": [
    "train=pd.read_csv(\"/kaggle/input/kagglex-assesssment-dataset/train.csv\")\n",
    "test=pd.read_csv(\"/kaggle/input/kagglex-assesssment-dataset/test.csv\")\n",
    "sample_submission=pd.read_csv(\"/kaggle/input/kagglex-assesssment-dataset/sample_submission.csv\")"
   ]
  },
  {
   "cell_type": "code",
   "execution_count": 4,
   "id": "7c5b87ce",
   "metadata": {
    "execution": {
     "iopub.execute_input": "2024-06-23T18:33:37.125891Z",
     "iopub.status.busy": "2024-06-23T18:33:37.125467Z",
     "iopub.status.idle": "2024-06-23T18:33:37.160768Z",
     "shell.execute_reply": "2024-06-23T18:33:37.159424Z"
    },
    "papermill": {
     "duration": 0.051263,
     "end_time": "2024-06-23T18:33:37.163164",
     "exception": false,
     "start_time": "2024-06-23T18:33:37.111901",
     "status": "completed"
    },
    "tags": []
   },
   "outputs": [
    {
     "data": {
      "text/html": [
       "<div>\n",
       "<style scoped>\n",
       "    .dataframe tbody tr th:only-of-type {\n",
       "        vertical-align: middle;\n",
       "    }\n",
       "\n",
       "    .dataframe tbody tr th {\n",
       "        vertical-align: top;\n",
       "    }\n",
       "\n",
       "    .dataframe thead th {\n",
       "        text-align: right;\n",
       "    }\n",
       "</style>\n",
       "<table border=\"1\" class=\"dataframe\">\n",
       "  <thead>\n",
       "    <tr style=\"text-align: right;\">\n",
       "      <th></th>\n",
       "      <th>id</th>\n",
       "      <th>brand</th>\n",
       "      <th>model</th>\n",
       "      <th>model_year</th>\n",
       "      <th>milage</th>\n",
       "      <th>fuel_type</th>\n",
       "      <th>engine</th>\n",
       "      <th>transmission</th>\n",
       "      <th>ext_col</th>\n",
       "      <th>int_col</th>\n",
       "      <th>accident</th>\n",
       "      <th>clean_title</th>\n",
       "      <th>price</th>\n",
       "    </tr>\n",
       "  </thead>\n",
       "  <tbody>\n",
       "    <tr>\n",
       "      <th>0</th>\n",
       "      <td>0</td>\n",
       "      <td>Ford</td>\n",
       "      <td>F-150 Lariat</td>\n",
       "      <td>2018</td>\n",
       "      <td>74349</td>\n",
       "      <td>Gasoline</td>\n",
       "      <td>375.0HP 3.5L V6 Cylinder Engine Gasoline Fuel</td>\n",
       "      <td>10-Speed A/T</td>\n",
       "      <td>Blue</td>\n",
       "      <td>Gray</td>\n",
       "      <td>None reported</td>\n",
       "      <td>Yes</td>\n",
       "      <td>11000</td>\n",
       "    </tr>\n",
       "    <tr>\n",
       "      <th>1</th>\n",
       "      <td>1</td>\n",
       "      <td>BMW</td>\n",
       "      <td>335 i</td>\n",
       "      <td>2007</td>\n",
       "      <td>80000</td>\n",
       "      <td>Gasoline</td>\n",
       "      <td>300.0HP 3.0L Straight 6 Cylinder Engine Gasoli...</td>\n",
       "      <td>6-Speed M/T</td>\n",
       "      <td>Black</td>\n",
       "      <td>Black</td>\n",
       "      <td>None reported</td>\n",
       "      <td>Yes</td>\n",
       "      <td>8250</td>\n",
       "    </tr>\n",
       "    <tr>\n",
       "      <th>2</th>\n",
       "      <td>2</td>\n",
       "      <td>Jaguar</td>\n",
       "      <td>XF Luxury</td>\n",
       "      <td>2009</td>\n",
       "      <td>91491</td>\n",
       "      <td>Gasoline</td>\n",
       "      <td>300.0HP 4.2L 8 Cylinder Engine Gasoline Fuel</td>\n",
       "      <td>6-Speed A/T</td>\n",
       "      <td>Purple</td>\n",
       "      <td>Beige</td>\n",
       "      <td>None reported</td>\n",
       "      <td>Yes</td>\n",
       "      <td>15000</td>\n",
       "    </tr>\n",
       "    <tr>\n",
       "      <th>3</th>\n",
       "      <td>3</td>\n",
       "      <td>BMW</td>\n",
       "      <td>X7 xDrive40i</td>\n",
       "      <td>2022</td>\n",
       "      <td>2437</td>\n",
       "      <td>Hybrid</td>\n",
       "      <td>335.0HP 3.0L Straight 6 Cylinder Engine Gasoli...</td>\n",
       "      <td>Transmission w/Dual Shift Mode</td>\n",
       "      <td>Gray</td>\n",
       "      <td>Brown</td>\n",
       "      <td>None reported</td>\n",
       "      <td>Yes</td>\n",
       "      <td>63500</td>\n",
       "    </tr>\n",
       "    <tr>\n",
       "      <th>4</th>\n",
       "      <td>4</td>\n",
       "      <td>Pontiac</td>\n",
       "      <td>Firebird Base</td>\n",
       "      <td>2001</td>\n",
       "      <td>111000</td>\n",
       "      <td>Gasoline</td>\n",
       "      <td>200.0HP 3.8L V6 Cylinder Engine Gasoline Fuel</td>\n",
       "      <td>A/T</td>\n",
       "      <td>White</td>\n",
       "      <td>Black</td>\n",
       "      <td>None reported</td>\n",
       "      <td>Yes</td>\n",
       "      <td>7850</td>\n",
       "    </tr>\n",
       "    <tr>\n",
       "      <th>...</th>\n",
       "      <td>...</td>\n",
       "      <td>...</td>\n",
       "      <td>...</td>\n",
       "      <td>...</td>\n",
       "      <td>...</td>\n",
       "      <td>...</td>\n",
       "      <td>...</td>\n",
       "      <td>...</td>\n",
       "      <td>...</td>\n",
       "      <td>...</td>\n",
       "      <td>...</td>\n",
       "      <td>...</td>\n",
       "      <td>...</td>\n",
       "    </tr>\n",
       "    <tr>\n",
       "      <th>54268</th>\n",
       "      <td>54268</td>\n",
       "      <td>BMW</td>\n",
       "      <td>X6 xDrive50i</td>\n",
       "      <td>2017</td>\n",
       "      <td>29000</td>\n",
       "      <td>Gasoline</td>\n",
       "      <td>445.0HP 4.4L 8 Cylinder Engine Gasoline Fuel</td>\n",
       "      <td>8-Speed A/T</td>\n",
       "      <td>White</td>\n",
       "      <td>Brown</td>\n",
       "      <td>None reported</td>\n",
       "      <td>Yes</td>\n",
       "      <td>29000</td>\n",
       "    </tr>\n",
       "    <tr>\n",
       "      <th>54269</th>\n",
       "      <td>54269</td>\n",
       "      <td>Audi</td>\n",
       "      <td>A4 2.0T Premium</td>\n",
       "      <td>2015</td>\n",
       "      <td>94634</td>\n",
       "      <td>E85 Flex Fuel</td>\n",
       "      <td>220.0HP 2.0L 4 Cylinder Engine Flex Fuel Capab...</td>\n",
       "      <td>6-Speed A/T</td>\n",
       "      <td>Black</td>\n",
       "      <td>Black</td>\n",
       "      <td>At least 1 accident or damage reported</td>\n",
       "      <td>Yes</td>\n",
       "      <td>6500</td>\n",
       "    </tr>\n",
       "    <tr>\n",
       "      <th>54270</th>\n",
       "      <td>54270</td>\n",
       "      <td>Porsche</td>\n",
       "      <td>Cayenne S</td>\n",
       "      <td>2013</td>\n",
       "      <td>40989</td>\n",
       "      <td>Gasoline</td>\n",
       "      <td>420.0HP 3.6L V6 Cylinder Engine Gasoline Fuel</td>\n",
       "      <td>Transmission w/Dual Shift Mode</td>\n",
       "      <td>White</td>\n",
       "      <td>Black</td>\n",
       "      <td>At least 1 accident or damage reported</td>\n",
       "      <td>Yes</td>\n",
       "      <td>18950</td>\n",
       "    </tr>\n",
       "    <tr>\n",
       "      <th>54271</th>\n",
       "      <td>54271</td>\n",
       "      <td>Porsche</td>\n",
       "      <td>911 Carrera 4 GTS</td>\n",
       "      <td>2023</td>\n",
       "      <td>1518</td>\n",
       "      <td>Gasoline</td>\n",
       "      <td>4.0L H6 24V GDI DOHC</td>\n",
       "      <td>8-Speed Automatic with Auto-Shift</td>\n",
       "      <td>Beige</td>\n",
       "      <td>Brown</td>\n",
       "      <td>None reported</td>\n",
       "      <td>Yes</td>\n",
       "      <td>194965</td>\n",
       "    </tr>\n",
       "    <tr>\n",
       "      <th>54272</th>\n",
       "      <td>54272</td>\n",
       "      <td>Audi</td>\n",
       "      <td>A5 Sportback S line Premium Plus</td>\n",
       "      <td>2021</td>\n",
       "      <td>35000</td>\n",
       "      <td>Hybrid</td>\n",
       "      <td>261.0HP 2.0L 4 Cylinder Engine Gasoline/Mild E...</td>\n",
       "      <td>8-Speed A/T</td>\n",
       "      <td>Black</td>\n",
       "      <td>Black</td>\n",
       "      <td>None reported</td>\n",
       "      <td>Yes</td>\n",
       "      <td>37499</td>\n",
       "    </tr>\n",
       "  </tbody>\n",
       "</table>\n",
       "<p>54273 rows × 13 columns</p>\n",
       "</div>"
      ],
      "text/plain": [
       "          id    brand                             model  model_year  milage  \\\n",
       "0          0     Ford                      F-150 Lariat        2018   74349   \n",
       "1          1      BMW                             335 i        2007   80000   \n",
       "2          2   Jaguar                         XF Luxury        2009   91491   \n",
       "3          3      BMW                      X7 xDrive40i        2022    2437   \n",
       "4          4  Pontiac                     Firebird Base        2001  111000   \n",
       "...      ...      ...                               ...         ...     ...   \n",
       "54268  54268      BMW                      X6 xDrive50i        2017   29000   \n",
       "54269  54269     Audi                   A4 2.0T Premium        2015   94634   \n",
       "54270  54270  Porsche                         Cayenne S        2013   40989   \n",
       "54271  54271  Porsche                 911 Carrera 4 GTS        2023    1518   \n",
       "54272  54272     Audi  A5 Sportback S line Premium Plus        2021   35000   \n",
       "\n",
       "           fuel_type                                             engine  \\\n",
       "0           Gasoline      375.0HP 3.5L V6 Cylinder Engine Gasoline Fuel   \n",
       "1           Gasoline  300.0HP 3.0L Straight 6 Cylinder Engine Gasoli...   \n",
       "2           Gasoline       300.0HP 4.2L 8 Cylinder Engine Gasoline Fuel   \n",
       "3             Hybrid  335.0HP 3.0L Straight 6 Cylinder Engine Gasoli...   \n",
       "4           Gasoline      200.0HP 3.8L V6 Cylinder Engine Gasoline Fuel   \n",
       "...              ...                                                ...   \n",
       "54268       Gasoline       445.0HP 4.4L 8 Cylinder Engine Gasoline Fuel   \n",
       "54269  E85 Flex Fuel  220.0HP 2.0L 4 Cylinder Engine Flex Fuel Capab...   \n",
       "54270       Gasoline      420.0HP 3.6L V6 Cylinder Engine Gasoline Fuel   \n",
       "54271       Gasoline                               4.0L H6 24V GDI DOHC   \n",
       "54272         Hybrid  261.0HP 2.0L 4 Cylinder Engine Gasoline/Mild E...   \n",
       "\n",
       "                            transmission ext_col int_col  \\\n",
       "0                           10-Speed A/T    Blue    Gray   \n",
       "1                            6-Speed M/T   Black   Black   \n",
       "2                            6-Speed A/T  Purple   Beige   \n",
       "3         Transmission w/Dual Shift Mode    Gray   Brown   \n",
       "4                                    A/T   White   Black   \n",
       "...                                  ...     ...     ...   \n",
       "54268                        8-Speed A/T   White   Brown   \n",
       "54269                        6-Speed A/T   Black   Black   \n",
       "54270     Transmission w/Dual Shift Mode   White   Black   \n",
       "54271  8-Speed Automatic with Auto-Shift   Beige   Brown   \n",
       "54272                        8-Speed A/T   Black   Black   \n",
       "\n",
       "                                     accident clean_title   price  \n",
       "0                               None reported         Yes   11000  \n",
       "1                               None reported         Yes    8250  \n",
       "2                               None reported         Yes   15000  \n",
       "3                               None reported         Yes   63500  \n",
       "4                               None reported         Yes    7850  \n",
       "...                                       ...         ...     ...  \n",
       "54268                           None reported         Yes   29000  \n",
       "54269  At least 1 accident or damage reported         Yes    6500  \n",
       "54270  At least 1 accident or damage reported         Yes   18950  \n",
       "54271                           None reported         Yes  194965  \n",
       "54272                           None reported         Yes   37499  \n",
       "\n",
       "[54273 rows x 13 columns]"
      ]
     },
     "execution_count": 4,
     "metadata": {},
     "output_type": "execute_result"
    }
   ],
   "source": [
    "train"
   ]
  },
  {
   "cell_type": "code",
   "execution_count": 5,
   "id": "f9c910ff",
   "metadata": {
    "execution": {
     "iopub.execute_input": "2024-06-23T18:33:37.191192Z",
     "iopub.status.busy": "2024-06-23T18:33:37.190396Z",
     "iopub.status.idle": "2024-06-23T18:33:37.207246Z",
     "shell.execute_reply": "2024-06-23T18:33:37.206348Z"
    },
    "papermill": {
     "duration": 0.033696,
     "end_time": "2024-06-23T18:33:37.209750",
     "exception": false,
     "start_time": "2024-06-23T18:33:37.176054",
     "status": "completed"
    },
    "tags": []
   },
   "outputs": [],
   "source": [
    "train=train.drop(['id','model_year','clean_title'],axis=1)\n",
    "test=test.drop(['id','model_year','clean_title'],axis=1)"
   ]
  },
  {
   "cell_type": "code",
   "execution_count": 6,
   "id": "7997b8ed",
   "metadata": {
    "execution": {
     "iopub.execute_input": "2024-06-23T18:33:37.237081Z",
     "iopub.status.busy": "2024-06-23T18:33:37.236657Z",
     "iopub.status.idle": "2024-06-23T18:33:37.246319Z",
     "shell.execute_reply": "2024-06-23T18:33:37.245202Z"
    },
    "papermill": {
     "duration": 0.026191,
     "end_time": "2024-06-23T18:33:37.248905",
     "exception": false,
     "start_time": "2024-06-23T18:33:37.222714",
     "status": "completed"
    },
    "tags": []
   },
   "outputs": [],
   "source": [
    "y=train['price']\n",
    "X=train.drop(['price'],axis=1)"
   ]
  },
  {
   "cell_type": "code",
   "execution_count": 7,
   "id": "5592a760",
   "metadata": {
    "execution": {
     "iopub.execute_input": "2024-06-23T18:33:37.277435Z",
     "iopub.status.busy": "2024-06-23T18:33:37.277028Z",
     "iopub.status.idle": "2024-06-23T18:33:37.284776Z",
     "shell.execute_reply": "2024-06-23T18:33:37.283640Z"
    },
    "papermill": {
     "duration": 0.025139,
     "end_time": "2024-06-23T18:33:37.287311",
     "exception": false,
     "start_time": "2024-06-23T18:33:37.262172",
     "status": "completed"
    },
    "tags": []
   },
   "outputs": [
    {
     "data": {
      "text/plain": [
       "(Index(['brand', 'model', 'milage', 'fuel_type', 'engine', 'transmission',\n",
       "        'ext_col', 'int_col', 'accident'],\n",
       "       dtype='object'),\n",
       " Index(['brand', 'model', 'milage', 'fuel_type', 'engine', 'transmission',\n",
       "        'ext_col', 'int_col', 'accident', 'price'],\n",
       "       dtype='object'),\n",
       " Index(['brand', 'model', 'milage', 'fuel_type', 'engine', 'transmission',\n",
       "        'ext_col', 'int_col', 'accident'],\n",
       "       dtype='object'))"
      ]
     },
     "execution_count": 7,
     "metadata": {},
     "output_type": "execute_result"
    }
   ],
   "source": [
    "X.columns,train.columns,test.columns"
   ]
  },
  {
   "cell_type": "code",
   "execution_count": 8,
   "id": "e15342e2",
   "metadata": {
    "execution": {
     "iopub.execute_input": "2024-06-23T18:33:37.315932Z",
     "iopub.status.busy": "2024-06-23T18:33:37.315495Z",
     "iopub.status.idle": "2024-06-23T18:33:37.324395Z",
     "shell.execute_reply": "2024-06-23T18:33:37.323262Z"
    },
    "papermill": {
     "duration": 0.025519,
     "end_time": "2024-06-23T18:33:37.326640",
     "exception": false,
     "start_time": "2024-06-23T18:33:37.301121",
     "status": "completed"
    },
    "tags": []
   },
   "outputs": [
    {
     "data": {
      "text/plain": [
       "0         11000\n",
       "1          8250\n",
       "2         15000\n",
       "3         63500\n",
       "4          7850\n",
       "          ...  \n",
       "54268     29000\n",
       "54269      6500\n",
       "54270     18950\n",
       "54271    194965\n",
       "54272     37499\n",
       "Name: price, Length: 54273, dtype: int64"
      ]
     },
     "execution_count": 8,
     "metadata": {},
     "output_type": "execute_result"
    }
   ],
   "source": [
    "y"
   ]
  },
  {
   "cell_type": "code",
   "execution_count": 9,
   "id": "5de4b0ba",
   "metadata": {
    "execution": {
     "iopub.execute_input": "2024-06-23T18:33:37.355245Z",
     "iopub.status.busy": "2024-06-23T18:33:37.354265Z",
     "iopub.status.idle": "2024-06-23T18:33:38.390911Z",
     "shell.execute_reply": "2024-06-23T18:33:38.389951Z"
    },
    "papermill": {
     "duration": 1.053841,
     "end_time": "2024-06-23T18:33:38.393648",
     "exception": false,
     "start_time": "2024-06-23T18:33:37.339807",
     "status": "completed"
    },
    "tags": []
   },
   "outputs": [],
   "source": [
    "from sklearn.preprocessing import OrdinalEncoder"
   ]
  },
  {
   "cell_type": "code",
   "execution_count": 10,
   "id": "54a1c872",
   "metadata": {
    "execution": {
     "iopub.execute_input": "2024-06-23T18:33:38.421863Z",
     "iopub.status.busy": "2024-06-23T18:33:38.421462Z",
     "iopub.status.idle": "2024-06-23T18:33:38.725433Z",
     "shell.execute_reply": "2024-06-23T18:33:38.724497Z"
    },
    "papermill": {
     "duration": 0.321143,
     "end_time": "2024-06-23T18:33:38.728115",
     "exception": false,
     "start_time": "2024-06-23T18:33:38.406972",
     "status": "completed"
    },
    "tags": []
   },
   "outputs": [],
   "source": [
    "encoder=OrdinalEncoder()\n",
    "\n",
    "X_encode=encoder.fit_transform(X)\n",
    "test_encoder=encoder.fit_transform(test)"
   ]
  },
  {
   "cell_type": "code",
   "execution_count": 11,
   "id": "9bee16a6",
   "metadata": {
    "execution": {
     "iopub.execute_input": "2024-06-23T18:33:38.756285Z",
     "iopub.status.busy": "2024-06-23T18:33:38.755848Z",
     "iopub.status.idle": "2024-06-23T18:33:38.763983Z",
     "shell.execute_reply": "2024-06-23T18:33:38.762974Z"
    },
    "papermill": {
     "duration": 0.024906,
     "end_time": "2024-06-23T18:33:38.766283",
     "exception": false,
     "start_time": "2024-06-23T18:33:38.741377",
     "status": "completed"
    },
    "tags": []
   },
   "outputs": [
    {
     "data": {
      "text/plain": [
       "array([[1.400e+01, 6.440e+02, 2.070e+03, ..., 2.600e+01, 5.700e+01,\n",
       "        1.000e+00],\n",
       "       [4.000e+00, 4.900e+01, 2.187e+03, ..., 1.700e+01, 9.000e+00,\n",
       "        1.000e+00],\n",
       "       [2.100e+01, 1.771e+03, 2.376e+03, ..., 1.810e+02, 6.000e+00,\n",
       "        1.000e+00],\n",
       "       ...,\n",
       "       [4.100e+01, 4.210e+02, 1.372e+03, ..., 2.490e+02, 9.000e+00,\n",
       "        0.000e+00],\n",
       "       [4.100e+01, 1.420e+02, 8.900e+01, ..., 1.200e+01, 2.400e+01,\n",
       "        1.000e+00],\n",
       "       [3.000e+00, 1.760e+02, 1.208e+03, ..., 1.700e+01, 9.000e+00,\n",
       "        1.000e+00]])"
      ]
     },
     "execution_count": 11,
     "metadata": {},
     "output_type": "execute_result"
    }
   ],
   "source": [
    "X_encode"
   ]
  },
  {
   "cell_type": "code",
   "execution_count": 12,
   "id": "402a2662",
   "metadata": {
    "execution": {
     "iopub.execute_input": "2024-06-23T18:33:38.795898Z",
     "iopub.status.busy": "2024-06-23T18:33:38.795480Z",
     "iopub.status.idle": "2024-06-23T18:33:38.803297Z",
     "shell.execute_reply": "2024-06-23T18:33:38.802262Z"
    },
    "papermill": {
     "duration": 0.024957,
     "end_time": "2024-06-23T18:33:38.805646",
     "exception": false,
     "start_time": "2024-06-23T18:33:38.780689",
     "status": "completed"
    },
    "tags": []
   },
   "outputs": [
    {
     "data": {
      "text/plain": [
       "array([[3.400e+01, 5.280e+02, 1.887e+03, ..., 2.200e+02, 8.000e+00,\n",
       "        1.000e+00],\n",
       "       [2.600e+01, 1.246e+03, 2.570e+03, ..., 1.870e+02, 1.000e+01,\n",
       "        1.000e+00],\n",
       "       [3.400e+01, 3.170e+02, 1.486e+03, ..., 2.600e+01, 1.070e+02,\n",
       "        1.000e+00],\n",
       "       ...,\n",
       "       [4.900e+01, 4.800e+02, 2.460e+03, ..., 1.200e+01, 5.300e+01,\n",
       "        1.000e+00],\n",
       "       [2.700e+01, 1.082e+03, 1.209e+03, ..., 1.700e+01, 8.200e+01,\n",
       "        1.000e+00],\n",
       "       [9.000e+00, 1.575e+03, 2.784e+03, ..., 1.700e+01, 1.000e+01,\n",
       "        0.000e+00]])"
      ]
     },
     "execution_count": 12,
     "metadata": {},
     "output_type": "execute_result"
    }
   ],
   "source": [
    "test_encoder"
   ]
  },
  {
   "cell_type": "code",
   "execution_count": 13,
   "id": "7515451b",
   "metadata": {
    "execution": {
     "iopub.execute_input": "2024-06-23T18:33:38.834805Z",
     "iopub.status.busy": "2024-06-23T18:33:38.834035Z",
     "iopub.status.idle": "2024-06-23T18:33:39.421104Z",
     "shell.execute_reply": "2024-06-23T18:33:39.420027Z"
    },
    "papermill": {
     "duration": 0.604787,
     "end_time": "2024-06-23T18:33:39.424061",
     "exception": false,
     "start_time": "2024-06-23T18:33:38.819274",
     "status": "completed"
    },
    "tags": []
   },
   "outputs": [],
   "source": [
    "from sklearn.preprocessing import MinMaxScaler\n",
    "from sklearn.model_selection import train_test_split\n",
    "from sklearn.ensemble import RandomForestRegressor"
   ]
  },
  {
   "cell_type": "code",
   "execution_count": 14,
   "id": "df513e38",
   "metadata": {
    "execution": {
     "iopub.execute_input": "2024-06-23T18:33:39.452970Z",
     "iopub.status.busy": "2024-06-23T18:33:39.452537Z",
     "iopub.status.idle": "2024-06-23T18:33:39.479899Z",
     "shell.execute_reply": "2024-06-23T18:33:39.478952Z"
    },
    "papermill": {
     "duration": 0.044683,
     "end_time": "2024-06-23T18:33:39.482614",
     "exception": false,
     "start_time": "2024-06-23T18:33:39.437931",
     "status": "completed"
    },
    "tags": []
   },
   "outputs": [],
   "source": [
    "scaler=MinMaxScaler()\n",
    "\n",
    "X_scaler=scaler.fit_transform(X_encode)\n",
    "test_scaler=scaler.fit_transform(test_encoder)"
   ]
  },
  {
   "cell_type": "code",
   "execution_count": 15,
   "id": "a0a116e2",
   "metadata": {
    "execution": {
     "iopub.execute_input": "2024-06-23T18:33:39.511535Z",
     "iopub.status.busy": "2024-06-23T18:33:39.511131Z",
     "iopub.status.idle": "2024-06-23T18:33:39.518564Z",
     "shell.execute_reply": "2024-06-23T18:33:39.517517Z"
    },
    "papermill": {
     "duration": 0.024635,
     "end_time": "2024-06-23T18:33:39.520959",
     "exception": false,
     "start_time": "2024-06-23T18:33:39.496324",
     "status": "completed"
    },
    "tags": []
   },
   "outputs": [
    {
     "data": {
      "text/plain": [
       "array([[0.26923077, 0.35268346, 0.64465898, ..., 0.1003861 , 0.46341463,\n",
       "        1.        ],\n",
       "       [0.07692308, 0.02683461, 0.68109623, ..., 0.06563707, 0.07317073,\n",
       "        1.        ],\n",
       "       [0.40384615, 0.96987952, 0.7399564 , ..., 0.6988417 , 0.04878049,\n",
       "        1.        ],\n",
       "       ...,\n",
       "       [0.78846154, 0.2305586 , 0.42728122, ..., 0.96138996, 0.07317073,\n",
       "        0.        ],\n",
       "       [0.78846154, 0.07776561, 0.02771722, ..., 0.04633205, 0.19512195,\n",
       "        1.        ],\n",
       "       [0.05769231, 0.09638554, 0.37620679, ..., 0.06563707, 0.07317073,\n",
       "        1.        ]])"
      ]
     },
     "execution_count": 15,
     "metadata": {},
     "output_type": "execute_result"
    }
   ],
   "source": [
    "X_scaler"
   ]
  },
  {
   "cell_type": "code",
   "execution_count": 16,
   "id": "ed0ef0d5",
   "metadata": {
    "execution": {
     "iopub.execute_input": "2024-06-23T18:33:39.550329Z",
     "iopub.status.busy": "2024-06-23T18:33:39.549283Z",
     "iopub.status.idle": "2024-06-23T18:33:39.557947Z",
     "shell.execute_reply": "2024-06-23T18:33:39.556891Z"
    },
    "papermill": {
     "duration": 0.025567,
     "end_time": "2024-06-23T18:33:39.560132",
     "exception": false,
     "start_time": "2024-06-23T18:33:39.534565",
     "status": "completed"
    },
    "tags": []
   },
   "outputs": [
    {
     "data": {
      "text/plain": [
       "array([[3.400e+01, 5.280e+02, 1.887e+03, ..., 2.200e+02, 8.000e+00,\n",
       "        1.000e+00],\n",
       "       [2.600e+01, 1.246e+03, 2.570e+03, ..., 1.870e+02, 1.000e+01,\n",
       "        1.000e+00],\n",
       "       [3.400e+01, 3.170e+02, 1.486e+03, ..., 2.600e+01, 1.070e+02,\n",
       "        1.000e+00],\n",
       "       ...,\n",
       "       [4.900e+01, 4.800e+02, 2.460e+03, ..., 1.200e+01, 5.300e+01,\n",
       "        1.000e+00],\n",
       "       [2.700e+01, 1.082e+03, 1.209e+03, ..., 1.700e+01, 8.200e+01,\n",
       "        1.000e+00],\n",
       "       [9.000e+00, 1.575e+03, 2.784e+03, ..., 1.700e+01, 1.000e+01,\n",
       "        0.000e+00]])"
      ]
     },
     "execution_count": 16,
     "metadata": {},
     "output_type": "execute_result"
    }
   ],
   "source": [
    "test_encoder"
   ]
  },
  {
   "cell_type": "code",
   "execution_count": 17,
   "id": "42fe1bcd",
   "metadata": {
    "execution": {
     "iopub.execute_input": "2024-06-23T18:33:39.589952Z",
     "iopub.status.busy": "2024-06-23T18:33:39.589173Z",
     "iopub.status.idle": "2024-06-23T18:33:39.606171Z",
     "shell.execute_reply": "2024-06-23T18:33:39.605326Z"
    },
    "papermill": {
     "duration": 0.03451,
     "end_time": "2024-06-23T18:33:39.608588",
     "exception": false,
     "start_time": "2024-06-23T18:33:39.574078",
     "status": "completed"
    },
    "tags": []
   },
   "outputs": [],
   "source": [
    "X_train,X_valid,y_train,y_valid=train_test_split(X_scaler,y,test_size=0.2,random_state=1)"
   ]
  },
  {
   "cell_type": "code",
   "execution_count": 18,
   "id": "a7b266af",
   "metadata": {
    "execution": {
     "iopub.execute_input": "2024-06-23T18:33:39.638590Z",
     "iopub.status.busy": "2024-06-23T18:33:39.637563Z",
     "iopub.status.idle": "2024-06-23T18:34:00.784773Z",
     "shell.execute_reply": "2024-06-23T18:34:00.783722Z"
    },
    "papermill": {
     "duration": 21.164664,
     "end_time": "2024-06-23T18:34:00.787303",
     "exception": false,
     "start_time": "2024-06-23T18:33:39.622639",
     "status": "completed"
    },
    "tags": []
   },
   "outputs": [
    {
     "name": "stdout",
     "output_type": "stream",
     "text": [
      "MAE:19924.38697951124\n",
      "R2_SCORE:-0.09967922639476545\n"
     ]
    }
   ],
   "source": [
    "from sklearn.metrics import mean_absolute_error,r2_score\n",
    "\n",
    "model_1=RandomForestRegressor(random_state=1)\n",
    "model_1.fit(X_train,y_train)\n",
    "y_pred=model_1.predict(X_valid)\n",
    "mae_1=mean_absolute_error(y_valid,y_pred)\n",
    "r2_score_1=r2_score(y_valid,y_pred)\n",
    "print(f\"MAE:{mae_1}\")\n",
    "print(f\"R2_SCORE:{r2_score_1}\")"
   ]
  },
  {
   "cell_type": "code",
   "execution_count": 19,
   "id": "4931cee5",
   "metadata": {
    "execution": {
     "iopub.execute_input": "2024-06-23T18:34:00.817894Z",
     "iopub.status.busy": "2024-06-23T18:34:00.816780Z",
     "iopub.status.idle": "2024-06-23T18:34:00.882400Z",
     "shell.execute_reply": "2024-06-23T18:34:00.880713Z"
    },
    "papermill": {
     "duration": 0.085409,
     "end_time": "2024-06-23T18:34:00.886790",
     "exception": false,
     "start_time": "2024-06-23T18:34:00.801381",
     "status": "completed"
    },
    "tags": []
   },
   "outputs": [
    {
     "name": "stdout",
     "output_type": "stream",
     "text": [
      "MAE:19114.30580576292\n",
      "R2_SCORE:0.08589498269151685\n"
     ]
    }
   ],
   "source": [
    "from sklearn.linear_model import LinearRegression\n",
    "\n",
    "model_2=LinearRegression()\n",
    "model_2.fit(X_train,y_train)\n",
    "y_pred_2=model_2.predict(X_valid)\n",
    "mae_2=mean_absolute_error(y_valid,y_pred_2)\n",
    "r2_score_2=r2_score(y_valid,y_pred_2)\n",
    "print(f\"MAE:{mae_2}\")\n",
    "print(f\"R2_SCORE:{r2_score_2}\")"
   ]
  },
  {
   "cell_type": "code",
   "execution_count": 20,
   "id": "b2a4930d",
   "metadata": {
    "execution": {
     "iopub.execute_input": "2024-06-23T18:34:00.949250Z",
     "iopub.status.busy": "2024-06-23T18:34:00.948390Z",
     "iopub.status.idle": "2024-06-23T18:34:00.991242Z",
     "shell.execute_reply": "2024-06-23T18:34:00.989563Z"
    },
    "papermill": {
     "duration": 0.078836,
     "end_time": "2024-06-23T18:34:00.996212",
     "exception": false,
     "start_time": "2024-06-23T18:34:00.917376",
     "status": "completed"
    },
    "tags": []
   },
   "outputs": [
    {
     "name": "stdout",
     "output_type": "stream",
     "text": [
      "MAE:23771.037581830653\n",
      "R2_SCORE:0.02795523942819611\n"
     ]
    }
   ],
   "source": [
    "from sklearn.linear_model import ElasticNet\n",
    "\n",
    "model_3=ElasticNet()\n",
    "model_3.fit(X_train,y_train)\n",
    "y_pred_3=model_3.predict(X_valid)\n",
    "mae_3=mean_absolute_error(y_valid,y_pred_3)\n",
    "r2_score_3=r2_score(y_valid,y_pred_3)\n",
    "print(f\"MAE:{mae_3}\")\n",
    "print(f\"R2_SCORE:{r2_score_3}\")"
   ]
  },
  {
   "cell_type": "code",
   "execution_count": 21,
   "id": "695483dc",
   "metadata": {
    "execution": {
     "iopub.execute_input": "2024-06-23T18:34:01.093010Z",
     "iopub.status.busy": "2024-06-23T18:34:01.092377Z",
     "iopub.status.idle": "2024-06-23T18:34:07.532606Z",
     "shell.execute_reply": "2024-06-23T18:34:07.531507Z"
    },
    "papermill": {
     "duration": 6.486653,
     "end_time": "2024-06-23T18:34:07.535119",
     "exception": false,
     "start_time": "2024-06-23T18:34:01.048466",
     "status": "completed"
    },
    "tags": []
   },
   "outputs": [
    {
     "name": "stdout",
     "output_type": "stream",
     "text": [
      "MAE:18315.9532270934\n",
      "R2_SCORE:0.0436720828261139\n"
     ]
    }
   ],
   "source": [
    "from catboost import CatBoostRegressor\n",
    "\n",
    "model_4=CatBoostRegressor(random_seed=1,verbose=0)\n",
    "model_4.fit(X_train,y_train)\n",
    "y_pred_4=model_4.predict(X_valid)\n",
    "mae_4=mean_absolute_error(y_valid,y_pred_4)\n",
    "r2_score_4=r2_score(y_valid,y_pred_4)\n",
    "print(f\"MAE:{mae_4}\")\n",
    "print(f\"R2_SCORE:{r2_score_4}\")"
   ]
  },
  {
   "cell_type": "code",
   "execution_count": 22,
   "id": "d68df5c2",
   "metadata": {
    "execution": {
     "iopub.execute_input": "2024-06-23T18:34:07.565432Z",
     "iopub.status.busy": "2024-06-23T18:34:07.564917Z",
     "iopub.status.idle": "2024-06-23T18:34:07.948605Z",
     "shell.execute_reply": "2024-06-23T18:34:07.947757Z"
    },
    "papermill": {
     "duration": 0.401772,
     "end_time": "2024-06-23T18:34:07.951069",
     "exception": false,
     "start_time": "2024-06-23T18:34:07.549297",
     "status": "completed"
    },
    "tags": []
   },
   "outputs": [
    {
     "name": "stdout",
     "output_type": "stream",
     "text": [
      "MAE:19006.28389422796\n",
      "R2_SCORE:0.002438414606792727\n"
     ]
    }
   ],
   "source": [
    "from xgboost import XGBRegressor\n",
    "\n",
    "model_5=XGBRegressor(random_state=1)\n",
    "model_5.fit(X_train,y_train)\n",
    "y_pred_5=model_5.predict(X_valid)\n",
    "mae_5=mean_absolute_error(y_valid,y_pred_5)\n",
    "r2_score_5=r2_score(y_valid,y_pred_5)\n",
    "print(f\"MAE:{mae_5}\")\n",
    "print(f\"R2_SCORE:{r2_score_5}\")"
   ]
  },
  {
   "cell_type": "code",
   "execution_count": 23,
   "id": "c0747e79",
   "metadata": {
    "execution": {
     "iopub.execute_input": "2024-06-23T18:34:07.982782Z",
     "iopub.status.busy": "2024-06-23T18:34:07.981764Z",
     "iopub.status.idle": "2024-06-23T18:34:12.682897Z",
     "shell.execute_reply": "2024-06-23T18:34:12.681665Z"
    },
    "papermill": {
     "duration": 4.719433,
     "end_time": "2024-06-23T18:34:12.685727",
     "exception": false,
     "start_time": "2024-06-23T18:34:07.966294",
     "status": "completed"
    },
    "tags": []
   },
   "outputs": [
    {
     "name": "stdout",
     "output_type": "stream",
     "text": [
      "MAE:17900.911983373415\n",
      "R2_SCORE:0.11635084461061451\n"
     ]
    }
   ],
   "source": [
    "from sklearn.ensemble import GradientBoostingRegressor\n",
    "\n",
    "model_6=GradientBoostingRegressor(random_state=1)\n",
    "model_6.fit(X_train,y_train)\n",
    "y_pred_6=model_6.predict(X_valid)\n",
    "mae_6=mean_absolute_error(y_valid,y_pred_6)\n",
    "r2_score_6=r2_score(y_valid,y_pred_6)\n",
    "print(f\"MAE:{mae_6}\")\n",
    "print(f\"R2_SCORE:{r2_score_6}\")"
   ]
  },
  {
   "cell_type": "code",
   "execution_count": 24,
   "id": "ee99ffca",
   "metadata": {
    "execution": {
     "iopub.execute_input": "2024-06-23T18:34:12.718621Z",
     "iopub.status.busy": "2024-06-23T18:34:12.718228Z",
     "iopub.status.idle": "2024-06-23T18:34:12.789900Z",
     "shell.execute_reply": "2024-06-23T18:34:12.788732Z"
    },
    "papermill": {
     "duration": 0.091359,
     "end_time": "2024-06-23T18:34:12.793516",
     "exception": false,
     "start_time": "2024-06-23T18:34:12.702157",
     "status": "completed"
    },
    "tags": []
   },
   "outputs": [],
   "source": [
    "from sklearn.preprocessing import PolynomialFeatures\n",
    "\n",
    "poly=PolynomialFeatures(degree=2,interaction_only=False)\n",
    "X_poly=poly.fit_transform(X_scaler)\n",
    "test_poly=poly.fit_transform(test_scaler)"
   ]
  },
  {
   "cell_type": "code",
   "execution_count": 25,
   "id": "25b626f0",
   "metadata": {
    "execution": {
     "iopub.execute_input": "2024-06-23T18:34:12.824105Z",
     "iopub.status.busy": "2024-06-23T18:34:12.823668Z",
     "iopub.status.idle": "2024-06-23T18:34:12.846943Z",
     "shell.execute_reply": "2024-06-23T18:34:12.845788Z"
    },
    "papermill": {
     "duration": 0.041738,
     "end_time": "2024-06-23T18:34:12.849699",
     "exception": false,
     "start_time": "2024-06-23T18:34:12.807961",
     "status": "completed"
    },
    "tags": []
   },
   "outputs": [],
   "source": [
    "X_train_poly,X_valid_poly,y_train_poly,y_valid_poly=train_test_split(X_poly,y,test_size=0.2,random_state=1)"
   ]
  },
  {
   "cell_type": "code",
   "execution_count": 26,
   "id": "cc811496",
   "metadata": {
    "execution": {
     "iopub.execute_input": "2024-06-23T18:34:12.880828Z",
     "iopub.status.busy": "2024-06-23T18:34:12.880022Z",
     "iopub.status.idle": "2024-06-23T18:34:54.250541Z",
     "shell.execute_reply": "2024-06-23T18:34:54.249335Z"
    },
    "papermill": {
     "duration": 41.402412,
     "end_time": "2024-06-23T18:34:54.266687",
     "exception": false,
     "start_time": "2024-06-23T18:34:12.864275",
     "status": "completed"
    },
    "tags": []
   },
   "outputs": [
    {
     "name": "stdout",
     "output_type": "stream",
     "text": [
      "MAE:18068.785791317718\n",
      "R2_SCORE:0.0816289808765498\n"
     ]
    }
   ],
   "source": [
    "model_6.fit(X_train_poly,y_train_poly)\n",
    "y_pred_poly=model_6.predict(X_valid_poly)\n",
    "mae_poly=mean_absolute_error(y_valid_poly,y_pred_poly)\n",
    "r2_score_poly=r2_score(y_valid_poly,y_pred_poly)\n",
    "print(f\"MAE:{mae_poly}\")\n",
    "print(f\"R2_SCORE:{r2_score_poly}\")"
   ]
  },
  {
   "cell_type": "code",
   "execution_count": 27,
   "id": "0e402268",
   "metadata": {
    "execution": {
     "iopub.execute_input": "2024-06-23T18:34:54.296817Z",
     "iopub.status.busy": "2024-06-23T18:34:54.296371Z",
     "iopub.status.idle": "2024-06-23T18:34:54.482640Z",
     "shell.execute_reply": "2024-06-23T18:34:54.481414Z"
    },
    "papermill": {
     "duration": 0.204598,
     "end_time": "2024-06-23T18:34:54.485488",
     "exception": false,
     "start_time": "2024-06-23T18:34:54.280890",
     "status": "completed"
    },
    "tags": []
   },
   "outputs": [],
   "source": [
    "sample_submission['price']=model_6.predict(test_poly)\n",
    "sample_submission.to_csv('submission_7.csv',index=False)"
   ]
  },
  {
   "cell_type": "code",
   "execution_count": 28,
   "id": "5dff0d76",
   "metadata": {
    "execution": {
     "iopub.execute_input": "2024-06-23T18:34:54.516121Z",
     "iopub.status.busy": "2024-06-23T18:34:54.515695Z",
     "iopub.status.idle": "2024-06-23T18:34:54.662993Z",
     "shell.execute_reply": "2024-06-23T18:34:54.661619Z"
    },
    "papermill": {
     "duration": 0.166912,
     "end_time": "2024-06-23T18:34:54.666882",
     "exception": false,
     "start_time": "2024-06-23T18:34:54.499970",
     "status": "completed"
    },
    "tags": []
   },
   "outputs": [
    {
     "name": "stdout",
     "output_type": "stream",
     "text": [
      "MAE:18309.89264583438\n",
      "R2_SCORE:0.0947567178474985\n"
     ]
    }
   ],
   "source": [
    "model_2.fit(X_train_poly,y_train_poly)\n",
    "y_pred_poly_2=model_2.predict(X_valid_poly)\n",
    "mae_poly_2=mean_absolute_error(y_valid_poly,y_pred_poly_2)\n",
    "r2_score_poly_2=r2_score(y_valid_poly,y_pred_poly_2)\n",
    "print(f\"MAE:{mae_poly_2}\")\n",
    "print(f\"R2_SCORE:{r2_score_poly_2}\")"
   ]
  },
  {
   "cell_type": "code",
   "execution_count": 29,
   "id": "a2406c08",
   "metadata": {
    "execution": {
     "iopub.execute_input": "2024-06-23T18:34:54.781132Z",
     "iopub.status.busy": "2024-06-23T18:34:54.779922Z",
     "iopub.status.idle": "2024-06-23T18:34:54.969218Z",
     "shell.execute_reply": "2024-06-23T18:34:54.968085Z"
    },
    "papermill": {
     "duration": 0.245606,
     "end_time": "2024-06-23T18:34:54.971812",
     "exception": false,
     "start_time": "2024-06-23T18:34:54.726206",
     "status": "completed"
    },
    "tags": []
   },
   "outputs": [],
   "source": [
    "sample_submission['price']=model_2.predict(test_poly)\n",
    "sample_submission.to_csv('submission_8.csv',index=False)"
   ]
  },
  {
   "cell_type": "code",
   "execution_count": 30,
   "id": "caa0f258",
   "metadata": {
    "execution": {
     "iopub.execute_input": "2024-06-23T18:34:55.002620Z",
     "iopub.status.busy": "2024-06-23T18:34:55.001907Z",
     "iopub.status.idle": "2024-06-23T18:34:55.274141Z",
     "shell.execute_reply": "2024-06-23T18:34:55.272662Z"
    },
    "papermill": {
     "duration": 0.291679,
     "end_time": "2024-06-23T18:34:55.277823",
     "exception": false,
     "start_time": "2024-06-23T18:34:54.986144",
     "status": "completed"
    },
    "tags": []
   },
   "outputs": [
    {
     "name": "stdout",
     "output_type": "stream",
     "text": [
      "MAE SCORES FOR EACH FOLD:[19114.305805762902, 18831.405248384326, 18782.291936728227, 19536.566730511262, 18701.65309824366]\n",
      "MEAN MAE:18993.244563926077\n"
     ]
    }
   ],
   "source": [
    "from sklearn.model_selection import KFold,cross_val_score\n",
    "\n",
    "kf=KFold(n_splits=5,shuffle=True,random_state=1)\n",
    "mae_scores=[]\n",
    "\n",
    "#Perform cross-validation\n",
    "for train_index,val_index in kf.split(X_scaler):\n",
    "    X_train_cross,X_valid_cross=X_scaler[train_index],X_scaler[val_index]\n",
    "    y_train_cross,y_valid_cross=y[train_index],y[val_index]\n",
    "    \n",
    "    #Fit the model\n",
    "    model_2.fit(X_train_cross,y_train_cross)\n",
    "    \n",
    "    #Predict on the validation set\n",
    "    y_pred_cross=model_2.predict(X_valid_cross)\n",
    "    \n",
    "    mae_cross=mean_absolute_error(y_valid_cross,y_pred_cross)\n",
    "    mae_scores.append(mae_cross)\n",
    "    \n",
    "#mae for kFolds\n",
    "print(f'MAE SCORES FOR EACH FOLD:{mae_scores}')\n",
    "print(f\"MEAN MAE:{np.mean(mae_scores)}\")"
   ]
  },
  {
   "cell_type": "code",
   "execution_count": 31,
   "id": "c92d7b90",
   "metadata": {
    "execution": {
     "iopub.execute_input": "2024-06-23T18:34:55.339614Z",
     "iopub.status.busy": "2024-06-23T18:34:55.338933Z",
     "iopub.status.idle": "2024-06-23T18:34:55.349686Z",
     "shell.execute_reply": "2024-06-23T18:34:55.348185Z"
    },
    "papermill": {
     "duration": 0.046886,
     "end_time": "2024-06-23T18:34:55.353879",
     "exception": false,
     "start_time": "2024-06-23T18:34:55.306993",
     "status": "completed"
    },
    "tags": []
   },
   "outputs": [
    {
     "data": {
      "text/plain": [
       "54273"
      ]
     },
     "execution_count": 31,
     "metadata": {},
     "output_type": "execute_result"
    }
   ],
   "source": [
    "len(X_scaler)"
   ]
  },
  {
   "cell_type": "code",
   "execution_count": 32,
   "id": "6ed2977a",
   "metadata": {
    "execution": {
     "iopub.execute_input": "2024-06-23T18:34:55.410600Z",
     "iopub.status.busy": "2024-06-23T18:34:55.410172Z",
     "iopub.status.idle": "2024-06-23T18:34:55.416891Z",
     "shell.execute_reply": "2024-06-23T18:34:55.415912Z"
    },
    "papermill": {
     "duration": 0.025134,
     "end_time": "2024-06-23T18:34:55.419167",
     "exception": false,
     "start_time": "2024-06-23T18:34:55.394033",
     "status": "completed"
    },
    "tags": []
   },
   "outputs": [
    {
     "data": {
      "text/plain": [
       "2713.65"
      ]
     },
     "execution_count": 32,
     "metadata": {},
     "output_type": "execute_result"
    }
   ],
   "source": [
    "54273/20"
   ]
  },
  {
   "cell_type": "code",
   "execution_count": 33,
   "id": "fec75773",
   "metadata": {
    "execution": {
     "iopub.execute_input": "2024-06-23T18:34:55.451105Z",
     "iopub.status.busy": "2024-06-23T18:34:55.450688Z",
     "iopub.status.idle": "2024-06-23T18:35:02.574724Z",
     "shell.execute_reply": "2024-06-23T18:35:02.573464Z"
    },
    "papermill": {
     "duration": 7.143621,
     "end_time": "2024-06-23T18:35:02.577839",
     "exception": false,
     "start_time": "2024-06-23T18:34:55.434218",
     "status": "completed"
    },
    "tags": []
   },
   "outputs": [
    {
     "name": "stdout",
     "output_type": "stream",
     "text": [
      "[LightGBM] [Info] Auto-choosing col-wise multi-threading, the overhead of testing was 0.005821 seconds.\n",
      "You can set `force_col_wise=true` to remove the overhead.\n",
      "[LightGBM] [Info] Total Bins 1131\n",
      "[LightGBM] [Info] Number of data points in the train set: 43418, number of used features: 9\n",
      "[LightGBM] [Info] Start training from score 39045.125869\n",
      "MAE:19432.83559522172\n",
      "R2_SCORE:0.10245686989677072\n"
     ]
    }
   ],
   "source": [
    "import lightgbm as lgb\n",
    "\n",
    "model_7=lgb.LGBMRegressor(n_estimators=1000,learning_rate=0.05)\n",
    "model_7.fit(X_train,y_train)\n",
    "y_pred_7=model_7.predict(X_valid)\n",
    "mae_7=mean_absolute_error(y_valid,y_pred_7)\n",
    "r2_score_7=r2_score(y_valid,y_pred_7)\n",
    "print(f\"MAE:{mae_7}\")\n",
    "print(f\"R2_SCORE:{r2_score_7}\")"
   ]
  },
  {
   "cell_type": "code",
   "execution_count": 34,
   "id": "0ee35fdc",
   "metadata": {
    "execution": {
     "iopub.execute_input": "2024-06-23T18:35:02.610948Z",
     "iopub.status.busy": "2024-06-23T18:35:02.610174Z",
     "iopub.status.idle": "2024-06-23T18:35:21.825396Z",
     "shell.execute_reply": "2024-06-23T18:35:21.824307Z"
    },
    "papermill": {
     "duration": 19.234378,
     "end_time": "2024-06-23T18:35:21.828171",
     "exception": false,
     "start_time": "2024-06-23T18:35:02.593793",
     "status": "completed"
    },
    "tags": []
   },
   "outputs": [
    {
     "name": "stdout",
     "output_type": "stream",
     "text": [
      "[LightGBM] [Info] Auto-choosing col-wise multi-threading, the overhead of testing was 0.051425 seconds.\n",
      "You can set `force_col_wise=true` to remove the overhead.\n",
      "[LightGBM] [Info] Total Bins 9613\n",
      "[LightGBM] [Info] Number of data points in the train set: 43418, number of used features: 54\n",
      "[LightGBM] [Info] Start training from score 39045.125869\n",
      "MAE_poly:19432.83559522172\n",
      "R2_SCORE_poly:0.10245686989677072\n"
     ]
    }
   ],
   "source": [
    "model_7.fit(X_train_poly,y_train_poly)\n",
    "y_pred_poly_7=model_7.predict(X_valid_poly)\n",
    "mae_poly_7=mean_absolute_error(y_valid_poly,y_pred_poly_7)\n",
    "r2_score_poly_7=r2_score(y_valid_poly,y_pred_poly_7)\n",
    "print(f\"MAE_poly:{mae_7}\")\n",
    "print(f\"R2_SCORE_poly:{r2_score_7}\")"
   ]
  },
  {
   "cell_type": "code",
   "execution_count": 35,
   "id": "fb8749ef",
   "metadata": {
    "execution": {
     "iopub.execute_input": "2024-06-23T18:35:21.860708Z",
     "iopub.status.busy": "2024-06-23T18:35:21.860276Z",
     "iopub.status.idle": "2024-06-23T18:35:23.697264Z",
     "shell.execute_reply": "2024-06-23T18:35:23.696003Z"
    },
    "papermill": {
     "duration": 1.856353,
     "end_time": "2024-06-23T18:35:23.699950",
     "exception": false,
     "start_time": "2024-06-23T18:35:21.843597",
     "status": "completed"
    },
    "tags": []
   },
   "outputs": [
    {
     "name": "stdout",
     "output_type": "stream",
     "text": [
      "MAE:18935.129258406265\n",
      "R2_SCORE:0.06199184526820134\n"
     ]
    }
   ],
   "source": [
    "from sklearn.neighbors import KNeighborsRegressor\n",
    "\n",
    "model_8=KNeighborsRegressor(n_neighbors=10,\n",
    "                           weights='uniform',\n",
    "                           algorithm='kd_tree',\n",
    "                           leaf_size=30,\n",
    "                           p=1)\n",
    "model_8.fit(X_train,y_train)\n",
    "y_pred_8=model_8.predict(X_valid)\n",
    "mae_8=mean_absolute_error(y_valid,y_pred_8)\n",
    "r2_score_8=r2_score(y_valid,y_pred_8)\n",
    "print(f\"MAE:{mae_8}\")\n",
    "print(f\"R2_SCORE:{r2_score_8}\")"
   ]
  },
  {
   "cell_type": "code",
   "execution_count": 36,
   "id": "28d3ff0b",
   "metadata": {
    "execution": {
     "iopub.execute_input": "2024-06-23T18:35:23.732357Z",
     "iopub.status.busy": "2024-06-23T18:35:23.731955Z",
     "iopub.status.idle": "2024-06-23T18:35:23.811160Z",
     "shell.execute_reply": "2024-06-23T18:35:23.809671Z"
    },
    "papermill": {
     "duration": 0.099321,
     "end_time": "2024-06-23T18:35:23.814736",
     "exception": false,
     "start_time": "2024-06-23T18:35:23.715415",
     "status": "completed"
    },
    "tags": []
   },
   "outputs": [
    {
     "name": "stdout",
     "output_type": "stream",
     "text": [
      "MAE:18493.363758170988\n",
      "R2_SCORE:0.084079028404078\n"
     ]
    }
   ],
   "source": [
    "from sklearn.linear_model import SGDRegressor\n",
    "\n",
    "model_9=SGDRegressor(loss='squared_epsilon_insensitive',\n",
    "                     penalty='l2',\n",
    "                     alpha=0.01,\n",
    "                     max_iter=1000,\n",
    "                     tol=1e-3,\n",
    "                     verbose=0,\n",
    "                     epsilon=0.01,\n",
    "                     learning_rate='constant',\n",
    "                     eta0=0.001,\n",
    "                     power_t=0.25,\n",
    "                     early_stopping=True,\n",
    "                     validation_fraction=0.2,\n",
    "                     random_state=1)\n",
    "model_9.fit(X_train,y_train)\n",
    "y_pred_9=model_9.predict(X_valid)\n",
    "mae_9=mean_absolute_error(y_valid,y_pred_9)\n",
    "r2_score_9=r2_score(y_valid,y_pred_9)\n",
    "print(f\"MAE:{mae_9}\")\n",
    "print(f\"R2_SCORE:{r2_score_9}\")"
   ]
  },
  {
   "cell_type": "code",
   "execution_count": 37,
   "id": "68573542",
   "metadata": {
    "execution": {
     "iopub.execute_input": "2024-06-23T18:35:23.882335Z",
     "iopub.status.busy": "2024-06-23T18:35:23.881668Z",
     "iopub.status.idle": "2024-06-23T18:35:24.072867Z",
     "shell.execute_reply": "2024-06-23T18:35:24.071624Z"
    },
    "papermill": {
     "duration": 0.228056,
     "end_time": "2024-06-23T18:35:24.075584",
     "exception": false,
     "start_time": "2024-06-23T18:35:23.847528",
     "status": "completed"
    },
    "tags": []
   },
   "outputs": [],
   "source": [
    "sample_submission['price']=model_9.predict(test_scaler)\n",
    "sample_submission.to_csv(\"submission_9.csv\",index=False)"
   ]
  },
  {
   "cell_type": "code",
   "execution_count": null,
   "id": "97c4d432",
   "metadata": {
    "papermill": {
     "duration": 0.015533,
     "end_time": "2024-06-23T18:35:24.106633",
     "exception": false,
     "start_time": "2024-06-23T18:35:24.091100",
     "status": "completed"
    },
    "tags": []
   },
   "outputs": [],
   "source": []
  }
 ],
 "metadata": {
  "kaggle": {
   "accelerator": "none",
   "dataSources": [
    {
     "datasetId": 5266159,
     "sourceId": 8764439,
     "sourceType": "datasetVersion"
    }
   ],
   "dockerImageVersionId": 30732,
   "isGpuEnabled": false,
   "isInternetEnabled": true,
   "language": "python",
   "sourceType": "notebook"
  },
  "kernelspec": {
   "display_name": "Python 3",
   "language": "python",
   "name": "python3"
  },
  "language_info": {
   "codemirror_mode": {
    "name": "ipython",
    "version": 3
   },
   "file_extension": ".py",
   "mimetype": "text/x-python",
   "name": "python",
   "nbconvert_exporter": "python",
   "pygments_lexer": "ipython3",
   "version": "3.10.13"
  },
  "papermill": {
   "default_parameters": {},
   "duration": 129.137173,
   "end_time": "2024-06-23T18:35:26.606452",
   "environment_variables": {},
   "exception": null,
   "input_path": "__notebook__.ipynb",
   "output_path": "__notebook__.ipynb",
   "parameters": {},
   "start_time": "2024-06-23T18:33:17.469279",
   "version": "2.5.0"
  }
 },
 "nbformat": 4,
 "nbformat_minor": 5
}
